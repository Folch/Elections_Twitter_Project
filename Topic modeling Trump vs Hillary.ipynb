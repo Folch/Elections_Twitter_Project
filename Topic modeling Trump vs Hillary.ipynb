{
 "cells": [
  {
   "cell_type": "code",
   "execution_count": 1,
   "metadata": {},
   "outputs": [
    {
     "name": "stderr",
     "output_type": "stream",
     "text": [
      "C:\\ProgramData\\Anaconda3\\lib\\site-packages\\gensim\\utils.py:1209: UserWarning: detected Windows; aliasing chunkize to chunkize_serial\n",
      "  warnings.warn(\"detected Windows; aliasing chunkize to chunkize_serial\")\n"
     ]
    }
   ],
   "source": [
    "import pandas as pd\n",
    "import json\n",
    "import time\n",
    "import matplotlib\n",
    "import matplotlib.pyplot as plt\n",
    "import re\n",
    "import numpy as np\n",
    "from nltk.tokenize import RegexpTokenizer\n",
    "import nltk\n",
    "# Import all the libraries required\n",
    "import os\n",
    "import pandas as pd\n",
    "import matplotlib.cm as cm\n",
    "from matplotlib.colors import rgb2hex\n",
    "from descartes import PolygonPatch\n",
    "from shapely.geometry import Polygon, MultiPolygon\n",
    "# Importing Gensim\n",
    "import gensim\n",
    "from gensim import corpora\n",
    "import time\n",
    "from nltk.corpus import stopwords \n",
    "from nltk.stem.wordnet import WordNetLemmatizer\n",
    "import string"
   ]
  },
  {
   "cell_type": "markdown",
   "metadata": {},
   "source": [
    "## What topics come up from the tweets that talk about Hillary and Trump separately?"
   ]
  },
  {
   "cell_type": "code",
   "execution_count": 2,
   "metadata": {},
   "outputs": [],
   "source": [
    "tweets_data = []\n",
    "\n",
    "#with open('tweets_reduced_10000.jsons', 'r') as tweets_file:\n",
    "#with open('geotagged_tweets_20160812-0912.jsons', 'r') as tweets_file:\n",
    "#with open('customTweets.jsons', 'r') as tweets_file:\n",
    "with open('customTweetsWithSentiment2.jsons', 'r') as tweets_file:\n",
    "    for line in tweets_file:\n",
    "        try:\n",
    "            tweet = json.loads(line)\n",
    "            tweets_data.append(tweet)\n",
    "        except Exception as e:\n",
    "            print (e)\n",
    "            continue"
   ]
  },
  {
   "cell_type": "markdown",
   "metadata": {},
   "source": [
    "### Splitting tweets"
   ]
  },
  {
   "cell_type": "code",
   "execution_count": 3,
   "metadata": {},
   "outputs": [],
   "source": [
    "tweets_trump = [tweet['text'] for tweet in tweets_data if tweet['talk'] == 'trump' and tweet['place'] != None and tweet['place']['country_code'] == 'US']\n",
    "tweets_hillary = [tweet['text'] for tweet in tweets_data if tweet['talk'] == 'hillary' and tweet['place'] != None and tweet['place']['country_code'] == 'US']"
   ]
  },
  {
   "cell_type": "code",
   "execution_count": 4,
   "metadata": {},
   "outputs": [
    {
     "name": "stdout",
     "output_type": "stream",
     "text": [
      "Trump only:   339787\n",
      "Hillary only: 144882\n"
     ]
    }
   ],
   "source": [
    "print('Trump only:   ' + str(len(tweets_trump)))\n",
    "print('Hillary only: ' + str(len(tweets_hillary)))"
   ]
  },
  {
   "cell_type": "markdown",
   "metadata": {},
   "source": [
    "### Cleaning"
   ]
  },
  {
   "cell_type": "code",
   "execution_count": 6,
   "metadata": {},
   "outputs": [],
   "source": [
    "# A function that removes the hyperlinks from the tweet's content.\n",
    "def remove_link(tweet):\n",
    "    return re.sub(r\"http\\S+\", \"\", tweet)\n",
    "\n",
    "def remove_hashtags(tweet):\n",
    "    return re.sub('#', '', tweet)\n",
    "\n",
    "def remove_entire_hashtags(tweet):\n",
    "    return re.sub(r'(?:\\s|^)#[A-Za-z0-9\\-\\.\\_]+(?:\\s|$)', ' ', tweet).strip()\n",
    "\n",
    "def remove_mentions(tweet):\n",
    "    return \" \".join(re.sub(\"(?:\\@|https?\\://)\\S+\",\" \",tweet).split())\n",
    "\n",
    "\n",
    "def remove_non_az_characters(tweet):\n",
    "    return \" \".join(re.sub('[^a-zA-Z]',\" \",tweet).split())"
   ]
  },
  {
   "cell_type": "code",
   "execution_count": 66,
   "metadata": {},
   "outputs": [
    {
     "data": {
      "text/plain": [
       "'hello how is #angry'"
      ]
     },
     "execution_count": 66,
     "metadata": {},
     "output_type": "execute_result"
    }
   ],
   "source": [
    "remove_mentions(\"hello @you how is @Albert? #angry https://google.com \")"
   ]
  },
  {
   "cell_type": "code",
   "execution_count": 73,
   "metadata": {},
   "outputs": [
    {
     "data": {
      "text/plain": [
       "'hello you how is Albert angry https google com'"
      ]
     },
     "execution_count": 73,
     "metadata": {},
     "output_type": "execute_result"
    }
   ],
   "source": [
    "remove_non_az_characters(\"hello 45 @you how is @Albert? #angry https://google.com \")"
   ]
  },
  {
   "cell_type": "code",
   "execution_count": 44,
   "metadata": {},
   "outputs": [
    {
     "data": {
      "text/plain": [
       "'hello you'"
      ]
     },
     "execution_count": 44,
     "metadata": {},
     "output_type": "execute_result"
    }
   ],
   "source": [
    "remove_entire_hashtags('#start hello #angry you #bye')"
   ]
  },
  {
   "cell_type": "code",
   "execution_count": 7,
   "metadata": {},
   "outputs": [
    {
     "name": "stdout",
     "output_type": "stream",
     "text": [
      "Come to Jesus meeting!!!! What on earth is that supposed to be? 😔 https://t.co/a3lOpTtFig\n",
      "😔\n",
      "Come to Jesus meeting!!!! What on earth is that supposed to be?  https://t.co/a3lOpTtFig\n"
     ]
    }
   ],
   "source": [
    "# https://pypi.org/project/emoji/\n",
    "\n",
    "import emoji\n",
    "\n",
    "def extract_emojis(str):\n",
    "    return ''.join(c for c in str if c in emoji.UNICODE_EMOJI)\n",
    "\n",
    "def text_without_emojis(str):\n",
    "    return ''.join(c for c in str if c not in emoji.UNICODE_EMOJI)\n",
    "\n",
    "text_with_emoji = \"Come to Jesus meeting!!!! What on earth is that supposed to be? 😔 https://t.co/a3lOpTtFig\"\n",
    "print(text_with_emoji)\n",
    "print(extract_emojis(text_with_emoji))\n",
    "print(text_without_emojis(text_with_emoji))"
   ]
  },
  {
   "cell_type": "code",
   "execution_count": 8,
   "metadata": {},
   "outputs": [],
   "source": [
    "# Create a set of stopwords\n",
    "stop = set(stopwords.words('english'))\n",
    "\n",
    "# Create a set of punctuation words \n",
    "exclude = set(string.punctuation) \n",
    "\n",
    "# This is the function makeing the lemmatization\n",
    "lemma = WordNetLemmatizer()\n",
    "\n",
    "# In this function we perform the entire cleaning\n",
    "def clean(doc):\n",
    "    doc = doc.lower()\n",
    "    doc = remove_link(doc)\n",
    "    #print('without links:', doc)\n",
    "    doc = remove_mentions(doc)\n",
    "    #print('without mentions:', doc)\n",
    "    doc = text_without_emojis(doc)\n",
    "    #print('without emojis:', doc)\n",
    "    doc = remove_entire_hashtags(doc)\n",
    "    #print('without hashtags:', doc)\n",
    "    stop_free = \" \".join([i for i in doc.lower().split() if i not in stop])\n",
    "    #print('stop free:', doc)\n",
    "    punc_free = ''.join(ch for ch in stop_free if ch not in exclude)\n",
    "    #print('punc_free:', doc)\n",
    "    normalized = \" \".join(lemma.lemmatize(word) for word in punc_free.split())\n",
    "    #print('normalized:', normalized)\n",
    "    normalized = remove_non_az_characters(normalized)\n",
    "    #print('non-az removed:', normalized)\n",
    "    normalized = \" \".join(word for word in normalized.split() if len(word) > 3)\n",
    "    return normalized"
   ]
  },
  {
   "cell_type": "code",
   "execution_count": 82,
   "metadata": {},
   "outputs": [
    {
     "name": "stdout",
     "output_type": "stream",
     "text": [
      "without links: i like reading, so i read 45. @remy: this is @hello waaaaayyyy too much. for you!!!!!! #angry  😔\n",
      "without mentions: i like reading, so i read 45. this is waaaaayyyy too much. for you!!!!!! #angry 😔\n",
      "without emojis: i like reading, so i read 45. this is waaaaayyyy too much. for you!!!!!! #angry \n",
      "without hashtags: i like reading, so i read 45. this is waaaaayyyy too much. for you!!!!!!\n",
      "stop free: i like reading, so i read 45. this is waaaaayyyy too much. for you!!!!!!\n",
      "punc_free: i like reading, so i read 45. this is waaaaayyyy too much. for you!!!!!!\n",
      "normalized: like reading read 45 waaaaayyyy much you\n",
      "non-az removed: like reading read waaaaayyyy much you\n"
     ]
    },
    {
     "data": {
      "text/plain": [
       "'like reading read waaaaayyyy much'"
      ]
     },
     "execution_count": 82,
     "metadata": {},
     "output_type": "execute_result"
    }
   ],
   "source": [
    "clean('I like reading, so I read 45. @remy: This is @hello waaaaayyyy too much. For you!!!!!! #angry https://google.com 😔')"
   ]
  },
  {
   "cell_type": "code",
   "execution_count": 83,
   "metadata": {},
   "outputs": [
    {
     "name": "stdout",
     "output_type": "stream",
     "text": [
      "without links: @remy: this is @hello waaaaayyyy too much. for you!!!!!! #angry  😔\n",
      "without mentions: this is waaaaayyyy too much. for you!!!!!! #angry 😔\n",
      "without emojis: this is waaaaayyyy too much. for you!!!!!! #angry \n",
      "without hashtags: this is waaaaayyyy too much. for you!!!!!!\n",
      "stop free: this is waaaaayyyy too much. for you!!!!!!\n",
      "punc_free: this is waaaaayyyy too much. for you!!!!!!\n",
      "normalized: waaaaayyyy much you\n",
      "non-az removed: waaaaayyyy much you\n"
     ]
    },
    {
     "data": {
      "text/plain": [
       "'waaaaayyyy much'"
      ]
     },
     "execution_count": 83,
     "metadata": {},
     "output_type": "execute_result"
    }
   ],
   "source": [
    "clean('@remy: This is @hello waaaaayyyy too much. For you!!!!!! #angry https://google.com 😔')"
   ]
  },
  {
   "cell_type": "markdown",
   "metadata": {},
   "source": [
    "### Clean words like 'trump' or 'hillary'"
   ]
  },
  {
   "cell_type": "code",
   "execution_count": 9,
   "metadata": {},
   "outputs": [],
   "source": [
    "def removeKeyWords(candidate, tweets_text):\n",
    "    keyWords = {\n",
    "        'hillary' : ['hillary', 'clinton', 'imwithher'],\n",
    "        'trump' : ['donald', 'trump']\n",
    "    }\n",
    "    words = keyWords[candidate]\n",
    "    for idx, txt in enumerate(tweets_text):\n",
    "        tweet = ''\n",
    "        for word in txt.split():\n",
    "            found = False\n",
    "            for keyword in words:\n",
    "                if keyword in word:\n",
    "                    found = True\n",
    "                    break\n",
    "            if not found:    \n",
    "                tweet += word + ' '\n",
    "        tweets_text[idx] = tweet.strip()\n",
    "    return tweets_text  "
   ]
  },
  {
   "cell_type": "code",
   "execution_count": 19,
   "metadata": {},
   "outputs": [
    {
     "data": {
      "text/plain": [
       "['hello Hillary im']"
      ]
     },
     "execution_count": 19,
     "metadata": {},
     "output_type": "execute_result"
    }
   ],
   "source": [
    "tweets_text = ['hello hillarybla Hillary clinton im']\n",
    "removeKeyWords('hillary', tweets_text)"
   ]
  },
  {
   "cell_type": "code",
   "execution_count": 30,
   "metadata": {},
   "outputs": [
    {
     "data": {
      "text/plain": [
       "'hello hillarybla hillary clinton'"
      ]
     },
     "execution_count": 30,
     "metadata": {},
     "output_type": "execute_result"
    }
   ],
   "source": [
    "clean('hello hillarybla Hillary clinton im')"
   ]
  },
  {
   "cell_type": "code",
   "execution_count": 34,
   "metadata": {},
   "outputs": [
    {
     "data": {
      "text/plain": [
       "['hello aaaaa']"
      ]
     },
     "execution_count": 34,
     "metadata": {},
     "output_type": "execute_result"
    }
   ],
   "source": [
    "arr = removeKeyWords('hillary', [clean('hello hillarybla aaaaa Hillary clinton im')])\n"
   ]
  },
  {
   "cell_type": "code",
   "execution_count": 35,
   "metadata": {},
   "outputs": [],
   "source": [
    "def topicModelingCleanedTweets(tweets_text, candidate):\n",
    "    # This is the clean corpus.\n",
    "    doc_clean = [removeKeyWords(candidate, [clean(doc)])[0].split() for doc in tweets_text] \n",
    "    # Creating the term dictionary of our courpus, where every unique term is assigned an index\n",
    "    dictionary = corpora.Dictionary(doc_clean)\n",
    "\n",
    "    # Converting list of documents (corpus) into Document Term Matrix using dictionary prepared above.\n",
    "    doc_term_matrix = [dictionary.doc2bow(doc) for doc in doc_clean]\n",
    "\n",
    "    NUM_TOPICS = 4\n",
    "\n",
    "    start_time = time.time()\n",
    "\n",
    "\n",
    "    # Creating the object for LDA model using gensim library\n",
    "    Lda = gensim.models.ldamodel.LdaModel\n",
    "\n",
    "    # Running and Trainign LDA model on the document term matrix.\n",
    "    ldamodel = Lda(doc_term_matrix, num_topics=NUM_TOPICS, id2word = dictionary, passes=100)\n",
    "\n",
    "    elapsed_time = time.time() - start_time\n",
    "    print(time.strftime(\"%H:%M:%S\", time.gmtime(elapsed_time)))\n",
    "\n",
    "    # Print 4 topics and describe then with 4 words.\n",
    "    topics = ldamodel.print_topics(num_topics=NUM_TOPICS, num_words=4)\n",
    "\n",
    "    i=0\n",
    "    for topic in topics:\n",
    "        print (\"Topic\",i ,\"->\", topic)     \n",
    "        i+=1"
   ]
  },
  {
   "cell_type": "code",
   "execution_count": 36,
   "metadata": {},
   "outputs": [
    {
     "name": "stdout",
     "output_type": "stream",
     "text": [
      "Topic 0 -> (0, '0.035*\"today\" + 0.026*\"pressure\" + 0.026*\"wind\" + 0.026*\"rain\"')\n",
      "Topic 1 -> (1, '0.020*\"vote\" + 0.017*\"america\" + 0.015*\"make\" + 0.015*\"great\"')\n",
      "Topic 2 -> (2, '0.012*\"like\" + 0.012*\"know\" + 0.012*\"putin\" + 0.008*\"tweet\"')\n",
      "Topic 3 -> (3, '0.018*\"like\" + 0.007*\"know\" + 0.007*\"think\" + 0.006*\"would\"')\n"
     ]
    }
   ],
   "source": [
    "topicModelingCleanedTweets(tweets_trump, 'trump')"
   ]
  },
  {
   "cell_type": "code",
   "execution_count": 37,
   "metadata": {},
   "outputs": [
    {
     "name": "stdout",
     "output_type": "stream",
     "text": [
      "Topic 0 -> (0, '0.018*\"health\" + 0.016*\"email\" + 0.016*\"better\" + 0.010*\"question\"')\n",
      "Topic 1 -> (1, '0.021*\"woman\" + 0.009*\"support\" + 0.008*\"racist\" + 0.008*\"money\"')\n",
      "Topic 2 -> (2, '0.015*\"would\" + 0.014*\"time\" + 0.013*\"think\" + 0.012*\"know\"')\n",
      "Topic 3 -> (3, '0.015*\"like\" + 0.014*\"pneumonia\" + 0.012*\"deplorable\" + 0.011*\"look\"')\n"
     ]
    }
   ],
   "source": [
    "topicModelingCleanedTweets(tweets_hillary, 'hillary')"
   ]
  }
 ],
 "metadata": {
  "kernelspec": {
   "display_name": "Python 3",
   "language": "python",
   "name": "python3"
  },
  "language_info": {
   "codemirror_mode": {
    "name": "ipython",
    "version": 3
   },
   "file_extension": ".py",
   "mimetype": "text/x-python",
   "name": "python",
   "nbconvert_exporter": "python",
   "pygments_lexer": "ipython3",
   "version": "3.6.5"
  }
 },
 "nbformat": 4,
 "nbformat_minor": 2
}

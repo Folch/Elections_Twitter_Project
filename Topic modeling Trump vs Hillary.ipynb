{
 "cells": [
  {
   "cell_type": "code",
   "execution_count": 1,
   "metadata": {},
   "outputs": [
    {
     "name": "stderr",
     "output_type": "stream",
     "text": [
      "C:\\ProgramData\\Anaconda3\\lib\\site-packages\\gensim\\utils.py:1209: UserWarning: detected Windows; aliasing chunkize to chunkize_serial\n",
      "  warnings.warn(\"detected Windows; aliasing chunkize to chunkize_serial\")\n"
     ]
    }
   ],
   "source": [
    "import pandas as pd\n",
    "import json\n",
    "import time\n",
    "import matplotlib\n",
    "import matplotlib.pyplot as plt\n",
    "import re\n",
    "import numpy as np\n",
    "from nltk.tokenize import RegexpTokenizer\n",
    "import nltk\n",
    "# Import all the libraries required\n",
    "import os\n",
    "import pandas as pd\n",
    "import matplotlib.cm as cm\n",
    "from matplotlib.colors import rgb2hex\n",
    "from descartes import PolygonPatch\n",
    "from shapely.geometry import Polygon, MultiPolygon\n",
    "# Importing Gensim\n",
    "import gensim\n",
    "from gensim import corpora\n",
    "import time\n",
    "from nltk.corpus import stopwords \n",
    "from nltk.stem.wordnet import WordNetLemmatizer\n",
    "import string"
   ]
  },
  {
   "cell_type": "markdown",
   "metadata": {},
   "source": [
    "## What topics come up from the tweets that talk about Hillary and Trump separately?"
   ]
  },
  {
   "cell_type": "code",
   "execution_count": 2,
   "metadata": {},
   "outputs": [],
   "source": [
    "tweets_data = []\n",
    "\n",
    "#with open('tweets_reduced_10000.jsons', 'r') as tweets_file:\n",
    "#with open('geotagged_tweets_20160812-0912.jsons', 'r') as tweets_file:\n",
    "#with open('customTweets.jsons', 'r') as tweets_file:\n",
    "#with open('customTweetsWithSentiment2.jsons', 'r') as tweets_file:\n",
    "with open('customTweetsWithSentiment3.jsons', 'r') as tweets_file:\n",
    "    for line in tweets_file:\n",
    "        try:\n",
    "            tweet = json.loads(line)\n",
    "            tweets_data.append(tweet)\n",
    "        except Exception as e:\n",
    "            print (e)\n",
    "            continue"
   ]
  },
  {
   "cell_type": "markdown",
   "metadata": {},
   "source": [
    "### Splitting tweets"
   ]
  },
  {
   "cell_type": "code",
   "execution_count": 3,
   "metadata": {},
   "outputs": [],
   "source": [
    "tweets_trump = [tweet['text'] for tweet in tweets_data if tweet['talk'] == 'trump' and tweet['place'] != None and tweet['place']['country_code'] == 'US']\n",
    "tweets_hillary = [tweet['text'] for tweet in tweets_data if tweet['talk'] == 'hillary' and tweet['place'] != None and tweet['place']['country_code'] == 'US']"
   ]
  },
  {
   "cell_type": "code",
   "execution_count": 4,
   "metadata": {},
   "outputs": [],
   "source": [
    "tweets_pro_trump = [tweet['text'] for tweet in tweets_data if (tweet['talk'] == 'trump' and tweet['sentiment'] == 'Positive') or (tweet['talk'] == 'hillary' and tweet['sentiment'] == 'Negative') and tweet['place'] != None and tweet['place']['country_code'] == 'US']\n",
    "tweets_pro_hillary = [tweet['text'] for tweet in tweets_data if (tweet['talk'] == 'hillary' and tweet['sentiment'] == 'Positive') or (tweet['talk'] == 'trump' and tweet['sentiment'] == 'Negative') and tweet['place'] != None and tweet['place']['country_code'] == 'US']"
   ]
  },
  {
   "cell_type": "code",
   "execution_count": 5,
   "metadata": {},
   "outputs": [
    {
     "name": "stdout",
     "output_type": "stream",
     "text": [
      "Trump only:   314050\n",
      "Hillary only: 128836\n"
     ]
    }
   ],
   "source": [
    "print('Trump only:   ' + str(len(tweets_trump)))\n",
    "print('Hillary only: ' + str(len(tweets_hillary)))"
   ]
  },
  {
   "cell_type": "code",
   "execution_count": 6,
   "metadata": {},
   "outputs": [
    {
     "name": "stdout",
     "output_type": "stream",
     "text": [
      "Pro Trump only:   277971\n",
      "Pro Hillary only: 198395\n"
     ]
    }
   ],
   "source": [
    "print('Pro Trump only:   ' + str(len(tweets_pro_trump)))\n",
    "print('Pro Hillary only: ' + str(len(tweets_pro_hillary)))"
   ]
  },
  {
   "cell_type": "markdown",
   "metadata": {},
   "source": [
    "### Cleaning"
   ]
  },
  {
   "cell_type": "code",
   "execution_count": 7,
   "metadata": {},
   "outputs": [],
   "source": [
    "# A function that removes the hyperlinks from the tweet's content.\n",
    "def remove_link(tweet):\n",
    "    return re.sub(r\"http\\S+\", \"\", tweet)\n",
    "\n",
    "def remove_hashtags(tweet):\n",
    "    return re.sub('#', '', tweet)\n",
    "\n",
    "def remove_entire_hashtags(tweet):\n",
    "    return re.sub(r'(?:\\s|^)#[A-Za-z0-9\\-\\.\\_]+(?:\\s|$)', ' ', tweet).strip()\n",
    "\n",
    "def remove_mentions(tweet):\n",
    "    return \" \".join(re.sub(\"(?:\\@|https?\\://)\\S+\",\" \",tweet).split())\n",
    "\n",
    "\n",
    "def remove_non_az_characters(tweet):\n",
    "    return \" \".join(re.sub('[^a-zA-Z]',\" \",tweet).split())"
   ]
  },
  {
   "cell_type": "code",
   "execution_count": 8,
   "metadata": {},
   "outputs": [
    {
     "data": {
      "text/plain": [
       "'hello how is #angry'"
      ]
     },
     "execution_count": 8,
     "metadata": {},
     "output_type": "execute_result"
    }
   ],
   "source": [
    "remove_mentions(\"hello @you how is @Albert? #angry https://google.com \")"
   ]
  },
  {
   "cell_type": "code",
   "execution_count": 9,
   "metadata": {},
   "outputs": [
    {
     "data": {
      "text/plain": [
       "'hello you how is Albert angry https google com'"
      ]
     },
     "execution_count": 9,
     "metadata": {},
     "output_type": "execute_result"
    }
   ],
   "source": [
    "remove_non_az_characters(\"hello 45 @you how is @Albert? #angry https://google.com \")"
   ]
  },
  {
   "cell_type": "code",
   "execution_count": 10,
   "metadata": {},
   "outputs": [
    {
     "data": {
      "text/plain": [
       "'hello you'"
      ]
     },
     "execution_count": 10,
     "metadata": {},
     "output_type": "execute_result"
    }
   ],
   "source": [
    "remove_entire_hashtags('#start hello #angry you #bye')"
   ]
  },
  {
   "cell_type": "code",
   "execution_count": 11,
   "metadata": {},
   "outputs": [
    {
     "name": "stdout",
     "output_type": "stream",
     "text": [
      "Come to Jesus meeting!!!! What on earth is that supposed to be? 😔 https://t.co/a3lOpTtFig\n",
      "😔\n",
      "Come to Jesus meeting!!!! What on earth is that supposed to be?  https://t.co/a3lOpTtFig\n"
     ]
    }
   ],
   "source": [
    "# https://pypi.org/project/emoji/\n",
    "\n",
    "import emoji\n",
    "\n",
    "def extract_emojis(str):\n",
    "    return ''.join(c for c in str if c in emoji.UNICODE_EMOJI)\n",
    "\n",
    "def text_without_emojis(str):\n",
    "    return ''.join(c for c in str if c not in emoji.UNICODE_EMOJI)\n",
    "\n",
    "text_with_emoji = \"Come to Jesus meeting!!!! What on earth is that supposed to be? 😔 https://t.co/a3lOpTtFig\"\n",
    "print(text_with_emoji)\n",
    "print(extract_emojis(text_with_emoji))\n",
    "print(text_without_emojis(text_with_emoji))"
   ]
  },
  {
   "cell_type": "code",
   "execution_count": 12,
   "metadata": {},
   "outputs": [],
   "source": [
    "# Create a set of stopwords\n",
    "stop = set(stopwords.words('english'))\n",
    "\n",
    "# Create a set of punctuation words \n",
    "exclude = set(string.punctuation) \n",
    "\n",
    "# This is the function makeing the lemmatization\n",
    "lemma = WordNetLemmatizer()\n",
    "\n",
    "# In this function we perform the entire cleaning\n",
    "def clean(doc):\n",
    "    doc = doc.lower()\n",
    "    doc = remove_link(doc)\n",
    "    #print('without links:', doc)\n",
    "    doc = remove_mentions(doc)\n",
    "    #print('without mentions:', doc)\n",
    "    doc = text_without_emojis(doc)\n",
    "    #print('without emojis:', doc)\n",
    "    doc = remove_entire_hashtags(doc)\n",
    "    #print('without hashtags:', doc)\n",
    "    stop_free = \" \".join([i for i in doc.lower().split() if i not in stop])\n",
    "    #print('stop free:', doc)\n",
    "    punc_free = ''.join(ch for ch in stop_free if ch not in exclude)\n",
    "    #print('punc_free:', doc)\n",
    "    normalized = \" \".join(lemma.lemmatize(word) for word in punc_free.split())\n",
    "    #print('normalized:', normalized)\n",
    "    normalized = remove_non_az_characters(normalized)\n",
    "    #print('non-az removed:', normalized)\n",
    "    normalized = \" \".join(word for word in normalized.split() if len(word) > 3)\n",
    "    return normalized"
   ]
  },
  {
   "cell_type": "code",
   "execution_count": 13,
   "metadata": {},
   "outputs": [
    {
     "data": {
      "text/plain": [
       "'like reading read waaaaayyyy much'"
      ]
     },
     "execution_count": 13,
     "metadata": {},
     "output_type": "execute_result"
    }
   ],
   "source": [
    "clean('I like reading, so I read 45. @remy: This is @hello waaaaayyyy too much. For you!!!!!! #angry https://google.com 😔')"
   ]
  },
  {
   "cell_type": "code",
   "execution_count": 14,
   "metadata": {},
   "outputs": [
    {
     "data": {
      "text/plain": [
       "'waaaaayyyy much'"
      ]
     },
     "execution_count": 14,
     "metadata": {},
     "output_type": "execute_result"
    }
   ],
   "source": [
    "clean('@remy: This is @hello waaaaayyyy too much. For you!!!!!! #angry https://google.com 😔')"
   ]
  },
  {
   "cell_type": "markdown",
   "metadata": {},
   "source": [
    "### Clean words like 'trump' or 'hillary'"
   ]
  },
  {
   "cell_type": "code",
   "execution_count": 15,
   "metadata": {},
   "outputs": [],
   "source": [
    "def removeKeyWords(candidates, tweets_text):\n",
    "    keyWords = {\n",
    "        'hillary' : ['hillary', 'clinton', 'imwithher'],\n",
    "        'trump' : ['donald', 'trump']\n",
    "    }\n",
    "    for candidate in candidates:\n",
    "        words = keyWords[candidate]\n",
    "        for idx, txt in enumerate(tweets_text):\n",
    "            tweet = ''\n",
    "            for word in txt.lower().split():\n",
    "                found = False\n",
    "                for keyword in words:\n",
    "                    if keyword in word:\n",
    "                        found = True\n",
    "                        break\n",
    "                if not found:    \n",
    "                    tweet += word + ' '\n",
    "            tweets_text[idx] = tweet.strip()\n",
    "    return tweets_text  "
   ]
  },
  {
   "cell_type": "code",
   "execution_count": 16,
   "metadata": {},
   "outputs": [
    {
     "data": {
      "text/plain": [
       "['hello im']"
      ]
     },
     "execution_count": 16,
     "metadata": {},
     "output_type": "execute_result"
    }
   ],
   "source": [
    "tweets_text = ['hello hillarybla Hillary clinton im']\n",
    "removeKeyWords(['hillary'], tweets_text)"
   ]
  },
  {
   "cell_type": "code",
   "execution_count": 17,
   "metadata": {},
   "outputs": [
    {
     "data": {
      "text/plain": [
       "'hello hillarybla hillary clinton'"
      ]
     },
     "execution_count": 17,
     "metadata": {},
     "output_type": "execute_result"
    }
   ],
   "source": [
    "clean('hello hillarybla Hillary clinton im')"
   ]
  },
  {
   "cell_type": "code",
   "execution_count": 18,
   "metadata": {},
   "outputs": [],
   "source": [
    "arr = removeKeyWords(['hillary'], [clean('hello hillarybla aaaaa Hillary clinton im')])\n"
   ]
  },
  {
   "cell_type": "code",
   "execution_count": 19,
   "metadata": {},
   "outputs": [],
   "source": [
    "def topicModelingCleanedTweets(tweets_text, candidates):\n",
    "    # This is the clean corpus.\n",
    "    doc_clean = [removeKeyWords(candidates, [clean(doc)])[0].split() for doc in tweets_text] \n",
    "    # Creating the term dictionary of our courpus, where every unique term is assigned an index\n",
    "    dictionary = corpora.Dictionary(doc_clean)\n",
    "\n",
    "    # Converting list of documents (corpus) into Document Term Matrix using dictionary prepared above.\n",
    "    doc_term_matrix = [dictionary.doc2bow(doc) for doc in doc_clean]\n",
    "\n",
    "    NUM_TOPICS = 4\n",
    "\n",
    "    start_time = time.time()\n",
    "\n",
    "\n",
    "    # Creating the object for LDA model using gensim library\n",
    "    Lda = gensim.models.ldamodel.LdaModel\n",
    "\n",
    "    # Running and Trainign LDA model on the document term matrix.\n",
    "    ldamodel = Lda(doc_term_matrix, num_topics=NUM_TOPICS, id2word = dictionary, passes=100)\n",
    "\n",
    "    elapsed_time = time.time() - start_time\n",
    "    print(time.strftime(\"%H:%M:%S\", time.gmtime(elapsed_time)))\n",
    "\n",
    "    # Print 4 topics and describe then with 4 words.\n",
    "    topics = ldamodel.print_topics(num_topics=NUM_TOPICS, num_words=4)\n",
    "\n",
    "    i=0\n",
    "    for topic in topics:\n",
    "        print (\"Topic\",i ,\"->\", topic)     \n",
    "        i+=1"
   ]
  },
  {
   "cell_type": "code",
   "execution_count": 20,
   "metadata": {},
   "outputs": [
    {
     "name": "stdout",
     "output_type": "stream",
     "text": [
      "02:12:44\n",
      "Topic 0 -> (0, '0.038*\"today\" + 0.029*\"pressure\" + 0.029*\"wind\" + 0.029*\"rain\"')\n",
      "Topic 1 -> (1, '0.020*\"know\" + 0.015*\"like\" + 0.011*\"putin\" + 0.010*\"said\"')\n",
      "Topic 2 -> (2, '0.019*\"america\" + 0.014*\"great\" + 0.012*\"deplorable\" + 0.012*\"make\"')\n",
      "Topic 3 -> (3, '0.024*\"vote\" + 0.016*\"american\" + 0.012*\"love\" + 0.010*\"white\"')\n"
     ]
    }
   ],
   "source": [
    "topicModelingCleanedTweets(tweets_trump, ['trump'])"
   ]
  },
  {
   "cell_type": "code",
   "execution_count": 21,
   "metadata": {},
   "outputs": [
    {
     "name": "stdout",
     "output_type": "stream",
     "text": [
      "00:46:52\n",
      "Topic 0 -> (0, '0.020*\"deplorable\" + 0.020*\"health\" + 0.014*\"stop\" + 0.012*\"racist\"')\n",
      "Topic 1 -> (1, '0.016*\"like\" + 0.015*\"pneumonia\" + 0.011*\"know\" + 0.010*\"sick\"')\n",
      "Topic 2 -> (2, '0.015*\"well\" + 0.011*\"need\" + 0.010*\"america\" + 0.010*\"woman\"')\n",
      "Topic 3 -> (3, '0.014*\"cant\" + 0.011*\"like\" + 0.010*\"never\" + 0.009*\"said\"')\n"
     ]
    }
   ],
   "source": [
    "topicModelingCleanedTweets(tweets_hillary, ['hillary'])"
   ]
  },
  {
   "cell_type": "markdown",
   "metadata": {},
   "source": [
    "## Topic analysis pro-trump vs topic analysis pro-hillary"
   ]
  },
  {
   "cell_type": "code",
   "execution_count": 22,
   "metadata": {},
   "outputs": [
    {
     "name": "stdout",
     "output_type": "stream",
     "text": [
      "02:28:15\n",
      "Topic 0 -> (0, '0.039*\"today\" + 0.028*\"pressure\" + 0.028*\"wind\" + 0.028*\"rain\"')\n",
      "Topic 1 -> (1, '0.013*\"like\" + 0.011*\"know\" + 0.011*\"supporter\" + 0.010*\"people\"')\n",
      "Topic 2 -> (2, '0.015*\"america\" + 0.013*\"american\" + 0.012*\"vote\" + 0.012*\"president\"')\n",
      "Topic 3 -> (3, '0.017*\"deplorable\" + 0.017*\"putin\" + 0.011*\"health\" + 0.009*\"leader\"')\n"
     ]
    }
   ],
   "source": [
    "topicModelingCleanedTweets(tweets_pro_trump, ['trump','hillary'])"
   ]
  },
  {
   "cell_type": "code",
   "execution_count": 23,
   "metadata": {},
   "outputs": [
    {
     "name": "stdout",
     "output_type": "stream",
     "text": [
      "01:14:00\n",
      "Topic 0 -> (0, '0.018*\"like\" + 0.014*\"vote\" + 0.011*\"deplorable\" + 0.011*\"woman\"')\n",
      "Topic 1 -> (1, '0.024*\"pneumonia\" + 0.024*\"think\" + 0.013*\"racist\" + 0.009*\"tweet\"')\n",
      "Topic 2 -> (2, '0.011*\"time\" + 0.011*\"love\" + 0.010*\"need\" + 0.008*\"come\"')\n",
      "Topic 3 -> (3, '0.011*\"president\" + 0.011*\"never\" + 0.009*\"know\" + 0.009*\"email\"')\n"
     ]
    }
   ],
   "source": [
    "topicModelingCleanedTweets(tweets_pro_hillary, ['trump','hillary'])"
   ]
  },
  {
   "cell_type": "code",
   "execution_count": 24,
   "metadata": {},
   "outputs": [
    {
     "data": {
      "text/plain": [
       "'nevertrump'"
      ]
     },
     "execution_count": 24,
     "metadata": {},
     "output_type": "execute_result"
    }
   ],
   "source": [
    "from nltk.stem.wordnet import WordNetLemmatizer\n",
    "lemma = WordNetLemmatizer()\n",
    "lemma.lemmatize('nevertrump')"
   ]
  }
 ],
 "metadata": {
  "kernelspec": {
   "display_name": "Python 3",
   "language": "python",
   "name": "python3"
  },
  "language_info": {
   "codemirror_mode": {
    "name": "ipython",
    "version": 3
   },
   "file_extension": ".py",
   "mimetype": "text/x-python",
   "name": "python",
   "nbconvert_exporter": "python",
   "pygments_lexer": "ipython3",
   "version": "3.6.5"
  }
 },
 "nbformat": 4,
 "nbformat_minor": 2
}

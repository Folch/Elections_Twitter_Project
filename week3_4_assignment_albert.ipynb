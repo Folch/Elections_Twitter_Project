{
 "cells": [
  {
   "cell_type": "code",
   "execution_count": 1,
   "metadata": {},
   "outputs": [],
   "source": [
    "import pandas as pd\n",
    "import json\n",
    "import time\n",
    "import matplotlib\n",
    "import matplotlib.pyplot as plt\n",
    "import re\n",
    "import numpy as np\n",
    "from nltk.tokenize import RegexpTokenizer\n",
    "import nltk\n",
    "# Import all the libraries required\n",
    "import os\n",
    "import pandas as pd\n",
    "import matplotlib.cm as cm\n",
    "from matplotlib.colors import rgb2hex\n",
    "from descartes import PolygonPatch\n",
    "from shapely.geometry import Polygon, MultiPolygon"
   ]
  },
  {
   "cell_type": "code",
   "execution_count": 2,
   "metadata": {},
   "outputs": [],
   "source": [
    "#tweets_data = []\n",
    "#\n",
    "##with open('tweets_reduced_10000.jsons', 'r') as tweets_file:\n",
    "#with open('geotagged_tweets_20160812-0912.jsons', 'r') as tweets_file:\n",
    "##with open('customTweets.jsons', 'r') as tweets_file:\n",
    "#    for line in tweets_file:\n",
    "#        try:\n",
    "#            tweet = json.loads(line)\n",
    "#            tweets_data.append(tweet)\n",
    "#        except Exception as e:\n",
    "#            print (e)\n",
    "#            continue"
   ]
  },
  {
   "cell_type": "code",
   "execution_count": 3,
   "metadata": {},
   "outputs": [],
   "source": [
    "tweets_data = []\n",
    "\n",
    "#with open('tweets_reduced_10000.jsons', 'r') as tweets_file:\n",
    "#with open('geotagged_tweets_20160812-0912.jsons', 'r') as tweets_file:\n",
    "#with open('customTweets.jsons', 'r') as tweets_file:\n",
    "#with open('customTweetsWithSentiment.jsons', 'r') as tweets_file:\n",
    "with open('customTweetsWithSentiment2.jsons', 'r') as tweets_file:\n",
    "#with open('customTweetsWithSentimentWithNotEmptyCleanedText.jsons', 'r') as tweets_file:\n",
    "    for line in tweets_file:\n",
    "        try:\n",
    "            tweet = json.loads(line)\n",
    "            tweets_data.append(tweet)\n",
    "        except Exception as e:\n",
    "            print (e)\n",
    "            continue"
   ]
  },
  {
   "cell_type": "code",
   "execution_count": 5,
   "metadata": {},
   "outputs": [
    {
     "name": "stdout",
     "output_type": "stream",
     "text": [
      "Negative\n"
     ]
    }
   ],
   "source": [
    "print(tweets_data[0]['sentiment'])"
   ]
  },
  {
   "cell_type": "code",
   "execution_count": 3,
   "metadata": {},
   "outputs": [],
   "source": [
    "tweetsIdAndRetweetCount = []\n",
    "\n",
    "#with open('tweets_reduced_10000.jsons', 'r') as tweets_file:\n",
    "with open('geotagged_tweets_20160812-0912.jsons', 'r') as tweets_file:\n",
    "#with open('customTweets.jsons', 'r') as tweets_file:\n",
    "#with open('customTweetsWithSentiment.jsons', 'r') as tweets_file:\n",
    "#with open('tweetsIdAndRetweetCount.jsons', 'r') as tweets_file:\n",
    "    for line in tweets_file:\n",
    "        try:\n",
    "            tweet = json.loads(line)\n",
    "            tweetsIdAndRetweetCount.append(tweet)\n",
    "        except Exception as e:\n",
    "            print (e)\n",
    "            continue"
   ]
  },
  {
   "cell_type": "code",
   "execution_count": null,
   "metadata": {},
   "outputs": [],
   "source": [
    " import json\n",
    " # with open('customTweetsWithSentiment2.jsons', 'w') as file:\n",
    "with open('customTweetsWithSentimentWithNotEmptyCleanedText.jsons', 'w') as tweets_file:\n",
    "    for i, tweet in enumerate(tweets_data):\n",
    "        twt = {}\n",
    "        twt['id'] = tweet['id']\n",
    "        twt['in_reply_to_status_id'] = tweet['in_reply_to_status_id']\n",
    "        twt['text'] =  tweet['text']\n",
    "        twt['place'] =  tweet['place']\n",
    "        twt['talk'] =  tweet['talk']\n",
    "        twt['cleaned_text'] =  tweet['cleaned_text']\n",
    "        if 'sentiment' in tweet:\n",
    "            twt['sentiment'] =  tweet['sentiment'] \n",
    "        twt['sentiment_num'] =  tweet['sentiment_num']\n",
    "        twt['talk_num'] =  tweet['talk_num']\n",
    "        if 'replies' in tweet:\n",
    "            twt['replies'] = tweet['replies']\n",
    "        file.write(json.dumps(twt) + '\\n')"
   ]
  },
  {
   "cell_type": "code",
   "execution_count": 4,
   "metadata": {},
   "outputs": [
    {
     "name": "stdout",
     "output_type": "stream",
     "text": [
      "{'hillary': False, 'trump': True}\n"
     ]
    }
   ],
   "source": [
    "def whoYouTalkAbout(tweetText):\n",
    "    tweetText = tweetText.lower()\n",
    "    keyWords = {\n",
    "        'hillary' : ['hillary', 'clinton', 'imwithher'],\n",
    "        'trump' : ['donald', 'trump']\n",
    "    }\n",
    "    talk = {\n",
    "        'hillary': False,\n",
    "        'trump': False\n",
    "    }\n",
    "    for candidate in talk.keys():\n",
    "        for word in keyWords[candidate]:\n",
    "            if word in tweetText:\n",
    "                talk[candidate] = True\n",
    "                break\n",
    "        \n",
    "    return talk\n",
    "\n",
    "answer = whoYouTalkAbout('@theblaze @realDonaldTrump bla bla https:\\/\\/t.co\\/TY9DlZ584c')\n",
    "print(answer)\n",
    "    \n",
    "#\n",
    "# probably talks about hillary:\n",
    "# @HillaryClinton\n",
    "# #hillaryclinton\n",
    "# #hillary\n",
    "# #crookedhillary\n",
    "# #imwithher\n",
    "# #neverhillary\n",
    "# \n",
    "# probably talks about trump:\n",
    "# @realDonaldTrump\n",
    "# #donaldtrump\n",
    "# #dumptrump\n",
    "# #nevertrump\n",
    "# #trump\n",
    "# #trumppence16\n",
    "# \n",
    "# neutral:\n",
    "# #maga\n",
    "#"
   ]
  },
  {
   "cell_type": "code",
   "execution_count": 5,
   "metadata": {},
   "outputs": [],
   "source": [
    "justHillary = 0\n",
    "justTrump = 0\n",
    "both = 0\n",
    "neither = 0\n",
    "\n",
    "def getTweetThatThisIsAnsweringTo(tweetIdToFind, tweets):\n",
    "    for tweet in tweets:\n",
    "        if tweet['id'] == tweetIdToFind:\n",
    "            return tweet\n",
    "    return None\n",
    "\n",
    "def evaluateTweet(idx, tweet):\n",
    "    global justHillary\n",
    "    global justTrump\n",
    "    global both\n",
    "    global neither\n",
    "    \n",
    "    tweetText = tweet['text']\n",
    "    answer = whoYouTalkAbout(tweetText)\n",
    "    \n",
    "    if not answer['hillary'] and not answer['trump']:# if neither, check quoted_status['text']\n",
    "        if 'quoted_status' in tweet and tweet['quoted_status']['text'] != None:\n",
    "            tweetText = tweet['quoted_status']['text']\n",
    "            answer = whoYouTalkAbout(tweetText)\n",
    "        else:\n",
    "            in_reply_to_status_id = tweet['in_reply_to_status_id']\n",
    "            if in_reply_to_status_id != None:\n",
    "                tweet = getTweetThatThisIsAnsweringTo(in_reply_to_status_id, tweets_data)\n",
    "                if tweet != None:\n",
    "                    evaluateTweet(idx,tweet)\n",
    "                    return #ignore for now, next call to evaluateTweet should work\n",
    "            neither += 1\n",
    "            tweets_data[idx]['talk'] = 'neither'\n",
    "            return\n",
    "    \n",
    "    if answer['hillary'] and answer['trump']:\n",
    "        both += 1\n",
    "        tweets_data[idx]['talk'] = 'both'\n",
    "    elif answer['hillary'] and not answer['trump']:\n",
    "        justHillary += 1\n",
    "        tweets_data[idx]['talk'] = 'hillary'\n",
    "    elif not answer['hillary'] and answer['trump']:\n",
    "        tweets_data[idx]['talk'] = 'trump'\n",
    "        justTrump  += 1\n",
    "    else:\n",
    "        neither += 1\n",
    "        tweets_data[idx]['talk'] = 'neither'\n",
    "        \n",
    "\n"
   ]
  },
  {
   "cell_type": "code",
   "execution_count": 6,
   "metadata": {},
   "outputs": [
    {
     "name": "stdout",
     "output_type": "stream",
     "text": [
      "tweets that talk about both: 111141\n",
      "tweets that talk about trump: 383364\n",
      "tweets that talk about hillary: 156468\n",
      "tweets that talk about neither: 6334\n"
     ]
    }
   ],
   "source": [
    "for i, tweet in enumerate(tweets_data):\n",
    "    evaluateTweet(i, tweet)\n",
    "            \n",
    "print('tweets that talk about both: %d' % both)\n",
    "print('tweets that talk about trump: %d' % justTrump)\n",
    "print('tweets that talk about hillary: %d' % justHillary)\n",
    "print('tweets that talk about neither: %d' % neither)"
   ]
  },
  {
   "cell_type": "code",
   "execution_count": 10,
   "metadata": {},
   "outputs": [
    {
     "data": {
      "image/png": "[encoded data removed]",
      "text/plain": [
       "<Figure size 432x288 with 1 Axes>"
      ]
     },
     "metadata": {},
     "output_type": "display_data"
    }
   ],
   "source": [
    "TOTAL = len(tweets_data)\n",
    " \n",
    "labels = ['Both', 'Just Trump', 'Just Hillary', 'Neither']\n",
    "sizes = [both/TOTAL, justTrump/TOTAL, justHillary/TOTAL, neither/TOTAL]\n",
    "colors = ['yellowgreen', 'gold', 'lightskyblue', 'lightcoral']\n",
    "pie = plt.pie(sizes, labels=labels, shadow=True, autopct='%1.1f%%')\n",
    "plt.legend(pie[0], labels, loc=\"best\")\n",
    "\n",
    "plt.axis('equal')\n",
    "plt.tight_layout()\n",
    "plt.show()"
   ]
  },
  {
   "cell_type": "markdown",
   "metadata": {},
   "source": [
    "# Cleaning"
   ]
  },
  {
   "cell_type": "code",
   "execution_count": 7,
   "metadata": {},
   "outputs": [],
   "source": [
    "# A function that removes the hyperlinks from the tweet's content.\n",
    "def remove_link(tweet):\n",
    "    return re.sub(r\"http\\S+\", \"\", tweet)\n",
    "\n",
    "def remove_hashtags(tweet):\n",
    "    return re.sub('#', '', tweet)\n",
    "\n",
    "def remove_entire_hashtags(tweet):\n",
    "    return re.sub(r'(?:\\s|^)#[A-Za-z0-9\\-\\.\\_]+(?:\\s|$)', ' ', tweet).strip()\n",
    "\n",
    "def remove_mentions(tweet):\n",
    "    return \" \".join(re.sub(\"(?:\\@|https?\\://)\\S+\",\" \",tweet).split())\n",
    "\n",
    "\n",
    "def remove_non_az_characters(tweet):\n",
    "    return \" \".join(re.sub('[^a-zA-Z]',\" \",tweet).split())"
   ]
  },
  {
   "cell_type": "code",
   "execution_count": 8,
   "metadata": {},
   "outputs": [
    {
     "name": "stdout",
     "output_type": "stream",
     "text": [
      "Come to Jesus meeting!!!! What on earth is that supposed to be? 😔 https://t.co/a3lOpTtFig\n",
      "😔\n",
      "Come to Jesus meeting!!!! What on earth is that supposed to be?  https://t.co/a3lOpTtFig\n"
     ]
    }
   ],
   "source": [
    "# https://pypi.org/project/emoji/\n",
    "\n",
    "import emoji\n",
    "\n",
    "def extract_emojis(str):\n",
    "    return ''.join(c for c in str if c in emoji.UNICODE_EMOJI)\n",
    "\n",
    "def text_without_emojis(str):\n",
    "    return ''.join(c for c in str if c not in emoji.UNICODE_EMOJI)\n",
    "\n",
    "text_with_emoji = \"Come to Jesus meeting!!!! What on earth is that supposed to be? 😔 https://t.co/a3lOpTtFig\"\n",
    "print(text_with_emoji)\n",
    "print(extract_emojis(text_with_emoji))\n",
    "print(text_without_emojis(text_with_emoji))"
   ]
  },
  {
   "cell_type": "code",
   "execution_count": 1,
   "metadata": {},
   "outputs": [],
   "source": [
    "from nltk.corpus import stopwords \n",
    "from nltk.stem.wordnet import WordNetLemmatizer\n",
    "import string\n",
    "\n",
    "# Create a set of stopwords\n",
    "stop = set(stopwords.words('english'))\n",
    "\n",
    "# Create a set of punctuation words \n",
    "exclude = set(string.punctuation) \n",
    "\n",
    "# This is the function makeing the lemmatization\n",
    "lemma = WordNetLemmatizer()\n",
    "\n",
    "# In this function we perform the entire cleaning\n",
    "def clean(doc):\n",
    "    doc = doc.lower()\n",
    "    doc = remove_link(doc)\n",
    "    #print('without links:', doc)\n",
    "    doc = remove_mentions(doc)\n",
    "    #print('without mentions:', doc)\n",
    "    #doc = text_without_emojis(doc)\n",
    "    #print('without emojis:', doc)\n",
    "    #doc = remove_entire_hashtags(doc)\n",
    "    doc = remove_hashtags(doc)\n",
    "    #print('without hashtags:', doc)\n",
    "    stop_free = \" \".join([i for i in doc.lower().split() if i not in stop])\n",
    "    #print('stop free:', doc)\n",
    "    punc_free = ''.join(ch for ch in stop_free if ch not in exclude)\n",
    "    #print('punc_free:', doc)\n",
    "    normalized = \" \".join(lemma.lemmatize(word) for word in punc_free.split())\n",
    "    #print('normalized:', normalized)\n",
    "    normalized = remove_non_az_characters(normalized)\n",
    "    #print('non-az removed:', normalized)\n",
    "    normalized = \" \".join(word for word in normalized.split() if len(word) > 3)\n",
    "    return normalized"
   ]
  },
  {
   "cell_type": "code",
   "execution_count": 9,
   "metadata": {},
   "outputs": [
    {
     "data": {
      "text/plain": [
       "'waaaaayyyy much angry'"
      ]
     },
     "execution_count": 9,
     "metadata": {},
     "output_type": "execute_result"
    }
   ],
   "source": [
    "clean('@remy: This is @hello waaaaayyyy too much. For you!!!!!! #angry https://google.com 😔')"
   ]
  },
  {
   "cell_type": "code",
   "execution_count": 14,
   "metadata": {},
   "outputs": [],
   "source": [
    "for i, tweet in enumerate(tweets_data):\n",
    "    tweet['cleaned_text'] = clean(tweet['text'])\n",
    "    tweets_data[i] = tweet"
   ]
  },
  {
   "cell_type": "markdown",
   "metadata": {},
   "source": [
    "# Tokenizing"
   ]
  },
  {
   "cell_type": "code",
   "execution_count": null,
   "metadata": {},
   "outputs": [],
   "source": [
    "# lower-casing\n",
    "# removing all URLs & mentions & stop-words & tokens that consist only of non-alphanumeric characters (no emoticons) & short tokens (<3 characters)\n",
    "# filter out all non-English\n",
    "# remove very long conversations (>200 tweets) to avoid excessively long documents\n",
    "# filter out all re-tweets (i.e., reposting tweets posted by other users) (they serve more as an endorsement rather than an original content)"
   ]
  },
  {
   "cell_type": "code",
   "execution_count": 21,
   "metadata": {},
   "outputs": [],
   "source": [
    "from nltk.tokenize import TweetTokenizer\n",
    "\n",
    "tknzr = TweetTokenizer(strip_handles=True, reduce_len=True)"
   ]
  },
  {
   "cell_type": "code",
   "execution_count": 16,
   "metadata": {},
   "outputs": [
    {
     "data": {
      "text/plain": [
       "[':',\n",
       " 'This',\n",
       " 'is',\n",
       " 'waaayyy',\n",
       " 'too',\n",
       " 'much',\n",
       " '.',\n",
       " 'For',\n",
       " 'you',\n",
       " '!',\n",
       " '!',\n",
       " '!',\n",
       " '#angry',\n",
       " 'https://google.com']"
      ]
     },
     "execution_count": 16,
     "metadata": {},
     "output_type": "execute_result"
    }
   ],
   "source": [
    "s1 = '@remy: This is waaaaayyyy too much. For you!!!!!! #angry https://google.com'\n",
    "tknzr.tokenize(s1)"
   ]
  },
  {
   "cell_type": "code",
   "execution_count": 17,
   "metadata": {},
   "outputs": [
    {
     "data": {
      "text/plain": [
       "['remy', 'hello', 'waaayyy', 'much', 'you', 'angry', '😔']"
      ]
     },
     "execution_count": 17,
     "metadata": {},
     "output_type": "execute_result"
    }
   ],
   "source": [
    "tknzr.tokenize('remy hello waaaaayyyy much you angry 😔')"
   ]
  },
  {
   "cell_type": "markdown",
   "metadata": {},
   "source": [
    "# Generating training set"
   ]
  },
  {
   "cell_type": "code",
   "execution_count": 18,
   "metadata": {},
   "outputs": [
    {
     "data": {
      "text/html": [
       "<div>\n",
       "<style scoped>\n",
       "    .dataframe tbody tr th:only-of-type {\n",
       "        vertical-align: middle;\n",
       "    }\n",
       "\n",
       "    .dataframe tbody tr th {\n",
       "        vertical-align: top;\n",
       "    }\n",
       "\n",
       "    .dataframe thead th {\n",
       "        text-align: right;\n",
       "    }\n",
       "</style>\n",
       "<table border=\"1\" class=\"dataframe\">\n",
       "  <thead>\n",
       "    <tr style=\"text-align: right;\">\n",
       "      <th></th>\n",
       "      <th>candidate</th>\n",
       "      <th>candidate_confidence</th>\n",
       "      <th>relevant_yn</th>\n",
       "      <th>relevant_yn_confidence</th>\n",
       "      <th>sentiment</th>\n",
       "      <th>sentiment_confidence</th>\n",
       "      <th>subject_matter</th>\n",
       "      <th>subject_matter_confidence</th>\n",
       "      <th>candidate_gold</th>\n",
       "      <th>name</th>\n",
       "      <th>relevant_yn_gold</th>\n",
       "      <th>retweet_count</th>\n",
       "      <th>sentiment_gold</th>\n",
       "      <th>subject_matter_gold</th>\n",
       "      <th>text</th>\n",
       "      <th>tweet_coord</th>\n",
       "      <th>tweet_created</th>\n",
       "      <th>tweet_id</th>\n",
       "      <th>tweet_location</th>\n",
       "      <th>user_timezone</th>\n",
       "    </tr>\n",
       "    <tr>\n",
       "      <th>id</th>\n",
       "      <th></th>\n",
       "      <th></th>\n",
       "      <th></th>\n",
       "      <th></th>\n",
       "      <th></th>\n",
       "      <th></th>\n",
       "      <th></th>\n",
       "      <th></th>\n",
       "      <th></th>\n",
       "      <th></th>\n",
       "      <th></th>\n",
       "      <th></th>\n",
       "      <th></th>\n",
       "      <th></th>\n",
       "      <th></th>\n",
       "      <th></th>\n",
       "      <th></th>\n",
       "      <th></th>\n",
       "      <th></th>\n",
       "      <th></th>\n",
       "    </tr>\n",
       "  </thead>\n",
       "  <tbody>\n",
       "    <tr>\n",
       "      <th>1</th>\n",
       "      <td>No candidate mentioned</td>\n",
       "      <td>1.0</td>\n",
       "      <td>yes</td>\n",
       "      <td>1.0</td>\n",
       "      <td>Neutral</td>\n",
       "      <td>0.6578</td>\n",
       "      <td>None of the above</td>\n",
       "      <td>1.0000</td>\n",
       "      <td>NaN</td>\n",
       "      <td>I_Am_Kenzi</td>\n",
       "      <td>NaN</td>\n",
       "      <td>5</td>\n",
       "      <td>NaN</td>\n",
       "      <td>NaN</td>\n",
       "      <td>RT @NancyLeeGrahn: How did everyone feel about...</td>\n",
       "      <td>NaN</td>\n",
       "      <td>2015-08-07 09:54:46 -0700</td>\n",
       "      <td>629697200650592256</td>\n",
       "      <td>NaN</td>\n",
       "      <td>Quito</td>\n",
       "    </tr>\n",
       "    <tr>\n",
       "      <th>2</th>\n",
       "      <td>Scott Walker</td>\n",
       "      <td>1.0</td>\n",
       "      <td>yes</td>\n",
       "      <td>1.0</td>\n",
       "      <td>Positive</td>\n",
       "      <td>0.6333</td>\n",
       "      <td>None of the above</td>\n",
       "      <td>1.0000</td>\n",
       "      <td>NaN</td>\n",
       "      <td>PeacefulQuest</td>\n",
       "      <td>NaN</td>\n",
       "      <td>26</td>\n",
       "      <td>NaN</td>\n",
       "      <td>NaN</td>\n",
       "      <td>RT @ScottWalker: Didn't catch the full #GOPdeb...</td>\n",
       "      <td>NaN</td>\n",
       "      <td>2015-08-07 09:54:46 -0700</td>\n",
       "      <td>629697199560069120</td>\n",
       "      <td>NaN</td>\n",
       "      <td>NaN</td>\n",
       "    </tr>\n",
       "    <tr>\n",
       "      <th>3</th>\n",
       "      <td>No candidate mentioned</td>\n",
       "      <td>1.0</td>\n",
       "      <td>yes</td>\n",
       "      <td>1.0</td>\n",
       "      <td>Neutral</td>\n",
       "      <td>0.6629</td>\n",
       "      <td>None of the above</td>\n",
       "      <td>0.6629</td>\n",
       "      <td>NaN</td>\n",
       "      <td>PussssyCroook</td>\n",
       "      <td>NaN</td>\n",
       "      <td>27</td>\n",
       "      <td>NaN</td>\n",
       "      <td>NaN</td>\n",
       "      <td>RT @TJMShow: No mention of Tamir Rice and the ...</td>\n",
       "      <td>NaN</td>\n",
       "      <td>2015-08-07 09:54:46 -0700</td>\n",
       "      <td>629697199312482304</td>\n",
       "      <td>NaN</td>\n",
       "      <td>NaN</td>\n",
       "    </tr>\n",
       "    <tr>\n",
       "      <th>4</th>\n",
       "      <td>No candidate mentioned</td>\n",
       "      <td>1.0</td>\n",
       "      <td>yes</td>\n",
       "      <td>1.0</td>\n",
       "      <td>Positive</td>\n",
       "      <td>1.0000</td>\n",
       "      <td>None of the above</td>\n",
       "      <td>0.7039</td>\n",
       "      <td>NaN</td>\n",
       "      <td>MattFromTexas31</td>\n",
       "      <td>NaN</td>\n",
       "      <td>138</td>\n",
       "      <td>NaN</td>\n",
       "      <td>NaN</td>\n",
       "      <td>RT @RobGeorge: That Carly Fiorina is trending ...</td>\n",
       "      <td>NaN</td>\n",
       "      <td>2015-08-07 09:54:45 -0700</td>\n",
       "      <td>629697197118861312</td>\n",
       "      <td>Texas</td>\n",
       "      <td>Central Time (US &amp; Canada)</td>\n",
       "    </tr>\n",
       "    <tr>\n",
       "      <th>5</th>\n",
       "      <td>Donald Trump</td>\n",
       "      <td>1.0</td>\n",
       "      <td>yes</td>\n",
       "      <td>1.0</td>\n",
       "      <td>Positive</td>\n",
       "      <td>0.7045</td>\n",
       "      <td>None of the above</td>\n",
       "      <td>1.0000</td>\n",
       "      <td>NaN</td>\n",
       "      <td>sharonDay5</td>\n",
       "      <td>NaN</td>\n",
       "      <td>156</td>\n",
       "      <td>NaN</td>\n",
       "      <td>NaN</td>\n",
       "      <td>RT @DanScavino: #GOPDebate w/ @realDonaldTrump...</td>\n",
       "      <td>NaN</td>\n",
       "      <td>2015-08-07 09:54:45 -0700</td>\n",
       "      <td>629697196967903232</td>\n",
       "      <td>NaN</td>\n",
       "      <td>Arizona</td>\n",
       "    </tr>\n",
       "  </tbody>\n",
       "</table>\n",
       "</div>"
      ],
      "text/plain": [
       "                 candidate  candidate_confidence relevant_yn  \\\n",
       "id                                                             \n",
       "1   No candidate mentioned                   1.0         yes   \n",
       "2             Scott Walker                   1.0         yes   \n",
       "3   No candidate mentioned                   1.0         yes   \n",
       "4   No candidate mentioned                   1.0         yes   \n",
       "5             Donald Trump                   1.0         yes   \n",
       "\n",
       "    relevant_yn_confidence sentiment  sentiment_confidence     subject_matter  \\\n",
       "id                                                                              \n",
       "1                      1.0   Neutral                0.6578  None of the above   \n",
       "2                      1.0  Positive                0.6333  None of the above   \n",
       "3                      1.0   Neutral                0.6629  None of the above   \n",
       "4                      1.0  Positive                1.0000  None of the above   \n",
       "5                      1.0  Positive                0.7045  None of the above   \n",
       "\n",
       "    subject_matter_confidence candidate_gold             name  \\\n",
       "id                                                              \n",
       "1                      1.0000            NaN       I_Am_Kenzi   \n",
       "2                      1.0000            NaN    PeacefulQuest   \n",
       "3                      0.6629            NaN    PussssyCroook   \n",
       "4                      0.7039            NaN  MattFromTexas31   \n",
       "5                      1.0000            NaN       sharonDay5   \n",
       "\n",
       "   relevant_yn_gold  retweet_count sentiment_gold subject_matter_gold  \\\n",
       "id                                                                      \n",
       "1               NaN              5            NaN                 NaN   \n",
       "2               NaN             26            NaN                 NaN   \n",
       "3               NaN             27            NaN                 NaN   \n",
       "4               NaN            138            NaN                 NaN   \n",
       "5               NaN            156            NaN                 NaN   \n",
       "\n",
       "                                                 text tweet_coord  \\\n",
       "id                                                                  \n",
       "1   RT @NancyLeeGrahn: How did everyone feel about...         NaN   \n",
       "2   RT @ScottWalker: Didn't catch the full #GOPdeb...         NaN   \n",
       "3   RT @TJMShow: No mention of Tamir Rice and the ...         NaN   \n",
       "4   RT @RobGeorge: That Carly Fiorina is trending ...         NaN   \n",
       "5   RT @DanScavino: #GOPDebate w/ @realDonaldTrump...         NaN   \n",
       "\n",
       "                tweet_created            tweet_id tweet_location  \\\n",
       "id                                                                 \n",
       "1   2015-08-07 09:54:46 -0700  629697200650592256            NaN   \n",
       "2   2015-08-07 09:54:46 -0700  629697199560069120            NaN   \n",
       "3   2015-08-07 09:54:46 -0700  629697199312482304            NaN   \n",
       "4   2015-08-07 09:54:45 -0700  629697197118861312          Texas   \n",
       "5   2015-08-07 09:54:45 -0700  629697196967903232            NaN   \n",
       "\n",
       "                 user_timezone  \n",
       "id                              \n",
       "1                        Quito  \n",
       "2                          NaN  \n",
       "3                          NaN  \n",
       "4   Central Time (US & Canada)  \n",
       "5                      Arizona  "
      ]
     },
     "execution_count": 18,
     "metadata": {},
     "output_type": "execute_result"
    }
   ],
   "source": [
    "dataframe = pd.read_csv(\"Sentiment.csv\", sep=\",\", index_col='id')\n",
    "dataframe.head()"
   ]
  },
  {
   "cell_type": "code",
   "execution_count": 19,
   "metadata": {},
   "outputs": [
    {
     "data": {
      "text/html": [
       "<div>\n",
       "<style scoped>\n",
       "    .dataframe tbody tr th:only-of-type {\n",
       "        vertical-align: middle;\n",
       "    }\n",
       "\n",
       "    .dataframe tbody tr th {\n",
       "        vertical-align: top;\n",
       "    }\n",
       "\n",
       "    .dataframe thead th {\n",
       "        text-align: right;\n",
       "    }\n",
       "</style>\n",
       "<table border=\"1\" class=\"dataframe\">\n",
       "  <thead>\n",
       "    <tr style=\"text-align: right;\">\n",
       "      <th></th>\n",
       "      <th>sentiment</th>\n",
       "      <th>text</th>\n",
       "    </tr>\n",
       "    <tr>\n",
       "      <th>id</th>\n",
       "      <th></th>\n",
       "      <th></th>\n",
       "    </tr>\n",
       "  </thead>\n",
       "  <tbody>\n",
       "    <tr>\n",
       "      <th>1</th>\n",
       "      <td>Neutral</td>\n",
       "      <td>RT @NancyLeeGrahn: How did everyone feel about...</td>\n",
       "    </tr>\n",
       "    <tr>\n",
       "      <th>2</th>\n",
       "      <td>Positive</td>\n",
       "      <td>RT @ScottWalker: Didn't catch the full #GOPdeb...</td>\n",
       "    </tr>\n",
       "    <tr>\n",
       "      <th>3</th>\n",
       "      <td>Neutral</td>\n",
       "      <td>RT @TJMShow: No mention of Tamir Rice and the ...</td>\n",
       "    </tr>\n",
       "    <tr>\n",
       "      <th>4</th>\n",
       "      <td>Positive</td>\n",
       "      <td>RT @RobGeorge: That Carly Fiorina is trending ...</td>\n",
       "    </tr>\n",
       "    <tr>\n",
       "      <th>5</th>\n",
       "      <td>Positive</td>\n",
       "      <td>RT @DanScavino: #GOPDebate w/ @realDonaldTrump...</td>\n",
       "    </tr>\n",
       "  </tbody>\n",
       "</table>\n",
       "</div>"
      ],
      "text/plain": [
       "   sentiment                                               text\n",
       "id                                                             \n",
       "1    Neutral  RT @NancyLeeGrahn: How did everyone feel about...\n",
       "2   Positive  RT @ScottWalker: Didn't catch the full #GOPdeb...\n",
       "3    Neutral  RT @TJMShow: No mention of Tamir Rice and the ...\n",
       "4   Positive  RT @RobGeorge: That Carly Fiorina is trending ...\n",
       "5   Positive  RT @DanScavino: #GOPDebate w/ @realDonaldTrump..."
      ]
     },
     "execution_count": 19,
     "metadata": {},
     "output_type": "execute_result"
    }
   ],
   "source": [
    "dataframe = dataframe[['sentiment', 'text']]\n",
    "dataframe.head()"
   ]
  },
  {
   "cell_type": "code",
   "execution_count": 18,
   "metadata": {},
   "outputs": [],
   "source": [
    "#dataframe2 = dataframe\n",
    "#dataframe2['sentiment'].iloc[0] = np.array('bla')\n",
    "#dataframe2['text'].iloc[0] = np.array('text bla')\n",
    "#print(dataframe2.head())\n",
    "#del dataframe2"
   ]
  },
  {
   "cell_type": "code",
   "execution_count": 22,
   "metadata": {},
   "outputs": [],
   "source": [
    "training_set = []\n",
    "\n",
    "for index, row in dataframe.iterrows():\n",
    "    sentiment = row['sentiment']\n",
    "    tweet_text = row['text']\n",
    "    # cleaning\n",
    "    cleaned_text = clean(tweet_text)\n",
    "    # tokenizing\n",
    "    tokenized_tweet = tknzr.tokenize(cleaned_text)\n",
    "    \n",
    "    training_set.append((tokenized_tweet, sentiment))\n",
    "    "
   ]
  },
  {
   "cell_type": "code",
   "execution_count": 23,
   "metadata": {},
   "outputs": [],
   "source": [
    "# Get the separate words in tweets\n",
    "# Input:  A list of tweets\n",
    "# Output: A list of all words in the tweets\n",
    "def get_words_in_tweets(tweets):\n",
    "    all_words = []\n",
    "    for (words, sentiment) in tweets:\n",
    "        all_words.extend(words)\n",
    "    return all_words\n",
    "\n",
    "# Create a dictionary measuring word frequencies\n",
    "# Input: the list of words\n",
    "# Output: the frequency of those words apearing in tweets\n",
    "def get_word_features(wordlist):\n",
    "    wordlist = nltk.FreqDist(wordlist)\n",
    "    word_features = wordlist.keys()\n",
    "    # print (\"Word frequency list\\n\")\n",
    "    # pprint(wordlist)\n",
    "    return word_features\n"
   ]
  },
  {
   "cell_type": "code",
   "execution_count": 24,
   "metadata": {},
   "outputs": [],
   "source": [
    "word_features = get_word_features(get_words_in_tweets(training_set))\n",
    "\n",
    "# Construct our features based on which tweets contain which word\n",
    "def extract_features(document):\n",
    "    document_words = set(document)\n",
    "    features = {}\n",
    "    for word in word_features:\n",
    "        features[word] = (word in document_words)\n",
    "    return features"
   ]
  },
  {
   "cell_type": "code",
   "execution_count": 25,
   "metadata": {},
   "outputs": [],
   "source": [
    "# Here we apply the features we constructed to our tweets data.\n",
    "training_set = nltk.classify.apply_features(extract_features, training_set)"
   ]
  },
  {
   "cell_type": "code",
   "execution_count": 23,
   "metadata": {},
   "outputs": [],
   "source": [
    "# Printing the resulting training set shows the features we are going to pass to the classifier.\n",
    "# pprint(training_set)"
   ]
  },
  {
   "cell_type": "code",
   "execution_count": 26,
   "metadata": {},
   "outputs": [],
   "source": [
    "# This is the line of code that we use to train our classifier. Training is performed in a streamlined way so no output is visible.\n",
    "classifier = nltk.NaiveBayesClassifier.train(training_set)"
   ]
  },
  {
   "cell_type": "code",
   "execution_count": 27,
   "metadata": {},
   "outputs": [
    {
     "name": "stdout",
     "output_type": "stream",
     "text": [
      "Most Informative Features\n",
      "              imwithhuck = True           Positi : Negati =     69.6 : 1.0\n",
      "                 forward = True           Positi : Negati =     35.2 : 1.0\n",
      "                    imho = True           Positi : Negati =     31.6 : 1.0\n",
      "               obviously = True           Negati : Positi =     28.0 : 1.0\n",
      "              transcript = True           Neutra : Negati =     27.9 : 1.0\n",
      "               influence = True           Negati : Positi =     27.5 : 1.0\n",
      "                  makeup = True           Negati : Positi =     26.2 : 1.0\n",
      "                   punch = True           Negati : Positi =     24.0 : 1.0\n",
      "                    sets = True           Neutra : Negati =     22.5 : 1.0\n",
      "                   icymi = True           Neutra : Negati =     22.5 : 1.0\n",
      "                 raising = True           Positi : Neutra =     22.0 : 1.0\n",
      "                 enjoyed = True           Positi : Neutra =     21.1 : 1.0\n",
      "                   loved = True           Positi : Neutra =     19.4 : 1.0\n",
      "                  listen = True           Negati : Positi =     19.2 : 1.0\n",
      "             livetweeted = True           Neutra : Negati =     18.9 : 1.0\n",
      "                 merited = True           Neutra : Negati =     18.9 : 1.0\n",
      "       democraticdebates = True           Positi : Neutra =     18.9 : 1.0\n",
      "                 reminds = True           Negati : Positi =     17.9 : 1.0\n",
      "                   music = True           Negati : Neutra =     17.4 : 1.0\n",
      "                elevator = True           Negati : Neutra =     17.2 : 1.0\n",
      "               delivered = True           Positi : Negati =     16.5 : 1.0\n",
      "                   adult = True           Negati : Positi =     16.2 : 1.0\n",
      "               fantastic = True           Positi : Negati =     15.9 : 1.0\n",
      "           disappointing = True           Negati : Neutra =     15.8 : 1.0\n",
      "              conducting = True           Negati : Neutra =     14.9 : 1.0\n",
      "                  untill = True           Positi : Neutra =     14.3 : 1.0\n",
      "                 express = True           Positi : Negati =     13.9 : 1.0\n",
      "                strength = True           Positi : Negati =     13.9 : 1.0\n",
      "             gaymarriage = True           Positi : Negati =     13.9 : 1.0\n",
      "              throughout = True           Neutra : Negati =     13.5 : 1.0\n",
      "               cleveland = True           Neutra : Negati =     13.0 : 1.0\n",
      "                   money = True           Negati : Positi =     13.0 : 1.0\n",
      "None\n"
     ]
    }
   ],
   "source": [
    "print (classifier.show_most_informative_features(32))"
   ]
  },
  {
   "cell_type": "code",
   "execution_count": 28,
   "metadata": {
    "scrolled": true
   },
   "outputs": [
    {
     "name": "stdout",
     "output_type": "stream",
     "text": [
      "Negative\n"
     ]
    }
   ],
   "source": [
    "# The tweet we are about to classify\n",
    "tweet = 'This dish is horrible'\n",
    "print (classifier.classify(extract_features(tweet.split())))"
   ]
  },
  {
   "cell_type": "code",
   "execution_count": 29,
   "metadata": {},
   "outputs": [
    {
     "name": "stdout",
     "output_type": "stream",
     "text": [
      "Negative\n"
     ]
    }
   ],
   "source": [
    "tweet = 'Ivo listens to horrendous electronic music'\n",
    "print (classifier.classify(extract_features(tweet.split())))"
   ]
  },
  {
   "cell_type": "markdown",
   "metadata": {},
   "source": [
    "## Are our tweets positive, negative or neutral?"
   ]
  },
  {
   "cell_type": "code",
   "execution_count": 30,
   "metadata": {},
   "outputs": [],
   "source": [
    "NUM_TWEETS = len(tweets_data) # len(tweets_data)"
   ]
  },
  {
   "cell_type": "code",
   "execution_count": 47,
   "metadata": {},
   "outputs": [
    {
     "name": "stdout",
     "output_type": "stream",
     "text": [
      "0\n",
      "10000\n",
      "20000\n",
      "30000\n",
      "40000\n",
      "50000\n",
      "60000\n",
      "70000\n",
      "80000\n",
      "90000\n",
      "100000\n",
      "110000\n",
      "120000\n",
      "130000\n",
      "140000\n",
      "150000\n",
      "160000\n",
      "170000\n",
      "180000\n",
      "190000\n",
      "200000\n",
      "210000\n",
      "220000\n",
      "230000\n",
      "240000\n",
      "250000\n",
      "260000\n",
      "270000\n",
      "280000\n",
      "290000\n",
      "300000\n",
      "310000\n",
      "320000\n",
      "330000\n",
      "340000\n",
      "350000\n",
      "360000\n",
      "370000\n",
      "380000\n",
      "390000\n",
      "400000\n",
      "410000\n",
      "420000\n",
      "430000\n",
      "440000\n",
      "450000\n"
     ]
    }
   ],
   "source": [
    "for i, tweet in enumerate(tweets_data[197909:NUM_TWEETS]):\n",
    "    if i % 10000 == 0:\n",
    "        print(i)\n",
    "    if 'sentiment' in tweet:\n",
    "        continue\n",
    "    cleanedText = tweet['cleaned_text']\n",
    "    tweet['sentiment'] = classifier.classify(extract_features(cleanedText.split()))"
   ]
  },
  {
   "cell_type": "code",
   "execution_count": 48,
   "metadata": {},
   "outputs": [
    {
     "name": "stdout",
     "output_type": "stream",
     "text": [
      "False\n"
     ]
    }
   ],
   "source": [
    "found = False\n",
    "for i, tweet in enumerate(tweets_data[:NUM_TWEETS]):\n",
    "    if 'sentiment' not in tweet:\n",
    "        print(i)\n",
    "        found = True\n",
    "        break\n",
    "print(found)"
   ]
  },
  {
   "cell_type": "code",
   "execution_count": 85,
   "metadata": {},
   "outputs": [],
   "source": [
    "tweets_data = [tweet for tweet in tweets_data if tweet['cleaned_text'] != \"\"]"
   ]
  },
  {
   "cell_type": "code",
   "execution_count": 86,
   "metadata": {},
   "outputs": [
    {
     "data": {
      "text/plain": [
       "607531"
      ]
     },
     "execution_count": 86,
     "metadata": {},
     "output_type": "execute_result"
    }
   ],
   "source": [
    "len(tweets_data)"
   ]
  },
  {
   "cell_type": "markdown",
   "metadata": {},
   "source": [
    "# Positivity - Negativity - Neutrality per state"
   ]
  },
  {
   "cell_type": "code",
   "execution_count": 87,
   "metadata": {},
   "outputs": [
    {
     "name": "stdout",
     "output_type": "stream",
     "text": [
      "31708 466260 109563\n"
     ]
    }
   ],
   "source": [
    "positivesTweets = 0\n",
    "neutralTweets = 0\n",
    "negativesTweets = 0\n",
    "\n",
    "for i, tweet in enumerate(tweets_data[:NUM_TWEETS]):\n",
    "    sentiment = tweet['sentiment']\n",
    "    \n",
    "    if sentiment == 'Positive':\n",
    "        positivesTweets += 1\n",
    "        s = 1\n",
    "    elif sentiment == 'Negative':\n",
    "        negativesTweets += 1\n",
    "        s = -1\n",
    "    else:  # neutral\n",
    "        neutralTweets += 1\n",
    "        s = 0\n",
    "    tweets_data[i]['sentiment_num'] = s\n",
    "print(positivesTweets, negativesTweets, neutralTweets)\n",
    "\n",
    "mapStateToSentiment = {}\n",
    "for tweet in tweets_data[:NUM_TWEETS]:\n",
    "    if tweet['place'] == None:\n",
    "        continue\n",
    "    countryCode = tweet['place']['country_code']\n",
    "\n",
    "    city = tweet['place']['full_name']\n",
    "    if countryCode != 'US' or ',' not in city:\n",
    "        continue\n",
    "    cityAndState = city.split(',')\n",
    "    state = cityAndState[1].strip()\n",
    "    if len(state) != 2: # skip Philadelphia\n",
    "        continue\n",
    "    tweet['place']['state_name'] = state\n",
    "    s = tweet['sentiment_num']\n",
    "    if state not in mapStateToSentiment:\n",
    "        mapStateToSentiment[state] = 0\n",
    "    mapStateToSentiment[state] += s\n",
    "    \n",
    "values = mapStateToSentiment.values()\n",
    "min_sentiment = min(values)\n",
    "max_sentiment = max(values)"
   ]
  },
  {
   "cell_type": "code",
   "execution_count": 50,
   "metadata": {},
   "outputs": [
    {
     "data": {
      "text/plain": [
       "52"
      ]
     },
     "execution_count": 50,
     "metadata": {},
     "output_type": "execute_result"
    }
   ],
   "source": [
    "len(mapStateToSentiment.keys())"
   ]
  },
  {
   "cell_type": "code",
   "execution_count": 88,
   "metadata": {},
   "outputs": [
    {
     "data": {
      "text/plain": [
       "{'LA': -2328,\n",
       " 'MD': -6393,\n",
       " 'CA': -43919,\n",
       " 'NJ': -11091,\n",
       " 'TX': -23454,\n",
       " 'MI': -6065,\n",
       " 'KY': -2191,\n",
       " 'IA': -2301,\n",
       " 'FL': -26963,\n",
       " 'MA': -8083,\n",
       " 'PA': -9103,\n",
       " 'VA': -6739,\n",
       " 'AZ': -10117,\n",
       " 'NY': -28846,\n",
       " 'UT': -1622,\n",
       " 'OR': -5166,\n",
       " 'CT': -2764,\n",
       " 'MO': -3920,\n",
       " 'SC': -2665,\n",
       " 'DE': -336,\n",
       " 'OK': -2236,\n",
       " 'IL': -12342,\n",
       " 'TN': -5162,\n",
       " 'KS': -1680,\n",
       " 'MS': -1582,\n",
       " 'NC': -6781,\n",
       " 'GA': -5997,\n",
       " 'OH': -8259,\n",
       " 'MN': -2635,\n",
       " 'WI': -2561,\n",
       " 'ME': -1165,\n",
       " 'CO': -4487,\n",
       " 'AR': -956,\n",
       " 'WA': -7293,\n",
       " 'RI': -1399,\n",
       " 'NV': -4840,\n",
       " 'DC': -2860,\n",
       " 'NE': -1165,\n",
       " 'WV': -764,\n",
       " 'IN': -3244,\n",
       " 'HI': -1733,\n",
       " 'ID': -967,\n",
       " 'AL': -3524,\n",
       " 'NM': -1764,\n",
       " 'NH': -1265,\n",
       " 'VT': -190,\n",
       " 'ND': -193,\n",
       " 'MT': -268,\n",
       " 'SD': -250,\n",
       " 'AK': -738,\n",
       " 'WY': -250,\n",
       " 'Mo': -1}"
      ]
     },
     "execution_count": 88,
     "metadata": {},
     "output_type": "execute_result"
    }
   ],
   "source": [
    "mapStateToSentiment"
   ]
  },
  {
   "cell_type": "code",
   "execution_count": 89,
   "metadata": {},
   "outputs": [],
   "source": [
    "S_DIR = 'states_21basic/' \n",
    "BLUE = '#5599ff'\n",
    "\n",
    "with open(os.path.join(S_DIR, 'states.json')) as rf:    \n",
    "    data = json.load(rf)\n",
    "\n",
    "def displayUSMap(mapp, cmap = plt.cm.inferno):\n",
    "    fig = plt.figure(figsize=(20,10))\n",
    "    ax = fig.gca()\n",
    "    for feature in data['features']:\n",
    "        geometry = feature['geometry']\n",
    "        props = feature['properties']\n",
    "        NAME = props['STATE_ABBR']\n",
    "        POP = mapp.get(NAME,0)\n",
    "        norm = matplotlib.colors.Normalize(vmin=min_sentiment, vmax=max_sentiment)\n",
    "        col = cmap(norm(POP))\n",
    "        #print(NAME,POP,col)\n",
    "        if geometry['type'] == 'Polygon':\n",
    "            poly = geometry\n",
    "            ppatch = PolygonPatch(poly, fc=col, ec=col,  alpha=0.5, zorder=2)\n",
    "            ax.add_patch(ppatch)\n",
    "        elif geometry['type'] == 'MultiPolygon':\n",
    "            for polygon in geometry['coordinates'][0]:\n",
    "                poly = Polygon(polygon)\n",
    "                ppatch = PolygonPatch(poly, fc=col, ec=col, alpha=0.5, zorder=2)\n",
    "                ax.add_patch(ppatch)\n",
    "        else:\n",
    "            print('Don\\'t know how to draw :', geometry['type'])\n",
    "\n",
    "    ax.axis('scaled')\n",
    "    plt.axis('off')\n",
    "    plt.show()"
   ]
  },
  {
   "cell_type": "code",
   "execution_count": 90,
   "metadata": {},
   "outputs": [
    {
     "data": {
      "image/png": "[encoded data removed]",
      "text/plain": [
       "<Figure size 1440x720 with 1 Axes>"
      ]
     },
     "metadata": {},
     "output_type": "display_data"
    }
   ],
   "source": [
    "displayUSMap(mapStateToSentiment, plt.cm.inferno)"
   ]
  },
  {
   "cell_type": "markdown",
   "metadata": {},
   "source": [
    "# Hillary vs Trump?"
   ]
  },
  {
   "cell_type": "code",
   "execution_count": 91,
   "metadata": {},
   "outputs": [],
   "source": [
    "for i, tweet in enumerate(tweets_data[:NUM_TWEETS]):\n",
    "    talk = tweet['talk']\n",
    "    if talk == 'hillary':\n",
    "        s = 1\n",
    "    elif talk == 'trump':\n",
    "        s = -1\n",
    "    elif talk == 'both':\n",
    "        s = 0\n",
    "    else:  # neutral\n",
    "        s = None\n",
    "    tweets_data[i]['talk_num'] = s\n",
    "\n",
    "mapStateToTalk = {}\n",
    "for tweet in tweets_data[:NUM_TWEETS]:\n",
    "    if tweet['place'] == None:\n",
    "        continue\n",
    "    countryCode = tweet['place']['country_code']\n",
    "    city = tweet['place']['full_name']\n",
    "    if countryCode != 'US' or ',' not in city:\n",
    "        continue\n",
    "    cityAndState = city.split(',')\n",
    "    state = cityAndState[1].strip()\n",
    "    if len(state) != 2: # skip Philadelphia\n",
    "        continue\n",
    "    tweet['place']['state_name'] = state\n",
    "    s = tweet['talk_num']\n",
    "    #print(s)\n",
    "    if s == None:\n",
    "        continue\n",
    "    if state not in mapStateToTalk:\n",
    "        mapStateToTalk[state] = 0\n",
    "    \n",
    "    mapStateToTalk[state] += s\n",
    "\n",
    "\n",
    "values = mapStateToTalk.values()\n",
    "\n",
    "min_talk = min(values)\n",
    "max_talk = max(values)"
   ]
  },
  {
   "cell_type": "code",
   "execution_count": 92,
   "metadata": {},
   "outputs": [
    {
     "data": {
      "image/png": "[encoded data removed]",
      "text/plain": [
       "<Figure size 1440x720 with 1 Axes>"
      ]
     },
     "metadata": {},
     "output_type": "display_data"
    }
   ],
   "source": [
    "displayUSMap(mapStateToTalk)"
   ]
  },
  {
   "cell_type": "code",
   "execution_count": 93,
   "metadata": {},
   "outputs": [
    {
     "name": "stdout",
     "output_type": "stream",
     "text": [
      "-20953 -1\n"
     ]
    }
   ],
   "source": [
    "print(min_talk, max_talk)"
   ]
  },
  {
   "cell_type": "code",
   "execution_count": 94,
   "metadata": {},
   "outputs": [
    {
     "data": {
      "text/plain": [
       "{'LA': -1388,\n",
       " 'MD': -4140,\n",
       " 'CA': -20953,\n",
       " 'NJ': -4642,\n",
       " 'TX': -11430,\n",
       " 'MI': -2854,\n",
       " 'KY': -1032,\n",
       " 'IA': -545,\n",
       " 'FL': -11692,\n",
       " 'MA': -3835,\n",
       " 'PA': -4307,\n",
       " 'VA': -1886,\n",
       " 'AZ': -5582,\n",
       " 'NY': -15001,\n",
       " 'UT': -666,\n",
       " 'OR': -2696,\n",
       " 'CT': -1295,\n",
       " 'MO': -1381,\n",
       " 'SC': -886,\n",
       " 'DE': -119,\n",
       " 'OK': -748,\n",
       " 'IL': -5992,\n",
       " 'TN': -2395,\n",
       " 'KS': -943,\n",
       " 'MS': -382,\n",
       " 'NC': -2880,\n",
       " 'GA': -2602,\n",
       " 'OH': -3158,\n",
       " 'MN': -1128,\n",
       " 'WI': -1486,\n",
       " 'ME': -459,\n",
       " 'CO': -599,\n",
       " 'AR': -219,\n",
       " 'WA': -3747,\n",
       " 'RI': -450,\n",
       " 'NV': -1891,\n",
       " 'DC': -1524,\n",
       " 'NE': -732,\n",
       " 'WV': -587,\n",
       " 'IN': -1273,\n",
       " 'HI': -1005,\n",
       " 'ID': -537,\n",
       " 'AL': -2272,\n",
       " 'NM': -928,\n",
       " 'NH': -568,\n",
       " 'VT': -44,\n",
       " 'ND': -75,\n",
       " 'MT': -81,\n",
       " 'SD': -112,\n",
       " 'AK': -344,\n",
       " 'WY': -62,\n",
       " 'Mo': -1}"
      ]
     },
     "execution_count": 94,
     "metadata": {},
     "output_type": "execute_result"
    }
   ],
   "source": [
    "mapStateToTalk"
   ]
  },
  {
   "cell_type": "code",
   "execution_count": 46,
   "metadata": {},
   "outputs": [],
   "source": [
    "# import json\n",
    "# \n",
    "# with open('customTweetsWithSentiment.jsons', 'w') as file:\n",
    "#     for i, tweet in enumerate(tweets_data):\n",
    "#         file.write(json.dumps(tweet) + '\\n')"
   ]
  },
  {
   "cell_type": "markdown",
   "metadata": {},
   "source": [
    "# Which kind of tweets are replied the most? (Albert) Are neutral tweet more or less likely to be replied than positive and negative tweets?"
   ]
  },
  {
   "cell_type": "code",
   "execution_count": 1,
   "metadata": {},
   "outputs": [],
   "source": [
    "# tweet1 - positive = 2\n",
    "# \ttweet2 - negative = 0\n",
    "# \ttweet3 - negative = 1\n",
    "# \t\ttweet4 - neutral = 1\n",
    "# \t\t\ttweet6 - positive = 0\n",
    "# \n",
    "# tweet5 - negative = 0"
   ]
  },
  {
   "cell_type": "code",
   "execution_count": 14,
   "metadata": {},
   "outputs": [],
   "source": [
    "tweets_test = [\n",
    "    {\n",
    "        'id': 1,\n",
    "        'in_reply_to_status_id': -1,\n",
    "        'sentiment':'Positive'\n",
    "    },\n",
    "    {\n",
    "        'id': 2,\n",
    "        'in_reply_to_status_id': 1,\n",
    "        'sentiment':'Negative'\n",
    "    },\n",
    "    {\n",
    "        'id': 3,\n",
    "        'in_reply_to_status_id': 1,\n",
    "        'sentiment':'Negative'\n",
    "    },\n",
    "    {\n",
    "        'id': 4,\n",
    "        'in_reply_to_status_id': 3,\n",
    "        'sentiment':'Neutral'\n",
    "    },\n",
    "    {\n",
    "        'id': 6,\n",
    "        'in_reply_to_status_id': 4,\n",
    "        'sentiment':'Neutral'\n",
    "    },\n",
    "    {\n",
    "        'id': 5,\n",
    "        'in_reply_to_status_id': -1,\n",
    "        'sentiment':'Negative'\n",
    "    },\n",
    "]"
   ]
  },
  {
   "cell_type": "code",
   "execution_count": 12,
   "metadata": {},
   "outputs": [],
   "source": [
    "mapIdToIdx = {}\n",
    "for i, tweet in enumerate(tweets_data):\n",
    "    mapIdToIdx[tweet['id']] = i\n",
    "def getTweetThatThisIsAnsweringTo(tweetIdToFind, tweets):\n",
    "    global mapIdToIdx\n",
    "    idx = mapIdToIdx.get(tweetIdToFind,None)\n",
    "    return None if idx == None else tweets[idx]\n",
    "\n",
    "mapSentimentToRepliesCount = {'Positive': 0, 'Negative': 0, 'Neutral': 0}\n",
    "\n",
    "def f(tweet, tweets, isParent):\n",
    "    id = tweet['id']\n",
    "    in_reply_to_status_id = tweet['in_reply_to_status_id']\n",
    "    sentiment = tweet['sentiment']\n",
    "    \n",
    "    parentTweet = getTweetThatThisIsAnsweringTo(in_reply_to_status_id, tweets)\n",
    "    if not(parentTweet == None or isParent == True): # parent found\n",
    "        f(parentTweet, tweets, True)\n",
    "    elif isParent == True:\n",
    "        mapSentimentToRepliesCount[sentiment] += 1\n",
    "        if 'replies' in tweet:\n",
    "            tweet['replies'] += 1\n",
    "        else:\n",
    "            tweet['replies'] = 1\n",
    "\n"
   ]
  },
  {
   "cell_type": "code",
   "execution_count": 14,
   "metadata": {},
   "outputs": [
    {
     "name": "stdout",
     "output_type": "stream",
     "text": [
      "0\n",
      "50000\n",
      "100000\n",
      "150000\n",
      "200000\n",
      "250000\n",
      "300000\n",
      "350000\n",
      "400000\n",
      "450000\n",
      "500000\n",
      "550000\n",
      "600000\n",
      "650000\n"
     ]
    },
    {
     "data": {
      "text/plain": [
       "{'Positive': 2654, 'Negative': 29096, 'Neutral': 6976}"
      ]
     },
     "execution_count": 14,
     "metadata": {},
     "output_type": "execute_result"
    }
   ],
   "source": [
    "# sha de fer tot de cop, borrar replies primer\n",
    "for i, tweet in enumerate(tweets_data):\n",
    "    if 'replies' in tweets_data[i]:\n",
    "        del tweets_data[i]['replies']\n",
    "\n",
    "num = len(tweets_data)\n",
    "\n",
    "for i, tweet in enumerate(tweets_data[:num]):\n",
    "    f(tweet, tweets_data[:num], False)\n",
    "    if i%50000==0:\n",
    "        print(i)\n",
    "    \n",
    "    \n",
    "mapSentimentToRepliesCount"
   ]
  },
  {
   "cell_type": "code",
   "execution_count": 60,
   "metadata": {},
   "outputs": [
    {
     "data": {
      "text/plain": [
       "202073"
      ]
     },
     "execution_count": 60,
     "metadata": {},
     "output_type": "execute_result"
    }
   ],
   "source": [
    "i"
   ]
  },
  {
   "cell_type": "code",
   "execution_count": 11,
   "metadata": {},
   "outputs": [
    {
     "name": "stdout",
     "output_type": "stream",
     "text": [
      "0\n"
     ]
    }
   ],
   "source": [
    "for i, tweet in enumerate(tweets_data[:num]):\n",
    "    if 'replies' not in tweet:\n",
    "        print(i)\n",
    "        break"
   ]
  },
  {
   "cell_type": "code",
   "execution_count": 76,
   "metadata": {},
   "outputs": [
    {
     "data": {
      "text/plain": [
       "False"
      ]
     },
     "execution_count": 76,
     "metadata": {},
     "output_type": "execute_result"
    }
   ],
   "source": [
    "764042476487217152 in mapIdToIdx"
   ]
  },
  {
   "cell_type": "code",
   "execution_count": 78,
   "metadata": {},
   "outputs": [
    {
     "data": {
      "text/plain": [
       "0"
      ]
     },
     "execution_count": 78,
     "metadata": {},
     "output_type": "execute_result"
    }
   ],
   "source": [
    "mapIdToIdx.get(764042476487417152,0)"
   ]
  },
  {
   "cell_type": "code",
   "execution_count": 79,
   "metadata": {},
   "outputs": [
    {
     "data": {
      "text/plain": [
       "55"
      ]
     },
     "execution_count": 79,
     "metadata": {},
     "output_type": "execute_result"
    }
   ],
   "source": [
    "mapIdToIdx.get(764042476487217152,0)"
   ]
  },
  {
   "cell_type": "code",
   "execution_count": 80,
   "metadata": {},
   "outputs": [],
   "source": []
  },
  {
   "cell_type": "code",
   "execution_count": 16,
   "metadata": {},
   "outputs": [
    {
     "data": {
      "text/plain": [
       "618581"
      ]
     },
     "execution_count": 16,
     "metadata": {},
     "output_type": "execute_result"
    }
   ],
   "source": [
    "tweets_without_reply = num - sum(mapSentimentToRepliesCount.values())\n",
    "tweets_without_reply"
   ]
  },
  {
   "cell_type": "code",
   "execution_count": 15,
   "metadata": {},
   "outputs": [
    {
     "data": {
      "image/png": "[encoded data removed]",
      "text/plain": [
       "<Figure size 432x288 with 1 Axes>"
      ]
     },
     "metadata": {},
     "output_type": "display_data"
    }
   ],
   "source": [
    "TOTAL = sum(mapSentimentToRepliesCount.values())\n",
    " \n",
    "labels = ['Positive retweets', 'Negative retweets', 'Neutral retweets']\n",
    "sizes = [mapSentimentToRepliesCount['Positive']/TOTAL, mapSentimentToRepliesCount['Negative']/TOTAL, mapSentimentToRepliesCount['Neutral']/TOTAL]\n",
    "pie = plt.pie(sizes, labels=labels, shadow=True, autopct='%1.1f%%')\n",
    "plt.legend(pie[0], labels, loc=\"best\")\n",
    "\n",
    "plt.axis('equal')\n",
    "plt.tight_layout()\n",
    "plt.show()"
   ]
  },
  {
   "cell_type": "code",
   "execution_count": 84,
   "metadata": {},
   "outputs": [
    {
     "data": {
      "text/plain": [
       "49776"
      ]
     },
     "execution_count": 84,
     "metadata": {},
     "output_type": "execute_result"
    }
   ],
   "source": [
    "sumEmptyTweets = 0\n",
    "for i, tweet in enumerate(tweets_data):\n",
    "    if tweet['cleaned_text'] == \"\":\n",
    "        sumEmptyTweets += 1\n",
    "sumEmptyTweets"
   ]
  },
  {
   "cell_type": "code",
   "execution_count": null,
   "metadata": {},
   "outputs": [],
   "source": []
  }
 ],
 "metadata": {
  "kernelspec": {
   "display_name": "Python 3",
   "language": "python",
   "name": "python3"
  },
  "language_info": {
   "codemirror_mode": {
    "name": "ipython",
    "version": 3
   },
   "file_extension": ".py",
   "mimetype": "text/x-python",
   "name": "python",
   "nbconvert_exporter": "python",
   "pygments_lexer": "ipython3",
   "version": "3.6.5"
  }
 },
 "nbformat": 4,
 "nbformat_minor": 2
}

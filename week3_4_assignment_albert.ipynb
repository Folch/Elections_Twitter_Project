{
 "cells": [
  {
   "cell_type": "code",
   "execution_count": 132,
   "metadata": {},
   "outputs": [
    {
     "name": "stdout",
     "output_type": "stream",
     "text": [
      "[nltk_data] Downloading package movie_reviews to\n",
      "[nltk_data]     C:\\Users\\Albert\\AppData\\Roaming\\nltk_data...\n",
      "[nltk_data]   Package movie_reviews is already up-to-date!\n",
      "[nltk_data] Downloading package punkt to\n",
      "[nltk_data]     C:\\Users\\Albert\\AppData\\Roaming\\nltk_data...\n",
      "[nltk_data]   Package punkt is already up-to-date!\n"
     ]
    },
    {
     "data": {
      "text/plain": [
       "True"
      ]
     },
     "execution_count": 132,
     "metadata": {},
     "output_type": "execute_result"
    }
   ],
   "source": [
    "import pandas as pd\n",
    "import json\n",
    "import time\n",
    "import matplotlib\n",
    "import matplotlib.pyplot as plt\n",
    "import re\n",
    "import numpy as np\n",
    "from nltk.tokenize import RegexpTokenizer\n",
    "import nltk\n",
    "# Import all the libraries required\n",
    "import os\n",
    "import pandas as pd\n",
    "import matplotlib.cm as cm\n",
    "from matplotlib.colors import rgb2hex\n",
    "from descartes import PolygonPatch\n",
    "from shapely.geometry import Polygon, MultiPolygon\n",
    "from textblob import TextBlob\n",
    "from textblob.sentiments import NaiveBayesAnalyzer\n",
    "import nltk\n",
    "nltk.download('movie_reviews')\n",
    "nltk.download('punkt')"
   ]
  },
  {
   "cell_type": "code",
   "execution_count": 2,
   "metadata": {},
   "outputs": [],
   "source": [
    "#tweets_data = []\n",
    "#\n",
    "##with open('tweets_reduced_10000.jsons', 'r') as tweets_file:\n",
    "#with open('geotagged_tweets_20160812-0912.jsons', 'r') as tweets_file:\n",
    "##with open('customTweets.jsons', 'r') as tweets_file:\n",
    "#    for line in tweets_file:\n",
    "#        try:\n",
    "#            tweet = json.loads(line)\n",
    "#            tweets_data.append(tweet)\n",
    "#        except Exception as e:\n",
    "#            print (e)\n",
    "#            continue"
   ]
  },
  {
   "cell_type": "code",
   "execution_count": 83,
   "metadata": {},
   "outputs": [],
   "source": [
    "tweets_data = []\n",
    "\n",
    "#with open('tweets_reduced_10000.jsons', 'r') as tweets_file:\n",
    "#with open('geotagged_tweets_20160812-0912.jsons', 'r') as tweets_file:\n",
    "#with open('customTweets.jsons', 'r') as tweets_file:\n",
    "#with open('customTweetsWithSentiment.jsons', 'r') as tweets_file:\n",
    "with open('customTweetsWithSentiment2.jsons', 'r') as tweets_file:\n",
    "#with open('customTweetsWithSentimentWithNotEmptyCleanedText.jsons', 'r') as tweets_file:\n",
    "    for line in tweets_file:\n",
    "        try:\n",
    "            tweet = json.loads(line)\n",
    "            tweets_data.append(tweet)\n",
    "        except Exception as e:\n",
    "            print (e)\n",
    "            continue"
   ]
  },
  {
   "cell_type": "code",
   "execution_count": 5,
   "metadata": {},
   "outputs": [
    {
     "name": "stdout",
     "output_type": "stream",
     "text": [
      "Negative\n"
     ]
    }
   ],
   "source": [
    "print(tweets_data[0]['sentiment'])"
   ]
  },
  {
   "cell_type": "code",
   "execution_count": 3,
   "metadata": {},
   "outputs": [],
   "source": [
    "tweetsIdAndRetweetCount = []\n",
    "\n",
    "#with open('tweets_reduced_10000.jsons', 'r') as tweets_file:\n",
    "with open('geotagged_tweets_20160812-0912.jsons', 'r') as tweets_file:\n",
    "#with open('customTweets.jsons', 'r') as tweets_file:\n",
    "#with open('customTweetsWithSentiment.jsons', 'r') as tweets_file:\n",
    "#with open('tweetsIdAndRetweetCount.jsons', 'r') as tweets_file:\n",
    "    for line in tweets_file:\n",
    "        try:\n",
    "            tweet = json.loads(line)\n",
    "            tweetsIdAndRetweetCount.append(tweet)\n",
    "        except Exception as e:\n",
    "            print (e)\n",
    "            continue"
   ]
  },
  {
   "cell_type": "code",
   "execution_count": 183,
   "metadata": {},
   "outputs": [],
   "source": [
    " import json\n",
    " # with open('customTweetsWithSentiment2.jsons', 'w') as file:\n",
    "with open('customTweetsWithSentiment3.jsons', 'w') as file:\n",
    "    for i, tweet in enumerate(tweets_data):\n",
    "        twt = {}\n",
    "        twt['id'] = tweet['id']\n",
    "        twt['in_reply_to_status_id'] = tweet['in_reply_to_status_id']\n",
    "        twt['text'] =  tweet['text']\n",
    "        twt['place'] =  tweet['place']\n",
    "        twt['talk'] =  tweet['talk']\n",
    "        twt['cleaned_text'] =  tweet['cleaned_text']\n",
    "        if 'sentiment' in tweet:\n",
    "            twt['sentiment'] =  tweet['sentiment'] \n",
    "        twt['sentiment_num'] =  tweet['sentiment_num']\n",
    "        twt['talk_num'] =  tweet['talk_num']\n",
    "        if 'replies' in tweet:\n",
    "            twt['replies'] = tweet['replies']\n",
    "        file.write(json.dumps(twt) + '\\n')"
   ]
  },
  {
   "cell_type": "code",
   "execution_count": 84,
   "metadata": {},
   "outputs": [
    {
     "name": "stdout",
     "output_type": "stream",
     "text": [
      "{'hillary': False, 'trump': True}\n"
     ]
    }
   ],
   "source": [
    "def whoYouTalkAbout(tweetText):\n",
    "    tweetText = tweetText.lower()\n",
    "    keyWords = {\n",
    "        'hillary' : ['hillary', 'clinton', 'imwithher'],\n",
    "        'trump' : ['donald', 'trump']\n",
    "    }\n",
    "    talk = {\n",
    "        'hillary': False,\n",
    "        'trump': False\n",
    "    }\n",
    "    for candidate in talk.keys():\n",
    "        for word in keyWords[candidate]:\n",
    "            if word in tweetText:\n",
    "                talk[candidate] = True\n",
    "                break\n",
    "        \n",
    "    return talk\n",
    "\n",
    "answer = whoYouTalkAbout('@theblaze @realDonaldTrump bla bla https:\\/\\/t.co\\/TY9DlZ584c')\n",
    "print(answer)\n",
    "    \n",
    "#\n",
    "# probably talks about hillary:\n",
    "# @HillaryClinton\n",
    "# #hillaryclinton\n",
    "# #hillary\n",
    "# #crookedhillary\n",
    "# #imwithher\n",
    "# #neverhillary\n",
    "# \n",
    "# probably talks about trump:\n",
    "# @realDonaldTrump\n",
    "# #donaldtrump\n",
    "# #dumptrump\n",
    "# #nevertrump\n",
    "# #trump\n",
    "# #trumppence16\n",
    "# \n",
    "# neutral:\n",
    "# #maga\n",
    "#"
   ]
  },
  {
   "cell_type": "code",
   "execution_count": 85,
   "metadata": {},
   "outputs": [],
   "source": [
    "mapIdToIdx = {}\n",
    "for i, tweet in enumerate(tweets_data):\n",
    "    mapIdToIdx[tweet['id']] = i\n",
    "def getTweetThatThisIsAnsweringTo(tweetIdToFind, tweets):\n",
    "    global mapIdToIdx\n",
    "    idx = mapIdToIdx.get(tweetIdToFind,None)\n",
    "    return None if idx == None else tweets[idx]\n",
    "\n",
    "def evaluateTweet(idx, tweet):\n",
    "    global justHillary\n",
    "    global justTrump\n",
    "    global both\n",
    "    global neither\n",
    "    global error\n",
    "    global jt\n",
    "    \n",
    "    tweetText = tweet['text']\n",
    "    if tweetText == \"\":\n",
    "        error += 1\n",
    "        return\n",
    "    answer = whoYouTalkAbout(tweetText)\n",
    "    \n",
    "    if not answer['hillary'] and not answer['trump']:# if neither, check quoted_status['text']\n",
    "        if 'quoted_status' in tweet and tweet['quoted_status']['text'] != None:\n",
    "            tweetText = tweet['quoted_status']['text']\n",
    "            answer = whoYouTalkAbout(tweetText)\n",
    "        else:\n",
    "            in_reply_to_status_id = tweet['in_reply_to_status_id']\n",
    "            if in_reply_to_status_id != None:\n",
    "                tweet = getTweetThatThisIsAnsweringTo(in_reply_to_status_id, tweets_data)\n",
    "                if tweet != None:\n",
    "                    evaluateTweet(idx,tweet)\n",
    "                    return #ignore for now, next call to evaluateTweet should work\n",
    "            neither += 1\n",
    "            if neither < 5:\n",
    "                print(tweets_data[idx]['id'], tweetText)\n",
    "            tweets_data[idx]['talk'] = 'neither'\n",
    "            return\n",
    "    \n",
    "    if answer['hillary'] and answer['trump']:\n",
    "        both += 1\n",
    "        tweets_data[idx]['talk'] = 'both'\n",
    "    elif answer['hillary'] and not answer['trump']:\n",
    "        justHillary += 1\n",
    "        tweets_data[idx]['talk'] = 'hillary'\n",
    "    elif not answer['hillary'] and answer['trump']:\n",
    "        tweets_data[idx]['talk'] = 'trump'\n",
    "        justTrump  += 1\n",
    "        jt.append(idx)\n",
    "    else:\n",
    "        neither += 1\n",
    "        tweets_data[idx]['talk'] = 'neither'\n",
    "        if neither < 5:\n",
    "            print(tweets_data[idx]['id'], tweetText)\n",
    "        \n",
    "\n"
   ]
  },
  {
   "cell_type": "code",
   "execution_count": 86,
   "metadata": {},
   "outputs": [
    {
     "name": "stdout",
     "output_type": "stream",
     "text": [
      "764040263132180480 Come to Jesus meeting!!!! What on earth is that supposed to be? 😔 https://t.co/a3lOpTtFig\n",
      "764040676354908161 I don't hate Democrats. I hate the evil ideology of abortion and immigration they so proudly present as good America https://t.co/eR6GLDhj1M\n",
      "764040797318582272 Hey,stop using the media.If they are so biased against you don't use,print or cable. https://t.co/TOtgdmW7wC\n",
      "764040884086185984 Preach! https://t.co/0E1MDwU48r\n",
      "\n",
      "tweets that talk about both: 100658\n",
      "tweets that talk about trump: 354151\n",
      "tweets that talk about hillary: 139297\n",
      "tweets that talk about neither: 63201\n",
      "empty tweets: 0\n",
      "tweets that talk about trump num: 354151\n"
     ]
    }
   ],
   "source": [
    "justHillary = 0\n",
    "justTrump = 0\n",
    "both = 0\n",
    "neither = 0\n",
    "error = 0\n",
    "jt = []\n",
    "\n",
    "for i, tweet in enumerate(tweets_data):\n",
    "    evaluateTweet(i, tweet)\n",
    "            \n",
    "print('\\ntweets that talk about both: %d' % both)\n",
    "print('tweets that talk about trump: %d' % justTrump)\n",
    "print('tweets that talk about hillary: %d' % justHillary)\n",
    "print('tweets that talk about neither: %d' % neither)\n",
    "print('empty tweets: %d' % error)\n",
    "\n",
    "print('tweets that talk about trump num: %d' % len(jt))"
   ]
  },
  {
   "cell_type": "code",
   "execution_count": 65,
   "metadata": {},
   "outputs": [
    {
     "data": {
      "text/plain": [
       "354151"
      ]
     },
     "execution_count": 65,
     "metadata": {},
     "output_type": "execute_result"
    }
   ],
   "source": [
    "t = 0\n",
    "\n",
    "for i, tweet in enumerate(tweets_data):\n",
    "    if tweet['talk'] == 'trump':\n",
    "        t +=1\n",
    "        \n",
    "t"
   ]
  },
  {
   "cell_type": "code",
   "execution_count": 87,
   "metadata": {
    "scrolled": true
   },
   "outputs": [
    {
     "data": {
      "image/png": "[encoded data removed]",
      "text/plain": [
       "<Figure size 432x288 with 1 Axes>"
      ]
     },
     "metadata": {},
     "output_type": "display_data"
    }
   ],
   "source": [
    "TOTAL = len(tweets_data)\n",
    " \n",
    "labels = ['Both', 'Just Trump', 'Just Hillary', 'Neither']\n",
    "sizes = [both/TOTAL, justTrump/TOTAL, justHillary/TOTAL, neither/TOTAL]\n",
    "colors = ['yellowgreen', 'gold', 'lightskyblue', 'lightcoral']\n",
    "pie = plt.pie(sizes, labels=labels, shadow=True, autopct='%1.1f%%')\n",
    "plt.legend(pie[0], labels, loc=\"best\")\n",
    "\n",
    "plt.axis('equal')\n",
    "plt.tight_layout()\n",
    "plt.show()"
   ]
  },
  {
   "cell_type": "markdown",
   "metadata": {},
   "source": [
    "# Cleaning"
   ]
  },
  {
   "cell_type": "code",
   "execution_count": 88,
   "metadata": {},
   "outputs": [],
   "source": [
    "# A function that removes the hyperlinks from the tweet's content.\n",
    "def remove_link(tweet):\n",
    "    return re.sub(r\"http\\S+\", \"\", tweet)\n",
    "\n",
    "def remove_hashtags(tweet):\n",
    "    return re.sub('#', '', tweet)\n",
    "\n",
    "def remove_entire_hashtags(tweet):\n",
    "    return re.sub(r'(?:\\s|^)#[A-Za-z0-9\\-\\.\\_]+(?:\\s|$)', ' ', tweet).strip()\n",
    "\n",
    "def remove_mentions(tweet):\n",
    "    return \" \".join(re.sub(\"(?:\\@|https?\\://)\\S+\",\" \",tweet).split())\n",
    "\n",
    "\n",
    "def remove_non_az_characters(tweet):\n",
    "    return \" \".join(re.sub('[^a-zA-Z]',\" \",tweet).split())"
   ]
  },
  {
   "cell_type": "code",
   "execution_count": 89,
   "metadata": {},
   "outputs": [
    {
     "name": "stdout",
     "output_type": "stream",
     "text": [
      "Come to Jesus meeting!!!! What on earth is that supposed to be? 😔 https://t.co/a3lOpTtFig\n",
      "😔\n",
      "Come to Jesus meeting!!!! What on earth is that supposed to be?  https://t.co/a3lOpTtFig\n"
     ]
    }
   ],
   "source": [
    "# https://pypi.org/project/emoji/\n",
    "\n",
    "import emoji\n",
    "\n",
    "def extract_emojis(str):\n",
    "    return ''.join(c for c in str if c in emoji.UNICODE_EMOJI)\n",
    "\n",
    "def text_without_emojis(str):\n",
    "    return ''.join(c for c in str if c not in emoji.UNICODE_EMOJI)\n",
    "\n",
    "text_with_emoji = \"Come to Jesus meeting!!!! What on earth is that supposed to be? 😔 https://t.co/a3lOpTtFig\"\n",
    "print(text_with_emoji)\n",
    "print(extract_emojis(text_with_emoji))\n",
    "print(text_without_emojis(text_with_emoji))"
   ]
  },
  {
   "cell_type": "code",
   "execution_count": 157,
   "metadata": {},
   "outputs": [],
   "source": [
    "from nltk.corpus import stopwords \n",
    "from nltk.stem.wordnet import WordNetLemmatizer\n",
    "import string\n",
    "\n",
    "# Create a set of stopwords\n",
    "stop = set(stopwords.words('english'))\n",
    "\n",
    "# Create a set of punctuation words \n",
    "exclude = set(string.punctuation) \n",
    "\n",
    "# This is the function makeing the lemmatization\n",
    "lemma = WordNetLemmatizer()\n",
    "\n",
    "# In this function we perform the entire cleaning\n",
    "def clean(doc):\n",
    "    doc = doc.lower()\n",
    "    doc = remove_link(doc)\n",
    "    #print('without links:', doc)\n",
    "    doc = remove_mentions(doc)\n",
    "    #print('without mentions:', doc)\n",
    "    #doc = text_without_emojis(doc)\n",
    "    #print('without emojis:', doc)\n",
    "    doc = remove_entire_hashtags(doc)\n",
    "    #doc = remove_hashtags(doc)\n",
    "    #print('without hashtags:', doc)\n",
    "    stop_free = \" \".join([i for i in doc.lower().split() if i not in stop])\n",
    "    #print('stop free:', doc)\n",
    "    punc_free = ''.join(ch for ch in stop_free if ch not in exclude)\n",
    "    #print('punc_free:', doc)\n",
    "    normalized = \" \".join(lemma.lemmatize(word) for word in punc_free.split())\n",
    "    #print('normalized:', normalized)\n",
    "    normalized = remove_non_az_characters(normalized)\n",
    "    #print('non-az removed:', normalized)\n",
    "    normalized = \" \".join(word for word in normalized.split() if len(word) > 3)\n",
    "    return normalized"
   ]
  },
  {
   "cell_type": "code",
   "execution_count": 158,
   "metadata": {},
   "outputs": [
    {
     "data": {
      "text/plain": [
       "'waaaaayyyy much'"
      ]
     },
     "execution_count": 158,
     "metadata": {},
     "output_type": "execute_result"
    }
   ],
   "source": [
    "clean('@remy: This is @hello waaaaayyyy too much. For you!!!!!! #angry https://google.com 😔')"
   ]
  },
  {
   "cell_type": "code",
   "execution_count": 159,
   "metadata": {},
   "outputs": [],
   "source": [
    "for i, tweet in enumerate(tweets_data):\n",
    "    tweet['cleaned_text'] = clean(tweet['text'])\n",
    "    tweets_data[i] = tweet"
   ]
  },
  {
   "cell_type": "markdown",
   "metadata": {},
   "source": [
    "# Tokenizing"
   ]
  },
  {
   "cell_type": "code",
   "execution_count": null,
   "metadata": {},
   "outputs": [],
   "source": [
    "# lower-casing\n",
    "# removing all URLs & mentions & stop-words & tokens that consist only of non-alphanumeric characters (no emoticons) & short tokens (<3 characters)\n",
    "# filter out all non-English\n",
    "# remove very long conversations (>200 tweets) to avoid excessively long documents\n",
    "# filter out all re-tweets (i.e., reposting tweets posted by other users) (they serve more as an endorsement rather than an original content)"
   ]
  },
  {
   "cell_type": "code",
   "execution_count": 92,
   "metadata": {},
   "outputs": [],
   "source": [
    "from nltk.tokenize import TweetTokenizer\n",
    "\n",
    "tknzr = TweetTokenizer(strip_handles=True, reduce_len=True)"
   ]
  },
  {
   "cell_type": "code",
   "execution_count": 93,
   "metadata": {},
   "outputs": [
    {
     "data": {
      "text/plain": [
       "[':',\n",
       " 'This',\n",
       " 'is',\n",
       " 'waaayyy',\n",
       " 'too',\n",
       " 'much',\n",
       " '.',\n",
       " 'For',\n",
       " 'you',\n",
       " '!',\n",
       " '!',\n",
       " '!',\n",
       " '#angry',\n",
       " 'https://google.com']"
      ]
     },
     "execution_count": 93,
     "metadata": {},
     "output_type": "execute_result"
    }
   ],
   "source": [
    "s1 = '@remy: This is waaaaayyyy too much. For you!!!!!! #angry https://google.com'\n",
    "tknzr.tokenize(s1)"
   ]
  },
  {
   "cell_type": "code",
   "execution_count": 94,
   "metadata": {},
   "outputs": [
    {
     "data": {
      "text/plain": [
       "['remy', 'hello', 'waaayyy', 'much', 'you', 'angry', '😔']"
      ]
     },
     "execution_count": 94,
     "metadata": {},
     "output_type": "execute_result"
    }
   ],
   "source": [
    "tknzr.tokenize('remy hello waaaaayyyy much you angry 😔')"
   ]
  },
  {
   "cell_type": "markdown",
   "metadata": {},
   "source": [
    "# Generating training set"
   ]
  },
  {
   "cell_type": "code",
   "execution_count": 80,
   "metadata": {},
   "outputs": [
    {
     "data": {
      "text/html": [
       "<div>\n",
       "<style scoped>\n",
       "    .dataframe tbody tr th:only-of-type {\n",
       "        vertical-align: middle;\n",
       "    }\n",
       "\n",
       "    .dataframe tbody tr th {\n",
       "        vertical-align: top;\n",
       "    }\n",
       "\n",
       "    .dataframe thead th {\n",
       "        text-align: right;\n",
       "    }\n",
       "</style>\n",
       "<table border=\"1\" class=\"dataframe\">\n",
       "  <thead>\n",
       "    <tr style=\"text-align: right;\">\n",
       "      <th></th>\n",
       "      <th>candidate</th>\n",
       "      <th>candidate_confidence</th>\n",
       "      <th>relevant_yn</th>\n",
       "      <th>relevant_yn_confidence</th>\n",
       "      <th>sentiment</th>\n",
       "      <th>sentiment_confidence</th>\n",
       "      <th>subject_matter</th>\n",
       "      <th>subject_matter_confidence</th>\n",
       "      <th>candidate_gold</th>\n",
       "      <th>name</th>\n",
       "      <th>relevant_yn_gold</th>\n",
       "      <th>retweet_count</th>\n",
       "      <th>sentiment_gold</th>\n",
       "      <th>subject_matter_gold</th>\n",
       "      <th>text</th>\n",
       "      <th>tweet_coord</th>\n",
       "      <th>tweet_created</th>\n",
       "      <th>tweet_id</th>\n",
       "      <th>tweet_location</th>\n",
       "      <th>user_timezone</th>\n",
       "    </tr>\n",
       "    <tr>\n",
       "      <th>id</th>\n",
       "      <th></th>\n",
       "      <th></th>\n",
       "      <th></th>\n",
       "      <th></th>\n",
       "      <th></th>\n",
       "      <th></th>\n",
       "      <th></th>\n",
       "      <th></th>\n",
       "      <th></th>\n",
       "      <th></th>\n",
       "      <th></th>\n",
       "      <th></th>\n",
       "      <th></th>\n",
       "      <th></th>\n",
       "      <th></th>\n",
       "      <th></th>\n",
       "      <th></th>\n",
       "      <th></th>\n",
       "      <th></th>\n",
       "      <th></th>\n",
       "    </tr>\n",
       "  </thead>\n",
       "  <tbody>\n",
       "    <tr>\n",
       "      <th>1</th>\n",
       "      <td>No candidate mentioned</td>\n",
       "      <td>1.0</td>\n",
       "      <td>yes</td>\n",
       "      <td>1.0</td>\n",
       "      <td>Neutral</td>\n",
       "      <td>0.6578</td>\n",
       "      <td>None of the above</td>\n",
       "      <td>1.0000</td>\n",
       "      <td>NaN</td>\n",
       "      <td>I_Am_Kenzi</td>\n",
       "      <td>NaN</td>\n",
       "      <td>5</td>\n",
       "      <td>NaN</td>\n",
       "      <td>NaN</td>\n",
       "      <td>RT @NancyLeeGrahn: How did everyone feel about...</td>\n",
       "      <td>NaN</td>\n",
       "      <td>2015-08-07 09:54:46 -0700</td>\n",
       "      <td>629697200650592256</td>\n",
       "      <td>NaN</td>\n",
       "      <td>Quito</td>\n",
       "    </tr>\n",
       "    <tr>\n",
       "      <th>2</th>\n",
       "      <td>Scott Walker</td>\n",
       "      <td>1.0</td>\n",
       "      <td>yes</td>\n",
       "      <td>1.0</td>\n",
       "      <td>Positive</td>\n",
       "      <td>0.6333</td>\n",
       "      <td>None of the above</td>\n",
       "      <td>1.0000</td>\n",
       "      <td>NaN</td>\n",
       "      <td>PeacefulQuest</td>\n",
       "      <td>NaN</td>\n",
       "      <td>26</td>\n",
       "      <td>NaN</td>\n",
       "      <td>NaN</td>\n",
       "      <td>RT @ScottWalker: Didn't catch the full #GOPdeb...</td>\n",
       "      <td>NaN</td>\n",
       "      <td>2015-08-07 09:54:46 -0700</td>\n",
       "      <td>629697199560069120</td>\n",
       "      <td>NaN</td>\n",
       "      <td>NaN</td>\n",
       "    </tr>\n",
       "    <tr>\n",
       "      <th>3</th>\n",
       "      <td>No candidate mentioned</td>\n",
       "      <td>1.0</td>\n",
       "      <td>yes</td>\n",
       "      <td>1.0</td>\n",
       "      <td>Neutral</td>\n",
       "      <td>0.6629</td>\n",
       "      <td>None of the above</td>\n",
       "      <td>0.6629</td>\n",
       "      <td>NaN</td>\n",
       "      <td>PussssyCroook</td>\n",
       "      <td>NaN</td>\n",
       "      <td>27</td>\n",
       "      <td>NaN</td>\n",
       "      <td>NaN</td>\n",
       "      <td>RT @TJMShow: No mention of Tamir Rice and the ...</td>\n",
       "      <td>NaN</td>\n",
       "      <td>2015-08-07 09:54:46 -0700</td>\n",
       "      <td>629697199312482304</td>\n",
       "      <td>NaN</td>\n",
       "      <td>NaN</td>\n",
       "    </tr>\n",
       "    <tr>\n",
       "      <th>4</th>\n",
       "      <td>No candidate mentioned</td>\n",
       "      <td>1.0</td>\n",
       "      <td>yes</td>\n",
       "      <td>1.0</td>\n",
       "      <td>Positive</td>\n",
       "      <td>1.0000</td>\n",
       "      <td>None of the above</td>\n",
       "      <td>0.7039</td>\n",
       "      <td>NaN</td>\n",
       "      <td>MattFromTexas31</td>\n",
       "      <td>NaN</td>\n",
       "      <td>138</td>\n",
       "      <td>NaN</td>\n",
       "      <td>NaN</td>\n",
       "      <td>RT @RobGeorge: That Carly Fiorina is trending ...</td>\n",
       "      <td>NaN</td>\n",
       "      <td>2015-08-07 09:54:45 -0700</td>\n",
       "      <td>629697197118861312</td>\n",
       "      <td>Texas</td>\n",
       "      <td>Central Time (US &amp; Canada)</td>\n",
       "    </tr>\n",
       "    <tr>\n",
       "      <th>5</th>\n",
       "      <td>Donald Trump</td>\n",
       "      <td>1.0</td>\n",
       "      <td>yes</td>\n",
       "      <td>1.0</td>\n",
       "      <td>Positive</td>\n",
       "      <td>0.7045</td>\n",
       "      <td>None of the above</td>\n",
       "      <td>1.0000</td>\n",
       "      <td>NaN</td>\n",
       "      <td>sharonDay5</td>\n",
       "      <td>NaN</td>\n",
       "      <td>156</td>\n",
       "      <td>NaN</td>\n",
       "      <td>NaN</td>\n",
       "      <td>RT @DanScavino: #GOPDebate w/ @realDonaldTrump...</td>\n",
       "      <td>NaN</td>\n",
       "      <td>2015-08-07 09:54:45 -0700</td>\n",
       "      <td>629697196967903232</td>\n",
       "      <td>NaN</td>\n",
       "      <td>Arizona</td>\n",
       "    </tr>\n",
       "  </tbody>\n",
       "</table>\n",
       "</div>"
      ],
      "text/plain": [
       "                 candidate  candidate_confidence relevant_yn  \\\n",
       "id                                                             \n",
       "1   No candidate mentioned                   1.0         yes   \n",
       "2             Scott Walker                   1.0         yes   \n",
       "3   No candidate mentioned                   1.0         yes   \n",
       "4   No candidate mentioned                   1.0         yes   \n",
       "5             Donald Trump                   1.0         yes   \n",
       "\n",
       "    relevant_yn_confidence sentiment  sentiment_confidence     subject_matter  \\\n",
       "id                                                                              \n",
       "1                      1.0   Neutral                0.6578  None of the above   \n",
       "2                      1.0  Positive                0.6333  None of the above   \n",
       "3                      1.0   Neutral                0.6629  None of the above   \n",
       "4                      1.0  Positive                1.0000  None of the above   \n",
       "5                      1.0  Positive                0.7045  None of the above   \n",
       "\n",
       "    subject_matter_confidence candidate_gold             name  \\\n",
       "id                                                              \n",
       "1                      1.0000            NaN       I_Am_Kenzi   \n",
       "2                      1.0000            NaN    PeacefulQuest   \n",
       "3                      0.6629            NaN    PussssyCroook   \n",
       "4                      0.7039            NaN  MattFromTexas31   \n",
       "5                      1.0000            NaN       sharonDay5   \n",
       "\n",
       "   relevant_yn_gold  retweet_count sentiment_gold subject_matter_gold  \\\n",
       "id                                                                      \n",
       "1               NaN              5            NaN                 NaN   \n",
       "2               NaN             26            NaN                 NaN   \n",
       "3               NaN             27            NaN                 NaN   \n",
       "4               NaN            138            NaN                 NaN   \n",
       "5               NaN            156            NaN                 NaN   \n",
       "\n",
       "                                                 text tweet_coord  \\\n",
       "id                                                                  \n",
       "1   RT @NancyLeeGrahn: How did everyone feel about...         NaN   \n",
       "2   RT @ScottWalker: Didn't catch the full #GOPdeb...         NaN   \n",
       "3   RT @TJMShow: No mention of Tamir Rice and the ...         NaN   \n",
       "4   RT @RobGeorge: That Carly Fiorina is trending ...         NaN   \n",
       "5   RT @DanScavino: #GOPDebate w/ @realDonaldTrump...         NaN   \n",
       "\n",
       "                tweet_created            tweet_id tweet_location  \\\n",
       "id                                                                 \n",
       "1   2015-08-07 09:54:46 -0700  629697200650592256            NaN   \n",
       "2   2015-08-07 09:54:46 -0700  629697199560069120            NaN   \n",
       "3   2015-08-07 09:54:46 -0700  629697199312482304            NaN   \n",
       "4   2015-08-07 09:54:45 -0700  629697197118861312          Texas   \n",
       "5   2015-08-07 09:54:45 -0700  629697196967903232            NaN   \n",
       "\n",
       "                 user_timezone  \n",
       "id                              \n",
       "1                        Quito  \n",
       "2                          NaN  \n",
       "3                          NaN  \n",
       "4   Central Time (US & Canada)  \n",
       "5                      Arizona  "
      ]
     },
     "execution_count": 80,
     "metadata": {},
     "output_type": "execute_result"
    }
   ],
   "source": [
    "dataframe = pd.read_csv(\"Sentiment.csv\", sep=\",\", index_col='id')\n",
    "dataframe.head()"
   ]
  },
  {
   "cell_type": "code",
   "execution_count": 19,
   "metadata": {},
   "outputs": [
    {
     "data": {
      "text/html": [
       "<div>\n",
       "<style scoped>\n",
       "    .dataframe tbody tr th:only-of-type {\n",
       "        vertical-align: middle;\n",
       "    }\n",
       "\n",
       "    .dataframe tbody tr th {\n",
       "        vertical-align: top;\n",
       "    }\n",
       "\n",
       "    .dataframe thead th {\n",
       "        text-align: right;\n",
       "    }\n",
       "</style>\n",
       "<table border=\"1\" class=\"dataframe\">\n",
       "  <thead>\n",
       "    <tr style=\"text-align: right;\">\n",
       "      <th></th>\n",
       "      <th>sentiment</th>\n",
       "      <th>text</th>\n",
       "    </tr>\n",
       "    <tr>\n",
       "      <th>id</th>\n",
       "      <th></th>\n",
       "      <th></th>\n",
       "    </tr>\n",
       "  </thead>\n",
       "  <tbody>\n",
       "    <tr>\n",
       "      <th>1</th>\n",
       "      <td>Neutral</td>\n",
       "      <td>RT @NancyLeeGrahn: How did everyone feel about...</td>\n",
       "    </tr>\n",
       "    <tr>\n",
       "      <th>2</th>\n",
       "      <td>Positive</td>\n",
       "      <td>RT @ScottWalker: Didn't catch the full #GOPdeb...</td>\n",
       "    </tr>\n",
       "    <tr>\n",
       "      <th>3</th>\n",
       "      <td>Neutral</td>\n",
       "      <td>RT @TJMShow: No mention of Tamir Rice and the ...</td>\n",
       "    </tr>\n",
       "    <tr>\n",
       "      <th>4</th>\n",
       "      <td>Positive</td>\n",
       "      <td>RT @RobGeorge: That Carly Fiorina is trending ...</td>\n",
       "    </tr>\n",
       "    <tr>\n",
       "      <th>5</th>\n",
       "      <td>Positive</td>\n",
       "      <td>RT @DanScavino: #GOPDebate w/ @realDonaldTrump...</td>\n",
       "    </tr>\n",
       "  </tbody>\n",
       "</table>\n",
       "</div>"
      ],
      "text/plain": [
       "   sentiment                                               text\n",
       "id                                                             \n",
       "1    Neutral  RT @NancyLeeGrahn: How did everyone feel about...\n",
       "2   Positive  RT @ScottWalker: Didn't catch the full #GOPdeb...\n",
       "3    Neutral  RT @TJMShow: No mention of Tamir Rice and the ...\n",
       "4   Positive  RT @RobGeorge: That Carly Fiorina is trending ...\n",
       "5   Positive  RT @DanScavino: #GOPDebate w/ @realDonaldTrump..."
      ]
     },
     "execution_count": 19,
     "metadata": {},
     "output_type": "execute_result"
    }
   ],
   "source": [
    "dataframe = dataframe[['sentiment', 'text']]\n",
    "dataframe.head()"
   ]
  },
  {
   "cell_type": "code",
   "execution_count": 18,
   "metadata": {},
   "outputs": [],
   "source": [
    "#dataframe2 = dataframe\n",
    "#dataframe2['sentiment'].iloc[0] = np.array('bla')\n",
    "#dataframe2['text'].iloc[0] = np.array('text bla')\n",
    "#print(dataframe2.head())\n",
    "#del dataframe2"
   ]
  },
  {
   "cell_type": "code",
   "execution_count": 95,
   "metadata": {},
   "outputs": [],
   "source": [
    "training_set = []\n",
    "\n",
    "for index, row in dataframe.iterrows():\n",
    "    sentiment = row['sentiment']\n",
    "    tweet_text = row['text']\n",
    "    # cleaning\n",
    "    cleaned_text = clean(tweet_text)\n",
    "    # tokenizing\n",
    "    tokenized_tweet = tknzr.tokenize(cleaned_text)\n",
    "    \n",
    "    training_set.append((tokenized_tweet, sentiment))\n",
    "    "
   ]
  },
  {
   "cell_type": "code",
   "execution_count": 96,
   "metadata": {},
   "outputs": [],
   "source": [
    "# Get the separate words in tweets\n",
    "# Input:  A list of tweets\n",
    "# Output: A list of all words in the tweets\n",
    "def get_words_in_tweets(tweets):\n",
    "    all_words = []\n",
    "    for (words, sentiment) in tweets:\n",
    "        all_words.extend(words)\n",
    "    return all_words\n",
    "\n",
    "# Create a dictionary measuring word frequencies\n",
    "# Input: the list of words\n",
    "# Output: the frequency of those words apearing in tweets\n",
    "def get_word_features(wordlist):\n",
    "    wordlist = nltk.FreqDist(wordlist)\n",
    "    word_features = wordlist.keys()\n",
    "    # print (\"Word frequency list\\n\")\n",
    "    # pprint(wordlist)\n",
    "    return word_features\n"
   ]
  },
  {
   "cell_type": "code",
   "execution_count": 97,
   "metadata": {},
   "outputs": [],
   "source": [
    "word_features = get_word_features(get_words_in_tweets(training_set))\n",
    "\n",
    "# Construct our features based on which tweets contain which word\n",
    "def extract_features(document):\n",
    "    document_words = set(document)\n",
    "    features = {}\n",
    "    for word in word_features:\n",
    "        features[word] = (word in document_words)\n",
    "    return features"
   ]
  },
  {
   "cell_type": "code",
   "execution_count": 98,
   "metadata": {},
   "outputs": [],
   "source": [
    "# Here we apply the features we constructed to our tweets data.\n",
    "training_set = nltk.classify.apply_features(extract_features, training_set)"
   ]
  },
  {
   "cell_type": "code",
   "execution_count": 23,
   "metadata": {},
   "outputs": [],
   "source": [
    "# Printing the resulting training set shows the features we are going to pass to the classifier.\n",
    "# pprint(training_set)"
   ]
  },
  {
   "cell_type": "code",
   "execution_count": 99,
   "metadata": {},
   "outputs": [],
   "source": [
    "# This is the line of code that we use to train our classifier. Training is performed in a streamlined way so no output is visible.\n",
    "classifier = nltk.NaiveBayesClassifier.train(training_set)"
   ]
  },
  {
   "cell_type": "code",
   "execution_count": 100,
   "metadata": {},
   "outputs": [
    {
     "name": "stdout",
     "output_type": "stream",
     "text": [
      "Most Informative Features\n",
      "          donniewahlberg = True           Positi : Negati =     87.3 : 1.0\n",
      "              imwithhuck = True           Positi : Negati =     69.6 : 1.0\n",
      "               lrihendry = True           Positi : Negati =     63.7 : 1.0\n",
      "                libertyu = True           Positi : Negati =     46.8 : 1.0\n",
      "             wilberforce = True           Positi : Negati =     44.3 : 1.0\n",
      "            kimguilfoyle = True           Positi : Negati =     36.7 : 1.0\n",
      "                 forward = True           Positi : Negati =     35.2 : 1.0\n",
      "                    imho = True           Positi : Negati =     31.6 : 1.0\n",
      "            monaeltahawy = True           Negati : Positi =     29.1 : 1.0\n",
      "               obviously = True           Negati : Positi =     28.0 : 1.0\n",
      "              transcript = True           Neutra : Negati =     27.9 : 1.0\n",
      "               influence = True           Negati : Positi =     27.5 : 1.0\n",
      "                  makeup = True           Negati : Positi =     26.2 : 1.0\n",
      "                   punch = True           Negati : Positi =     24.0 : 1.0\n",
      "                    sets = True           Neutra : Negati =     22.5 : 1.0\n",
      "                   icymi = True           Neutra : Negati =     22.5 : 1.0\n",
      "                 raising = True           Positi : Neutra =     22.0 : 1.0\n",
      "                 enjoyed = True           Positi : Neutra =     21.1 : 1.0\n",
      "              rossramsey = True           Neutra : Negati =     20.7 : 1.0\n",
      "                   loved = True           Positi : Neutra =     19.4 : 1.0\n",
      "                  listen = True           Negati : Positi =     19.2 : 1.0\n",
      "                 merited = True           Neutra : Negati =     18.9 : 1.0\n",
      "             livetweeted = True           Neutra : Negati =     18.9 : 1.0\n",
      "       democraticdebates = True           Positi : Neutra =     18.9 : 1.0\n",
      "                 reminds = True           Negati : Positi =     17.9 : 1.0\n",
      "                   music = True           Negati : Neutra =     17.4 : 1.0\n",
      "                elevator = True           Negati : Neutra =     17.2 : 1.0\n",
      "                 thehill = True           Neutra : Negati =     17.1 : 1.0\n",
      "            goldietaylor = True           Neutra : Positi =     16.7 : 1.0\n",
      "               delivered = True           Positi : Negati =     16.5 : 1.0\n",
      "                   adult = True           Negati : Positi =     16.2 : 1.0\n",
      "               fantastic = True           Positi : Negati =     15.9 : 1.0\n",
      "None\n"
     ]
    }
   ],
   "source": [
    "print (classifier.show_most_informative_features(32))"
   ]
  },
  {
   "cell_type": "code",
   "execution_count": 101,
   "metadata": {
    "scrolled": true
   },
   "outputs": [
    {
     "name": "stdout",
     "output_type": "stream",
     "text": [
      "Negative\n"
     ]
    }
   ],
   "source": [
    "# The tweet we are about to classify\n",
    "tweet = 'This dish is horrible'\n",
    "print (classifier.classify(extract_features(tweet.split())))"
   ]
  },
  {
   "cell_type": "code",
   "execution_count": 187,
   "metadata": {},
   "outputs": [
    {
     "name": "stdout",
     "output_type": "stream",
     "text": [
      "neg\n"
     ]
    },
    {
     "data": {
      "text/plain": [
       "Sentiment(classification='neg', p_pos=0.35008478632074624, p_neg=0.6499152136792535)"
      ]
     },
     "execution_count": 187,
     "metadata": {},
     "output_type": "execute_result"
    }
   ],
   "source": [
    "sent          = TextBlob(\"This dish is horrible\", analyzer = NaiveBayesAnalyzer())\n",
    "print(sent.sentiment.classification)\n",
    "sent.sentiment"
   ]
  },
  {
   "cell_type": "code",
   "execution_count": 102,
   "metadata": {},
   "outputs": [
    {
     "name": "stdout",
     "output_type": "stream",
     "text": [
      "Negative\n"
     ]
    }
   ],
   "source": [
    "tweet = 'Ivo listens to horrendous electronic music'\n",
    "print (classifier.classify(extract_features(tweet.split())))"
   ]
  },
  {
   "cell_type": "code",
   "execution_count": 186,
   "metadata": {},
   "outputs": [
    {
     "name": "stdout",
     "output_type": "stream",
     "text": [
      "neg\n"
     ]
    },
    {
     "data": {
      "text/plain": [
       "Sentiment(classification='neg', p_pos=0.4883445582310797, p_neg=0.5116554417689199)"
      ]
     },
     "execution_count": 186,
     "metadata": {},
     "output_type": "execute_result"
    }
   ],
   "source": [
    "sent          = TextBlob(\"Ivo listens to horrendous electronic music\", analyzer = NaiveBayesAnalyzer())\n",
    "print(sent.sentiment.classification)\n",
    "sent.sentiment"
   ]
  },
  {
   "cell_type": "code",
   "execution_count": 103,
   "metadata": {},
   "outputs": [
    {
     "name": "stdout",
     "output_type": "stream",
     "text": [
      "Negative\n"
     ]
    }
   ],
   "source": [
    "tweet = \"Come to Jesus meeting!!!! What on earth is that supposed to be? 😔\"\n",
    "print (classifier.classify(extract_features(tweet.split())))"
   ]
  },
  {
   "cell_type": "code",
   "execution_count": 185,
   "metadata": {},
   "outputs": [
    {
     "name": "stdout",
     "output_type": "stream",
     "text": [
      "pos\n"
     ]
    },
    {
     "data": {
      "text/plain": [
       "Sentiment(classification='pos', p_pos=0.5917171731855415, p_neg=0.4082828268144588)"
      ]
     },
     "execution_count": 185,
     "metadata": {},
     "output_type": "execute_result"
    }
   ],
   "source": [
    "sent          = TextBlob(\"Come to Jesus meeting!!!! What on earth is that supposed to be? 😔\", analyzer = NaiveBayesAnalyzer())\n",
    "print(sent.sentiment.classification)\n",
    "sent.sentiment"
   ]
  },
  {
   "cell_type": "code",
   "execution_count": 104,
   "metadata": {},
   "outputs": [
    {
     "name": "stdout",
     "output_type": "stream",
     "text": [
      "Negative\n"
     ]
    }
   ],
   "source": [
    "tweet = \"I'm so happy today\"\n",
    "print (classifier.classify(extract_features(tweet.split())))"
   ]
  },
  {
   "cell_type": "code",
   "execution_count": 184,
   "metadata": {},
   "outputs": [
    {
     "name": "stdout",
     "output_type": "stream",
     "text": [
      "pos\n"
     ]
    },
    {
     "data": {
      "text/plain": [
       "Sentiment(classification='pos', p_pos=0.7367024460316827, p_neg=0.2632975539683174)"
      ]
     },
     "execution_count": 184,
     "metadata": {},
     "output_type": "execute_result"
    }
   ],
   "source": [
    "sent          = TextBlob(\"I'm so happy today\", analyzer = NaiveBayesAnalyzer())\n",
    "print(sent.sentiment.classification)\n",
    "sent.sentiment"
   ]
  },
  {
   "cell_type": "code",
   "execution_count": 188,
   "metadata": {},
   "outputs": [
    {
     "name": "stdout",
     "output_type": "stream",
     "text": [
      "pos\n"
     ]
    },
    {
     "data": {
      "text/plain": [
       "Sentiment(classification='pos', p_pos=0.5608742774566471, p_neg=0.4391257225433527)"
      ]
     },
     "execution_count": 188,
     "metadata": {},
     "output_type": "execute_result"
    }
   ],
   "source": [
    "sent          = TextBlob(\"I like math\", analyzer = NaiveBayesAnalyzer())\n",
    "print(sent.sentiment.classification)\n",
    "sent.sentiment"
   ]
  },
  {
   "cell_type": "markdown",
   "metadata": {},
   "source": [
    "The polarity score is a float within the range [-1.0, 1.0]. The subjectivity is a float within the range [0.0, 1.0] where 0.0 is very objective and 1.0 is very subjective."
   ]
  },
  {
   "cell_type": "code",
   "execution_count": 108,
   "metadata": {},
   "outputs": [
    {
     "name": "stdout",
     "output_type": "stream",
     "text": [
      "0.4357142857142857\n",
      "0.39166666666666666\n"
     ]
    }
   ],
   "source": [
    "testimonial = TextBlob(\"Textblob is amazingly simple to use. What great fun!\")\n",
    "print(testimonial.sentiment.subjectivity)\n",
    "print(testimonial.sentiment.polarity)"
   ]
  },
  {
   "cell_type": "markdown",
   "metadata": {},
   "source": [
    "negatiu [-1.0, -0.1]\n",
    "neutral [-0.1, +0.1]\n",
    "positiu [+0.1, +1.0]"
   ]
  },
  {
   "cell_type": "code",
   "execution_count": 144,
   "metadata": {},
   "outputs": [],
   "source": [
    "analyzerNaiveBayes = NaiveBayesAnalyzer()\n",
    "\n",
    "def getSentimentValue(txt):\n",
    "    global analyzerNaiveBayes\n",
    "    \n",
    "    sent = TextBlob(txt, analyzer = analyzerNaiveBayes)\n",
    "    val = sent.sentiment.classification\n",
    "    if val == 'neg':\n",
    "        return 'Negative'\n",
    "    if val == 'pos':\n",
    "        return 'Positive'\n",
    "    return 'Neutral'"
   ]
  },
  {
   "cell_type": "code",
   "execution_count": 160,
   "metadata": {},
   "outputs": [
    {
     "name": "stdout",
     "output_type": "stream",
     "text": [
      "Number of tweets positive:  426130\n",
      "Number of tweets neutral:  0\n",
      "Number of tweets negative:  231177\n"
     ]
    }
   ],
   "source": [
    "positive = 0\n",
    "negative = 0\n",
    "neutral = 0\n",
    "\n",
    "for i, tweet in enumerate(tweets_data):\n",
    "    text = tweet['cleaned_text']\n",
    "    sentimentText = getSentimentValue(text)\n",
    "    if sentimentText == 'Negative':\n",
    "        negative += 1\n",
    "    elif sentimentText == 'Positive':\n",
    "        positive += 1\n",
    "    else:\n",
    "        neutral += 1\n",
    "\n",
    "print('Number of tweets positive: ', positive)\n",
    "print('Number of tweets neutral: ', neutral)\n",
    "print('Number of tweets negative: ', negative)"
   ]
  },
  {
   "cell_type": "code",
   "execution_count": 134,
   "metadata": {},
   "outputs": [
    {
     "name": "stdout",
     "output_type": "stream",
     "text": [
      "neg\n"
     ]
    },
    {
     "data": {
      "text/plain": [
       "Sentiment(classification='neg', p_pos=0.325051595491348, p_neg=0.674948404508652)"
      ]
     },
     "execution_count": 134,
     "metadata": {},
     "output_type": "execute_result"
    }
   ],
   "source": [
    "sent          = TextBlob(\"@realDonaldTrump is such an asshole!! https://t.co/TAinjWbfZh\", analyzer = NaiveBayesAnalyzer())\n",
    "print(sent.sentiment.classification)\n",
    "sent.sentiment"
   ]
  },
  {
   "cell_type": "code",
   "execution_count": 138,
   "metadata": {},
   "outputs": [
    {
     "name": "stdout",
     "output_type": "stream",
     "text": [
      "neg\n"
     ]
    },
    {
     "data": {
      "text/plain": [
       "Sentiment(classification='neg', p_pos=0.2200817281023955, p_neg=0.7799182718976042)"
      ]
     },
     "execution_count": 138,
     "metadata": {},
     "output_type": "execute_result"
    }
   ],
   "source": [
    "sent          = TextBlob(\"Hey, check out our new Video!\", analyzer = NaiveBayesAnalyzer())\n",
    "print(sent.sentiment.classification)\n",
    "sent.sentiment"
   ]
  },
  {
   "cell_type": "code",
   "execution_count": 137,
   "metadata": {},
   "outputs": [
    {
     "name": "stdout",
     "output_type": "stream",
     "text": [
      "neg\n"
     ]
    },
    {
     "data": {
      "text/plain": [
       "Sentiment(classification='neg', p_pos=0.3048559624200577, p_neg=0.695144037579942)"
      ]
     },
     "execution_count": 137,
     "metadata": {},
     "output_type": "execute_result"
    }
   ],
   "source": [
    "sent          = TextBlob(clean(\"Hey, check out our new Video!\"), analyzer = NaiveBayesAnalyzer())\n",
    "print(sent.sentiment.classification)\n",
    "sent.sentiment"
   ]
  },
  {
   "cell_type": "code",
   "execution_count": 141,
   "metadata": {},
   "outputs": [
    {
     "data": {
      "text/plain": [
       "Sentiment(polarity=0.17045454545454544, subjectivity=0.45454545454545453)"
      ]
     },
     "execution_count": 141,
     "metadata": {},
     "output_type": "execute_result"
    }
   ],
   "source": [
    "sent          = TextBlob(\"Hey, check out our new Video!\")\n",
    "sent.sentiment"
   ]
  },
  {
   "cell_type": "code",
   "execution_count": 142,
   "metadata": {},
   "outputs": [
    {
     "data": {
      "text/plain": [
       "Sentiment(polarity=0.0, subjectivity=0.0)"
      ]
     },
     "execution_count": 142,
     "metadata": {},
     "output_type": "execute_result"
    }
   ],
   "source": [
    "sent          = TextBlob(clean(\"Hey, check out our new Video!\"))\n",
    "sent.sentiment"
   ]
  },
  {
   "cell_type": "markdown",
   "metadata": {},
   "source": [
    "## Are our tweets positive, negative or neutral?"
   ]
  },
  {
   "cell_type": "code",
   "execution_count": 146,
   "metadata": {},
   "outputs": [],
   "source": [
    "NUM_TWEETS = len(tweets_data) # len(tweets_data)"
   ]
  },
  {
   "cell_type": "code",
   "execution_count": 161,
   "metadata": {},
   "outputs": [
    {
     "name": "stdout",
     "output_type": "stream",
     "text": [
      "0\n",
      "10000\n",
      "20000\n",
      "30000\n",
      "40000\n",
      "50000\n",
      "60000\n",
      "70000\n",
      "80000\n",
      "90000\n",
      "100000\n",
      "110000\n",
      "120000\n",
      "130000\n",
      "140000\n",
      "150000\n",
      "160000\n",
      "170000\n",
      "180000\n",
      "190000\n",
      "200000\n",
      "210000\n",
      "220000\n",
      "230000\n",
      "240000\n",
      "250000\n",
      "260000\n",
      "270000\n",
      "280000\n",
      "290000\n",
      "300000\n",
      "310000\n",
      "320000\n",
      "330000\n",
      "340000\n",
      "350000\n",
      "360000\n",
      "370000\n",
      "380000\n",
      "390000\n",
      "400000\n",
      "410000\n",
      "420000\n",
      "430000\n",
      "440000\n",
      "450000\n",
      "460000\n",
      "470000\n",
      "480000\n",
      "490000\n",
      "500000\n",
      "510000\n",
      "520000\n",
      "530000\n",
      "540000\n",
      "550000\n",
      "560000\n",
      "570000\n",
      "580000\n",
      "590000\n",
      "600000\n",
      "610000\n",
      "620000\n",
      "630000\n",
      "640000\n",
      "650000\n"
     ]
    }
   ],
   "source": [
    "for i, tweet in enumerate(tweets_data[:NUM_TWEETS]):\n",
    "    if i % 10000 == 0:\n",
    "        print(i)\n",
    "    cleanedText = tweet['cleaned_text']\n",
    "    tweet['sentiment'] = getSentimentValue(cleanedText)#classifier.classify(extract_features(cleanedText.split()))"
   ]
  },
  {
   "cell_type": "code",
   "execution_count": 48,
   "metadata": {},
   "outputs": [
    {
     "name": "stdout",
     "output_type": "stream",
     "text": [
      "False\n"
     ]
    }
   ],
   "source": [
    "found = False\n",
    "for i, tweet in enumerate(tweets_data[:NUM_TWEETS]):\n",
    "    if 'sentiment' not in tweet:\n",
    "        print(i)\n",
    "        found = True\n",
    "        break\n",
    "print(found)"
   ]
  },
  {
   "cell_type": "code",
   "execution_count": 85,
   "metadata": {},
   "outputs": [],
   "source": [
    "tweets_data = [tweet for tweet in tweets_data if tweet['cleaned_text'] != \"\"]"
   ]
  },
  {
   "cell_type": "code",
   "execution_count": 86,
   "metadata": {},
   "outputs": [
    {
     "data": {
      "text/plain": [
       "607531"
      ]
     },
     "execution_count": 86,
     "metadata": {},
     "output_type": "execute_result"
    }
   ],
   "source": [
    "len(tweets_data)"
   ]
  },
  {
   "cell_type": "markdown",
   "metadata": {},
   "source": [
    "# Positivity - Negativity - Neutrality per state"
   ]
  },
  {
   "cell_type": "code",
   "execution_count": 162,
   "metadata": {},
   "outputs": [
    {
     "name": "stdout",
     "output_type": "stream",
     "text": [
      "426130 231177 0\n"
     ]
    }
   ],
   "source": [
    "positivesTweets = 0\n",
    "neutralTweets = 0\n",
    "negativesTweets = 0\n",
    "\n",
    "for i, tweet in enumerate(tweets_data[:NUM_TWEETS]):\n",
    "    sentiment = tweet['sentiment']\n",
    "    \n",
    "    if sentiment == 'Positive':\n",
    "        positivesTweets += 1\n",
    "        s = 1\n",
    "    elif sentiment == 'Negative':\n",
    "        negativesTweets += 1\n",
    "        s = -1\n",
    "    else:  # neutral\n",
    "        neutralTweets += 1\n",
    "        s = 0\n",
    "    tweets_data[i]['sentiment_num'] = s\n",
    "print(positivesTweets, negativesTweets, neutralTweets)\n",
    "\n",
    "mapStateToSentiment = {}\n",
    "for tweet in tweets_data[:NUM_TWEETS]:\n",
    "    if tweet['place'] == None:\n",
    "        continue\n",
    "    countryCode = tweet['place']['country_code']\n",
    "\n",
    "    city = tweet['place']['full_name']\n",
    "    if countryCode != 'US' or ',' not in city:\n",
    "        continue\n",
    "    cityAndState = city.split(',')\n",
    "    state = cityAndState[1].strip()\n",
    "    if len(state) != 2: # skip Philadelphia\n",
    "        continue\n",
    "    tweet['place']['state_name'] = state\n",
    "    s = tweet['sentiment_num']\n",
    "    if state not in mapStateToSentiment:\n",
    "        mapStateToSentiment[state] = 0\n",
    "    mapStateToSentiment[state] += s\n",
    "    \n",
    "values = mapStateToSentiment.values()\n",
    "min_sentiment = min(values)\n",
    "max_sentiment = max(values)"
   ]
  },
  {
   "cell_type": "code",
   "execution_count": 163,
   "metadata": {},
   "outputs": [
    {
     "data": {
      "text/plain": [
       "52"
      ]
     },
     "execution_count": 163,
     "metadata": {},
     "output_type": "execute_result"
    }
   ],
   "source": [
    "len(mapStateToSentiment.keys())"
   ]
  },
  {
   "cell_type": "code",
   "execution_count": 164,
   "metadata": {},
   "outputs": [
    {
     "data": {
      "text/plain": [
       "{'MO': 2065,\n",
       " 'LA': 1266,\n",
       " 'MD': 2065,\n",
       " 'CA': 19248,\n",
       " 'NJ': 3974,\n",
       " 'TX': 11423,\n",
       " 'MI': 2060,\n",
       " 'KY': 805,\n",
       " 'IA': 999,\n",
       " 'FL': 11771,\n",
       " 'MA': 3023,\n",
       " 'PA': 3900,\n",
       " 'VA': 2354,\n",
       " 'AZ': 3904,\n",
       " 'NY': 11143,\n",
       " 'UT': 574,\n",
       " 'OR': 1467,\n",
       " 'CT': 1027,\n",
       " 'SC': 1224,\n",
       " 'DE': 88,\n",
       " 'OK': 764,\n",
       " 'IL': 5940,\n",
       " 'TN': 2497,\n",
       " 'KS': 642,\n",
       " 'MS': 734,\n",
       " 'NC': 2876,\n",
       " 'GA': 2562,\n",
       " 'OH': 3115,\n",
       " 'MN': 1120,\n",
       " 'WI': 1350,\n",
       " 'ME': 565,\n",
       " 'CO': 1578,\n",
       " 'AR': 438,\n",
       " 'WA': 2800,\n",
       " 'RI': 504,\n",
       " 'NV': 2063,\n",
       " 'DC': 1531,\n",
       " 'NE': 296,\n",
       " 'WV': 252,\n",
       " 'IN': 1294,\n",
       " 'HI': 852,\n",
       " 'ID': 414,\n",
       " 'AL': 2401,\n",
       " 'NM': 725,\n",
       " 'NH': 946,\n",
       " 'VT': 70,\n",
       " 'ND': 27,\n",
       " 'MT': 90,\n",
       " 'SD': 105,\n",
       " 'AK': 202,\n",
       " 'WY': 42,\n",
       " 'Mo': -1}"
      ]
     },
     "execution_count": 164,
     "metadata": {},
     "output_type": "execute_result"
    }
   ],
   "source": [
    "mapStateToSentiment"
   ]
  },
  {
   "cell_type": "code",
   "execution_count": 165,
   "metadata": {},
   "outputs": [],
   "source": [
    "S_DIR = 'states_21basic/' \n",
    "BLUE = '#5599ff'\n",
    "\n",
    "with open(os.path.join(S_DIR, 'states.json')) as rf:    \n",
    "    data = json.load(rf)\n",
    "\n",
    "def displayUSMap(mapp, cmap = plt.cm.inferno):\n",
    "    fig = plt.figure(figsize=(20,10))\n",
    "    ax = fig.gca()\n",
    "    for feature in data['features']:\n",
    "        geometry = feature['geometry']\n",
    "        props = feature['properties']\n",
    "        NAME = props['STATE_ABBR']\n",
    "        POP = mapp.get(NAME,0)\n",
    "        norm = matplotlib.colors.Normalize(vmin=min_sentiment, vmax=max_sentiment)\n",
    "        col = cmap(norm(POP))\n",
    "        #print(NAME,POP,col)\n",
    "        if geometry['type'] == 'Polygon':\n",
    "            poly = geometry\n",
    "            ppatch = PolygonPatch(poly, fc=col, ec=col,  alpha=0.5, zorder=2)\n",
    "            ax.add_patch(ppatch)\n",
    "        elif geometry['type'] == 'MultiPolygon':\n",
    "            for polygon in geometry['coordinates'][0]:\n",
    "                poly = Polygon(polygon)\n",
    "                ppatch = PolygonPatch(poly, fc=col, ec=col, alpha=0.5, zorder=2)\n",
    "                ax.add_patch(ppatch)\n",
    "        else:\n",
    "            print('Don\\'t know how to draw :', geometry['type'])\n",
    "\n",
    "    ax.axis('scaled')\n",
    "    plt.axis('off')\n",
    "    plt.show()"
   ]
  },
  {
   "cell_type": "code",
   "execution_count": 166,
   "metadata": {},
   "outputs": [
    {
     "data": {
      "image/png": "[encoded data removed]",
      "text/plain": [
       "<Figure size 1440x720 with 1 Axes>"
      ]
     },
     "metadata": {},
     "output_type": "display_data"
    }
   ],
   "source": [
    "displayUSMap(mapStateToSentiment, plt.cm.inferno)"
   ]
  },
  {
   "cell_type": "markdown",
   "metadata": {},
   "source": [
    "# Hillary vs Trump?"
   ]
  },
  {
   "cell_type": "code",
   "execution_count": 167,
   "metadata": {},
   "outputs": [],
   "source": [
    "for i, tweet in enumerate(tweets_data[:NUM_TWEETS]):\n",
    "    talk = tweet['talk']\n",
    "    if talk == 'hillary':\n",
    "        s = 1\n",
    "    elif talk == 'trump':\n",
    "        s = -1\n",
    "    elif talk == 'both':\n",
    "        s = 0\n",
    "    else:  # neutral\n",
    "        s = None\n",
    "    tweets_data[i]['talk_num'] = s\n",
    "\n",
    "mapStateToTalk = {}\n",
    "for tweet in tweets_data[:NUM_TWEETS]:\n",
    "    if tweet['place'] == None:\n",
    "        continue\n",
    "    countryCode = tweet['place']['country_code']\n",
    "    city = tweet['place']['full_name']\n",
    "    if countryCode != 'US' or ',' not in city:\n",
    "        continue\n",
    "    cityAndState = city.split(',')\n",
    "    state = cityAndState[1].strip()\n",
    "    if len(state) != 2: # skip Philadelphia\n",
    "        continue\n",
    "    tweet['place']['state_name'] = state\n",
    "    s = tweet['talk_num']\n",
    "    #print(s)\n",
    "    if s == None:\n",
    "        continue\n",
    "    if state not in mapStateToTalk:\n",
    "        mapStateToTalk[state] = 0\n",
    "    \n",
    "    mapStateToTalk[state] += s\n",
    "\n",
    "\n",
    "values = mapStateToTalk.values()\n",
    "\n",
    "min_talk = min(values)\n",
    "max_talk = max(values)"
   ]
  },
  {
   "cell_type": "code",
   "execution_count": 181,
   "metadata": {},
   "outputs": [
    {
     "data": {
      "image/png": "[encoded data removed]",
      "text/plain": [
       "<Figure size 1440x720 with 1 Axes>"
      ]
     },
     "metadata": {},
     "output_type": "display_data"
    }
   ],
   "source": [
    "displayUSMap(mapStateToTalk)"
   ]
  },
  {
   "cell_type": "code",
   "execution_count": 180,
   "metadata": {},
   "outputs": [
    {
     "name": "stdout",
     "output_type": "stream",
     "text": [
      "-21766 -1\n"
     ]
    }
   ],
   "source": [
    "print(min_talk, max_talk)"
   ]
  },
  {
   "cell_type": "code",
   "execution_count": 170,
   "metadata": {},
   "outputs": [
    {
     "data": {
      "text/plain": [
       "{'MO': -1741,\n",
       " 'LA': -1680,\n",
       " 'MD': -4188,\n",
       " 'CA': -21766,\n",
       " 'NJ': -4609,\n",
       " 'TX': -12196,\n",
       " 'MI': -2854,\n",
       " 'KY': -1107,\n",
       " 'IA': -630,\n",
       " 'FL': -12823,\n",
       " 'MA': -3863,\n",
       " 'VA': -1852,\n",
       " 'AZ': -5527,\n",
       " 'NY': -14978,\n",
       " 'UT': -706,\n",
       " 'OR': -2636,\n",
       " 'CT': -1244,\n",
       " 'PA': -4566,\n",
       " 'SC': -903,\n",
       " 'DE': -126,\n",
       " 'OK': -786,\n",
       " 'IL': -6191,\n",
       " 'TN': -2722,\n",
       " 'KS': -972,\n",
       " 'NC': -2888,\n",
       " 'GA': -2625,\n",
       " 'OH': -3334,\n",
       " 'MN': -1083,\n",
       " 'WI': -1443,\n",
       " 'ME': -465,\n",
       " 'MS': -398,\n",
       " 'AR': -313,\n",
       " 'WA': -3777,\n",
       " 'RI': -484,\n",
       " 'NV': -1889,\n",
       " 'DC': -1469,\n",
       " 'CO': -578,\n",
       " 'NE': -738,\n",
       " 'WV': -628,\n",
       " 'IN': -1371,\n",
       " 'HI': -1046,\n",
       " 'ID': -526,\n",
       " 'AL': -3209,\n",
       " 'NM': -932,\n",
       " 'NH': -646,\n",
       " 'VT': -63,\n",
       " 'ND': -84,\n",
       " 'MT': -81,\n",
       " 'SD': -123,\n",
       " 'AK': -331,\n",
       " 'WY': -66,\n",
       " 'Mo': -1}"
      ]
     },
     "execution_count": 170,
     "metadata": {},
     "output_type": "execute_result"
    }
   ],
   "source": [
    "mapStateToTalk"
   ]
  },
  {
   "cell_type": "code",
   "execution_count": 46,
   "metadata": {},
   "outputs": [],
   "source": [
    "# import json\n",
    "# \n",
    "# with open('customTweetsWithSentiment.jsons', 'w') as file:\n",
    "#     for i, tweet in enumerate(tweets_data):\n",
    "#         file.write(json.dumps(tweet) + '\\n')"
   ]
  },
  {
   "cell_type": "markdown",
   "metadata": {},
   "source": [
    "# Which kind of tweets are replied the most? (Albert) Are neutral tweet more or less likely to be replied than positive and negative tweets?"
   ]
  },
  {
   "cell_type": "code",
   "execution_count": 1,
   "metadata": {},
   "outputs": [],
   "source": [
    "# tweet1 - positive = 2\n",
    "# \ttweet2 - negative = 0\n",
    "# \ttweet3 - negative = 1\n",
    "# \t\ttweet4 - neutral = 1\n",
    "# \t\t\ttweet6 - positive = 0\n",
    "# \n",
    "# tweet5 - negative = 0"
   ]
  },
  {
   "cell_type": "code",
   "execution_count": 14,
   "metadata": {},
   "outputs": [],
   "source": [
    "tweets_test = [\n",
    "    {\n",
    "        'id': 1,\n",
    "        'in_reply_to_status_id': -1,\n",
    "        'sentiment':'Positive'\n",
    "    },\n",
    "    {\n",
    "        'id': 2,\n",
    "        'in_reply_to_status_id': 1,\n",
    "        'sentiment':'Negative'\n",
    "    },\n",
    "    {\n",
    "        'id': 3,\n",
    "        'in_reply_to_status_id': 1,\n",
    "        'sentiment':'Negative'\n",
    "    },\n",
    "    {\n",
    "        'id': 4,\n",
    "        'in_reply_to_status_id': 3,\n",
    "        'sentiment':'Neutral'\n",
    "    },\n",
    "    {\n",
    "        'id': 6,\n",
    "        'in_reply_to_status_id': 4,\n",
    "        'sentiment':'Neutral'\n",
    "    },\n",
    "    {\n",
    "        'id': 5,\n",
    "        'in_reply_to_status_id': -1,\n",
    "        'sentiment':'Negative'\n",
    "    },\n",
    "]"
   ]
  },
  {
   "cell_type": "code",
   "execution_count": 171,
   "metadata": {},
   "outputs": [],
   "source": [
    "mapSentimentToRepliesCount = {'Positive': 0, 'Negative': 0, 'Neutral': 0}\n",
    "\n",
    "def f(tweet, tweets, isParent):\n",
    "    id = tweet['id']\n",
    "    in_reply_to_status_id = tweet['in_reply_to_status_id']\n",
    "    sentiment = tweet['sentiment']\n",
    "    \n",
    "    parentTweet = getTweetThatThisIsAnsweringTo(in_reply_to_status_id, tweets)\n",
    "    if not(parentTweet == None or isParent == True): # parent found\n",
    "        f(parentTweet, tweets, True)\n",
    "    elif isParent == True:\n",
    "        mapSentimentToRepliesCount[sentiment] += 1\n",
    "        if 'replies' in tweet:\n",
    "            tweet['replies'] += 1\n",
    "        else:\n",
    "            tweet['replies'] = 1\n",
    "\n"
   ]
  },
  {
   "cell_type": "code",
   "execution_count": 172,
   "metadata": {},
   "outputs": [
    {
     "name": "stdout",
     "output_type": "stream",
     "text": [
      "0\n",
      "50000\n",
      "100000\n",
      "150000\n",
      "200000\n",
      "250000\n",
      "300000\n",
      "350000\n",
      "400000\n",
      "450000\n",
      "500000\n",
      "550000\n",
      "600000\n",
      "650000\n"
     ]
    },
    {
     "data": {
      "text/plain": [
       "{'Positive': 13007, 'Negative': 6356, 'Neutral': 0}"
      ]
     },
     "execution_count": 172,
     "metadata": {},
     "output_type": "execute_result"
    }
   ],
   "source": [
    "num = len(tweets_data)\n",
    "\n",
    "for i, tweet in enumerate(tweets_data[:num]):\n",
    "    f(tweet, tweets_data[:num], False)\n",
    "    if i%50000==0:\n",
    "        print(i)\n",
    "    \n",
    "    \n",
    "mapSentimentToRepliesCount"
   ]
  },
  {
   "cell_type": "code",
   "execution_count": 60,
   "metadata": {},
   "outputs": [
    {
     "data": {
      "text/plain": [
       "202073"
      ]
     },
     "execution_count": 60,
     "metadata": {},
     "output_type": "execute_result"
    }
   ],
   "source": [
    "i"
   ]
  },
  {
   "cell_type": "code",
   "execution_count": 11,
   "metadata": {},
   "outputs": [
    {
     "name": "stdout",
     "output_type": "stream",
     "text": [
      "0\n"
     ]
    }
   ],
   "source": [
    "for i, tweet in enumerate(tweets_data[:num]):\n",
    "    if 'replies' not in tweet:\n",
    "        print(i)\n",
    "        break"
   ]
  },
  {
   "cell_type": "code",
   "execution_count": 76,
   "metadata": {},
   "outputs": [
    {
     "data": {
      "text/plain": [
       "False"
      ]
     },
     "execution_count": 76,
     "metadata": {},
     "output_type": "execute_result"
    }
   ],
   "source": [
    "764042476487217152 in mapIdToIdx"
   ]
  },
  {
   "cell_type": "code",
   "execution_count": 78,
   "metadata": {},
   "outputs": [
    {
     "data": {
      "text/plain": [
       "0"
      ]
     },
     "execution_count": 78,
     "metadata": {},
     "output_type": "execute_result"
    }
   ],
   "source": [
    "mapIdToIdx.get(764042476487417152,0)"
   ]
  },
  {
   "cell_type": "code",
   "execution_count": 79,
   "metadata": {},
   "outputs": [
    {
     "data": {
      "text/plain": [
       "55"
      ]
     },
     "execution_count": 79,
     "metadata": {},
     "output_type": "execute_result"
    }
   ],
   "source": [
    "mapIdToIdx.get(764042476487217152,0)"
   ]
  },
  {
   "cell_type": "code",
   "execution_count": 80,
   "metadata": {},
   "outputs": [],
   "source": []
  },
  {
   "cell_type": "code",
   "execution_count": 173,
   "metadata": {},
   "outputs": [
    {
     "data": {
      "text/plain": [
       "637944"
      ]
     },
     "execution_count": 173,
     "metadata": {},
     "output_type": "execute_result"
    }
   ],
   "source": [
    "tweets_without_reply = num - sum(mapSentimentToRepliesCount.values())\n",
    "tweets_without_reply"
   ]
  },
  {
   "cell_type": "code",
   "execution_count": 174,
   "metadata": {},
   "outputs": [
    {
     "data": {
      "image/png": "[encoded data removed]",
      "text/plain": [
       "<Figure size 432x288 with 1 Axes>"
      ]
     },
     "metadata": {},
     "output_type": "display_data"
    }
   ],
   "source": [
    "TOTAL = sum(mapSentimentToRepliesCount.values())\n",
    " \n",
    "labels = ['Positive replies', 'Negative replies', 'Neutral replies']\n",
    "sizes = [mapSentimentToRepliesCount['Positive']/TOTAL, mapSentimentToRepliesCount['Negative']/TOTAL, mapSentimentToRepliesCount['Neutral']/TOTAL]\n",
    "pie = plt.pie(sizes, labels=labels, shadow=True, autopct='%1.1f%%')\n",
    "plt.legend(pie[0], labels, loc=\"best\")\n",
    "\n",
    "plt.axis('equal')\n",
    "plt.tight_layout()\n",
    "plt.show()"
   ]
  },
  {
   "cell_type": "code",
   "execution_count": 175,
   "metadata": {},
   "outputs": [
    {
     "data": {
      "text/plain": [
       "61580"
      ]
     },
     "execution_count": 175,
     "metadata": {},
     "output_type": "execute_result"
    }
   ],
   "source": [
    "sumEmptyTweets = 0\n",
    "for i, tweet in enumerate(tweets_data):\n",
    "    if tweet['cleaned_text'] == \"\":\n",
    "        sumEmptyTweets += 1\n",
    "sumEmptyTweets"
   ]
  },
  {
   "cell_type": "code",
   "execution_count": 176,
   "metadata": {},
   "outputs": [
    {
     "data": {
      "text/plain": [
       "{'Positive': 13007, 'Negative': 6356, 'Neutral': 0}"
      ]
     },
     "execution_count": 176,
     "metadata": {},
     "output_type": "execute_result"
    }
   ],
   "source": [
    "mapSentimentToRepliesCount"
   ]
  },
  {
   "cell_type": "markdown",
   "metadata": {},
   "source": [
    "## POSITIVE TRUMP  + NEGATIVE HILARY vs NEGATIVE TRUMP + POSITIVE HILLARY"
   ]
  },
  {
   "cell_type": "markdown",
   "metadata": {},
   "source": [
    "## pro Trump vs pro hillary"
   ]
  },
  {
   "cell_type": "code",
   "execution_count": 177,
   "metadata": {},
   "outputs": [
    {
     "name": "stdout",
     "output_type": "stream",
     "text": [
      "cleaned: 48072\n",
      "bothNeither: 163859\n",
      "trump: 354151\n"
     ]
    },
    {
     "data": {
      "text/plain": [
       "{'trump': {'Positive': 233547, 'Negative': 120604, 'Neutral': 0},\n",
       " 'hillary': {'Positive': 91624, 'Negative': 47673, 'Neutral': 0}}"
      ]
     },
     "execution_count": 177,
     "metadata": {},
     "output_type": "execute_result"
    }
   ],
   "source": [
    "mapSentimentToCandidate = {'trump': {'Positive':0, 'Negative':0, 'Neutral':0}, 'hillary':{'Positive':0, 'Negative':0, 'Neutral':0}}\n",
    "\n",
    "cleaned = 0\n",
    "bothNeither = 0\n",
    "trump = 0\n",
    "\n",
    "for i, tweet in enumerate(tweets_data):\n",
    "    candidate = tweet['talk']\n",
    "    sentiment = tweet['sentiment']\n",
    "    \n",
    "    if candidate == 'trump':\n",
    "        trump += 1\n",
    "        \n",
    "    if candidate not in mapSentimentToCandidate:\n",
    "        bothNeither += 1\n",
    "        continue\n",
    "        \n",
    "    if tweet['cleaned_text'] == \"\":\n",
    "        cleaned += 1\n",
    "    \n",
    "    mapSentimentToCandidate[candidate][sentiment] += 1\n",
    "    \n",
    "print('cleaned:', cleaned)\n",
    "print('bothNeither:', bothNeither)\n",
    "print('trump:', trump)\n",
    "mapSentimentToCandidate"
   ]
  },
  {
   "cell_type": "code",
   "execution_count": 16,
   "metadata": {},
   "outputs": [
    {
     "data": {
      "text/plain": [
       "657307"
      ]
     },
     "execution_count": 16,
     "metadata": {},
     "output_type": "execute_result"
    }
   ],
   "source": [
    "len(tweets_data)"
   ]
  },
  {
   "cell_type": "code",
   "execution_count": 178,
   "metadata": {},
   "outputs": [
    {
     "data": {
      "image/png": "[encoded data removed]",
      "text/plain": [
       "<Figure size 432x288 with 1 Axes>"
      ]
     },
     "metadata": {},
     "output_type": "display_data"
    }
   ],
   "source": [
    "TOTAL = sum(mapSentimentToCandidate['trump'].values())+sum(mapSentimentToCandidate['hillary'].values())\n",
    " \n",
    "labels = ['Pro Trump', 'Pro Hillary', 'Neutral Trump', 'Neutral Hillary']\n",
    "sizes = [\n",
    "    (mapSentimentToCandidate['trump']['Positive']+mapSentimentToCandidate['hillary']['Negative'])/TOTAL, \n",
    "         (mapSentimentToCandidate['hillary']['Positive']+mapSentimentToCandidate['trump']['Negative'])/TOTAL,\n",
    "    mapSentimentToCandidate['trump']['Neutral']/TOTAL, \n",
    "    mapSentimentToCandidate['hillary']['Neutral']/TOTAL\n",
    "        ]\n",
    "pie = plt.pie(sizes, labels=labels, shadow=True, autopct='%1.1f%%')\n",
    "plt.legend(pie[0], labels, loc=\"best\")\n",
    "\n",
    "plt.axis('equal')\n",
    "plt.tight_layout()\n",
    "plt.show()"
   ]
  },
  {
   "cell_type": "code",
   "execution_count": 189,
   "metadata": {},
   "outputs": [
    {
     "data": {
      "text/plain": [
       "{'MO': 785,\n",
       " 'LA': 548,\n",
       " 'MD': 1133,\n",
       " 'CA': 11138,\n",
       " 'NJ': 2934,\n",
       " 'TX': 3433,\n",
       " 'MI': 1266,\n",
       " 'KY': 389,\n",
       " 'IA': 1509,\n",
       " 'FL': 5983,\n",
       " 'MA': 1931,\n",
       " 'PA': 2104,\n",
       " 'VA': 2072,\n",
       " 'AZ': 2174,\n",
       " 'NY': 6761,\n",
       " 'UT': 372,\n",
       " 'OR': 1227,\n",
       " 'CT': 655,\n",
       " 'SC': 868,\n",
       " 'DE': 116,\n",
       " 'OK': 702,\n",
       " 'IL': 2724,\n",
       " 'TN': 913,\n",
       " 'KS': 246,\n",
       " 'MS': 516,\n",
       " 'NC': 1616,\n",
       " 'GA': 1516,\n",
       " 'OH': 2363,\n",
       " 'MN': 822,\n",
       " 'WI': 1020,\n",
       " 'ME': 201,\n",
       " 'CO': 1932,\n",
       " 'AR': 182,\n",
       " 'WA': 1466,\n",
       " 'RI': 362,\n",
       " 'NV': 1353,\n",
       " 'DC': 633,\n",
       " 'NE': 272,\n",
       " 'WV': 36,\n",
       " 'IN': 780,\n",
       " 'HI': 226,\n",
       " 'ID': 118,\n",
       " 'AL': -285,\n",
       " 'NM': 305,\n",
       " 'NH': 414,\n",
       " 'VT': 24,\n",
       " 'ND': 69,\n",
       " 'MT': 78,\n",
       " 'SD': 15,\n",
       " 'AK': 242,\n",
       " 'WY': 44,\n",
       " 'Mo': 1}"
      ]
     },
     "execution_count": 189,
     "metadata": {},
     "output_type": "execute_result"
    }
   ],
   "source": [
    "# pro trump = -1\n",
    "# pro hillary = +1\n",
    "mapStateToProTrumpProHillary = {}\n",
    "for tweet in tweets_data:\n",
    "    if tweet['place'] == None:\n",
    "        continue\n",
    "    countryCode = tweet['place']['country_code']\n",
    "    city = tweet['place']['full_name']\n",
    "    if countryCode != 'US' or ',' not in city:\n",
    "        continue\n",
    "    cityAndState = city.split(',')\n",
    "    state = cityAndState[1].strip()\n",
    "    if len(state) != 2: # skip Philadelphia\n",
    "        continue\n",
    "    tweet['place']['state_name'] = state\n",
    "    \n",
    "    #print(s)\n",
    "    if s == None:\n",
    "        continue\n",
    "    if state not in mapStateToProTrumpProHillary:\n",
    "        mapStateToProTrumpProHillary[state] = 0\n",
    "    \n",
    "    talk = tweet['talk']\n",
    "    sentiment = tweet['sentiment']\n",
    "    if (talk == 'trump' and sentiment == 'Positive') or (talk == 'hillary' and sentiment == 'Negative'):\n",
    "        val = -1\n",
    "    else:\n",
    "        val = 1\n",
    "    mapStateToProTrumpProHillary[state] += val\n",
    "\n",
    "mapStateToProTrumpProHillary"
   ]
  },
  {
   "cell_type": "code",
   "execution_count": 190,
   "metadata": {},
   "outputs": [
    {
     "data": {
      "image/png": "[encoded data removed]",
      "text/plain": [
       "<Figure size 1440x720 with 1 Axes>"
      ]
     },
     "metadata": {},
     "output_type": "display_data"
    }
   ],
   "source": [
    "displayUSMap(mapStateToProTrumpProHillary)"
   ]
  },
  {
   "cell_type": "markdown",
   "metadata": {},
   "source": [
    "## Proportional to number of tweets per state"
   ]
  },
  {
   "cell_type": "code",
   "execution_count": 238,
   "metadata": {},
   "outputs": [
    {
     "name": "stdout",
     "output_type": "stream",
     "text": [
      "mapStateToNumberOfTweets {'MO': 6303, 'LA': 4706, 'MD': 8999, 'CA': 67370, 'NJ': 15852, 'TX': 34437, 'MI': 8810, 'KY': 3081, 'IA': 3481, 'FL': 40241, 'MA': 11733, 'PA': 13804, 'VA': 9806, 'AZ': 14686, 'NY': 42179, 'UT': 2288, 'OR': 7045, 'CT': 3989, 'SC': 3992, 'DE': 482, 'OK': 3356, 'IL': 19672, 'TN': 7825, 'KS': 2358, 'MS': 2334, 'NC': 9832, 'GA': 8984, 'OH': 12235, 'MN': 3798, 'WI': 4414, 'ME': 1805, 'CO': 6520, 'AR': 1518, 'WA': 10764, 'RI': 2060, 'NV': 7155, 'DC': 4415, 'NE': 1594, 'WV': 1070, 'IN': 4822, 'HI': 2540, 'ID': 1402, 'AL': 6171, 'NM': 2601, 'NH': 2484, 'VT': 298, 'ND': 287, 'MT': 392, 'SD': 323, 'AK': 1030, 'WY': 358, 'Mo': 1}\n",
      "mapStateToNumberOfTweetsTrumpOnly {'MO': 3225, 'LA': 2472, 'MD': 5586, 'CA': 36046, 'NJ': 8326, 'MI': 4809, 'IA': 1184, 'VA': 4567, 'AZ': 8103, 'NY': 23235, 'UT': 1223, 'TX': 19039, 'SC': 1848, 'DE': 239, 'FL': 21330, 'MA': 6371, 'GA': 4639, 'PA': 7436, 'OH': 6278, 'NC': 5090, 'MN': 1940, 'WI': 2147, 'MS': 1069, 'AR': 730, 'CT': 2141, 'IL': 10597, 'TN': 4284, 'DC': 2391, 'CO': 2538, 'NE': 980, 'OK': 1623, 'WV': 762, 'IN': 2528, 'KS': 1399, 'WA': 5989, 'RI': 1022, 'ID': 815, 'AL': 3953, 'KY': 1745, 'NM': 1490, 'ME': 916, 'NV': 3555, 'NH': 1252, 'OR': 4120, 'ND': 145, 'MT': 187, 'SD': 199, 'AK': 565, 'VT': 153, 'HI': 1466, 'WY': 176, 'Mo': 1}\n",
      "mapStateToNumberOfTweetsHillaryOnly {'TX': 6843, 'FL': 8507, 'MA': 2508, 'OR': 1484, 'PA': 2870, 'KS': 427, 'MD': 1398, 'MO': 1484, 'CA': 14280, 'NJ': 3717, 'ME': 451, 'MI': 1955, 'NC': 2202, 'WA': 2212, 'WI': 704, 'RI': 538, 'OK': 837, 'TN': 1562, 'AZ': 2576, 'GA': 2014, 'OH': 2944, 'IL': 4406, 'VA': 2715, 'NY': 8257, 'DC': 922, 'CO': 1960, 'CT': 897, 'SC': 945, 'AL': 744, 'AR': 417, 'MS': 671, 'IA': 554, 'LA': 792, 'KY': 638, 'MN': 857, 'UT': 517, 'NM': 558, 'NV': 1666, 'NH': 606, 'HI': 420, 'IN': 1157, 'WV': 134, 'WY': 110, 'NE': 242, 'ID': 289, 'SD': 76, 'DE': 113, 'AK': 234, 'VT': 90, 'MT': 106, 'ND': 61}\n"
     ]
    }
   ],
   "source": [
    "mapStateToNumberOfTweets = {}\n",
    "mapStateToNumberOfTweetsTrumpOnly = {}\n",
    "mapStateToNumberOfTweetsHillaryOnly = {}\n",
    "\n",
    "for tweet in tweets_data:\n",
    "    if tweet['place'] == None:\n",
    "        continue\n",
    "    countryCode = tweet['place']['country_code']\n",
    "    city = tweet['place']['full_name']\n",
    "    candidate = tweet['talk']\n",
    "    if countryCode != 'US' or ',' not in city:\n",
    "        continue\n",
    "    cityAndState = city.split(',')\n",
    "    state = cityAndState[1].strip()\n",
    "    if len(state) != 2: # skip Philadelphia\n",
    "        continue\n",
    "    if state not in mapStateToNumberOfTweets:\n",
    "        mapStateToNumberOfTweets[state] = 0\n",
    "    if candidate == 'trump' and state not in mapStateToNumberOfTweetsTrumpOnly:\n",
    "        mapStateToNumberOfTweetsTrumpOnly[state] = 0\n",
    "    if candidate == 'hillary' and state not in mapStateToNumberOfTweetsHillaryOnly:\n",
    "        mapStateToNumberOfTweetsHillaryOnly[state] = 0 \n",
    "\n",
    "    if candidate == 'trump':\n",
    "        mapStateToNumberOfTweetsTrumpOnly[state] += 1\n",
    "    if candidate == 'hillary':\n",
    "        mapStateToNumberOfTweetsHillaryOnly[state] += 1\n",
    "    mapStateToNumberOfTweets[state] += 1\n",
    "    \n",
    "print('mapStateToNumberOfTweets', mapStateToNumberOfTweets)\n",
    "print('mapStateToNumberOfTweetsTrumpOnly', mapStateToNumberOfTweetsTrumpOnly)\n",
    "print('mapStateToNumberOfTweetsHillaryOnly', mapStateToNumberOfTweetsHillaryOnly)\n",
    "    "
   ]
  },
  {
   "cell_type": "code",
   "execution_count": 218,
   "metadata": {},
   "outputs": [
    {
     "data": {
      "text/plain": [
       "{'MO': 12454.386799936537,\n",
       " 'LA': 11644.708882277942,\n",
       " 'MD': 12590.287809756639,\n",
       " 'CA': 16532.58126762654,\n",
       " 'NJ': 18508.705526116577,\n",
       " 'TX': 9968.928768475767,\n",
       " 'MI': 14370.034052213394,\n",
       " 'KY': 12625.770853618955,\n",
       " 'IA': 43349.61218040793,\n",
       " 'FL': 14867.920777316667,\n",
       " 'MA': 16457.85391630444,\n",
       " 'PA': 15241.95885250652,\n",
       " 'VA': 21129.920456863147,\n",
       " 'AZ': 14803.213945253983,\n",
       " 'NY': 16029.303681927026,\n",
       " 'UT': 16258.741258741258,\n",
       " 'OR': 17416.607523066003,\n",
       " 'CT': 16420.15542742542,\n",
       " 'SC': 21743.486973947896,\n",
       " 'DE': 24066.390041493774,\n",
       " 'OK': 20917.75923718713,\n",
       " 'IL': 13847.09231394876,\n",
       " 'TN': 11667.73162939297,\n",
       " 'KS': 10432.569974554708,\n",
       " 'MS': 22107.96915167095,\n",
       " 'NC': 16436.12693246542,\n",
       " 'GA': 16874.443455031167,\n",
       " 'OH': 19313.44503473641,\n",
       " 'MN': 21642.969984202213,\n",
       " 'WI': 23108.29179882193,\n",
       " 'ME': 11135.73407202216,\n",
       " 'CO': 29631.9018404908,\n",
       " 'AR': 11989.459815546772,\n",
       " 'WA': 13619.472315124489,\n",
       " 'RI': 17572.81553398058,\n",
       " 'NV': 18909.85324947589,\n",
       " 'DC': 14337.485843714609,\n",
       " 'NE': 17063.989962358846,\n",
       " 'WV': 3364.4859813084113,\n",
       " 'IN': 16175.860638739112,\n",
       " 'HI': 8897.63779527559,\n",
       " 'ID': 8416.547788873038,\n",
       " 'AL': -4618.376276130287,\n",
       " 'NM': 11726.259131103421,\n",
       " 'NH': 16666.666666666668,\n",
       " 'VT': 8053.6912751677855,\n",
       " 'ND': 24041.811846689896,\n",
       " 'MT': 19897.95918367347,\n",
       " 'SD': 4643.962848297214,\n",
       " 'AK': 23495.14563106796,\n",
       " 'WY': 12290.50279329609,\n",
       " 'Mo': 100000.0}"
      ]
     },
     "execution_count": 218,
     "metadata": {},
     "output_type": "execute_result"
    }
   ],
   "source": [
    "mapStateToProTrumpProHillaryProportional = mapStateToProTrumpProHillary.copy()\n",
    "factor = 100000\n",
    "for state in mapStateToNumberOfTweets.keys():\n",
    "    mapStateToProTrumpProHillaryProportional[state] =factor* mapStateToProTrumpProHillary[state]/mapStateToNumberOfTweets[state]\n",
    "    \n",
    "mapStateToProTrumpProHillaryProportional"
   ]
  },
  {
   "cell_type": "code",
   "execution_count": 222,
   "metadata": {},
   "outputs": [
    {
     "data": {
      "image/png": "[encoded data removed]",
      "text/plain": [
       "<Figure size 1440x720 with 1 Axes>"
      ]
     },
     "metadata": {},
     "output_type": "display_data"
    }
   ],
   "source": [
    "from matplotlib.colors import LinearSegmentedColormap\n",
    "cdict1 = {\n",
    "\n",
    "         'green': ((0.0, 0.0, 0.0),\n",
    "                   (1.0, 0.0, 0.0)),\n",
    "\n",
    "         'blue':  ((0.0, 0.0, 1.0),\n",
    "                   (0.5, 0.1, 0.0),\n",
    "                   (1.0, 0.0, 0.0)),\n",
    "    \n",
    "        'red':   ((0.0, 0.0, 0.0),\n",
    "                   (0.5, 0.0, 0.1),\n",
    "                   (1.0, 1.0, 1.0))\n",
    "        }\n",
    "RedBlue = LinearSegmentedColormap('RedBlue', cdict1)\n",
    "displayUSMap(mapStateToProTrumpProHillaryProportional, RedBlue)"
   ]
  },
  {
   "cell_type": "code",
   "execution_count": 204,
   "metadata": {},
   "outputs": [
    {
     "data": {
      "image/png": "[encoded data removed]",
      "text/plain": [
       "<Figure size 1440x720 with 1 Axes>"
      ]
     },
     "metadata": {},
     "output_type": "display_data"
    }
   ],
   "source": [
    "displayUSMap(mapStateToProTrumpProHillaryProportional)"
   ]
  },
  {
   "cell_type": "markdown",
   "metadata": {},
   "source": [
    "## plotly"
   ]
  },
  {
   "cell_type": "code",
   "execution_count": 236,
   "metadata": {},
   "outputs": [
    {
     "data": {
      "text/html": [
       "<script>requirejs.config({paths: { 'plotly': ['https://cdn.plot.ly/plotly-latest.min']},});if(!window.Plotly) {{require(['plotly'],function(plotly) {window.Plotly=plotly;});}}</script>"
      ],
      "text/vnd.plotly.v1+html": [
       "<script>requirejs.config({paths: { 'plotly': ['https://cdn.plot.ly/plotly-latest.min']},});if(!window.Plotly) {{require(['plotly'],function(plotly) {window.Plotly=plotly;});}}</script>"
      ]
     },
     "metadata": {},
     "output_type": "display_data"
    },
    {
     "data": {
      "application/vnd.plotly.v1+json": {
       "data": [
        {
         "autocolorscale": false,
         "colorbar": {
          "title": "More positive means more prohillary"
         },
         "colorscale": [
          [
           0,
           "rgb(255,0,0)"
          ],
          [
           0.5,
           "rgb(255,255,255)"
          ],
          [
           1,
           "rgb(0,0,255)"
          ]
         ],
         "locationmode": "USA-states",
         "locations": [
          "MO",
          "LA",
          "MD",
          "CA",
          "NJ",
          "TX",
          "MI",
          "KY",
          "IA",
          "FL",
          "MA",
          "PA",
          "VA",
          "AZ",
          "NY",
          "UT",
          "OR",
          "CT",
          "SC",
          "DE",
          "OK",
          "IL",
          "TN",
          "KS",
          "MS",
          "NC",
          "GA",
          "OH",
          "MN",
          "WI",
          "ME",
          "CO",
          "AR",
          "WA",
          "RI",
          "NV",
          "DC",
          "NE",
          "WV",
          "IN",
          "HI",
          "ID",
          "AL",
          "NM",
          "NH",
          "VT",
          "ND",
          "MT",
          "SD",
          "AK",
          "WY",
          "Mo"
         ],
         "marker": {
          "line": {
           "color": "rgb(255,255,255)",
           "width": 2
          }
         },
         "text": "Result",
         "type": "choropleth",
         "uid": "4931bd40-c7c3-11e8-a054-54271e5d0a77",
         "z": [
          785,
          548,
          1133,
          11138,
          2934,
          3433,
          1266,
          389,
          1509,
          5983,
          1931,
          2104,
          2072,
          2174,
          6761,
          372,
          1227,
          655,
          868,
          116,
          702,
          2724,
          913,
          246,
          516,
          1616,
          1516,
          2363,
          822,
          1020,
          201,
          1932,
          182,
          1466,
          362,
          1353,
          633,
          272,
          36,
          780,
          226,
          118,
          -285,
          305,
          414,
          24,
          69,
          78,
          15,
          242,
          44,
          1
         ]
        }
       ],
       "layout": {
        "geo": {
         "lakecolor": "rgb(255, 255, 255)",
         "projection": {
          "type": "albers usa"
         },
         "scope": "usa",
         "showlakes": true
        },
        "title": "Pro Hillary vs Pro Trump"
       }
      },
      "text/html": [
       "<div id=\"3c4d3990-2f39-4373-ad0c-08370f08fc24\" style=\"height: 525px; width: 100%;\" class=\"plotly-graph-div\"></div><script type=\"text/javascript\">require([\"plotly\"], function(Plotly) { window.PLOTLYENV=window.PLOTLYENV || {};window.PLOTLYENV.BASE_URL=\"https://plot.ly\";Plotly.newPlot(\"3c4d3990-2f39-4373-ad0c-08370f08fc24\", [{\"autocolorscale\": false, \"colorbar\": {\"title\": \"More positive means more prohillary\"}, \"colorscale\": [[0.0, \"rgb(255,0,0)\"], [0.5, \"rgb(255,255,255)\"], [1.0, \"rgb(0,0,255)\"]], \"locationmode\": \"USA-states\", \"locations\": [\"MO\", \"LA\", \"MD\", \"CA\", \"NJ\", \"TX\", \"MI\", \"KY\", \"IA\", \"FL\", \"MA\", \"PA\", \"VA\", \"AZ\", \"NY\", \"UT\", \"OR\", \"CT\", \"SC\", \"DE\", \"OK\", \"IL\", \"TN\", \"KS\", \"MS\", \"NC\", \"GA\", \"OH\", \"MN\", \"WI\", \"ME\", \"CO\", \"AR\", \"WA\", \"RI\", \"NV\", \"DC\", \"NE\", \"WV\", \"IN\", \"HI\", \"ID\", \"AL\", \"NM\", \"NH\", \"VT\", \"ND\", \"MT\", \"SD\", \"AK\", \"WY\", \"Mo\"], \"marker\": {\"line\": {\"color\": \"rgb(255,255,255)\", \"width\": 2}}, \"text\": \"Result\", \"z\": [785, 548, 1133, 11138, 2934, 3433, 1266, 389, 1509, 5983, 1931, 2104, 2072, 2174, 6761, 372, 1227, 655, 868, 116, 702, 2724, 913, 246, 516, 1616, 1516, 2363, 822, 1020, 201, 1932, 182, 1466, 362, 1353, 633, 272, 36, 780, 226, 118, -285, 305, 414, 24, 69, 78, 15, 242, 44, 1], \"type\": \"choropleth\", \"uid\": \"4936c73a-c7c3-11e8-a195-54271e5d0a77\"}], {\"geo\": {\"lakecolor\": \"rgb(255, 255, 255)\", \"projection\": {\"type\": \"albers usa\"}, \"scope\": \"usa\", \"showlakes\": true}, \"title\": \"Pro Hillary vs Pro Trump\"}, {\"showLink\": true, \"linkText\": \"Export to plot.ly\"})});</script>"
      ],
      "text/vnd.plotly.v1+html": [
       "<div id=\"3c4d3990-2f39-4373-ad0c-08370f08fc24\" style=\"height: 525px; width: 100%;\" class=\"plotly-graph-div\"></div><script type=\"text/javascript\">require([\"plotly\"], function(Plotly) { window.PLOTLYENV=window.PLOTLYENV || {};window.PLOTLYENV.BASE_URL=\"https://plot.ly\";Plotly.newPlot(\"3c4d3990-2f39-4373-ad0c-08370f08fc24\", [{\"autocolorscale\": false, \"colorbar\": {\"title\": \"More positive means more prohillary\"}, \"colorscale\": [[0.0, \"rgb(255,0,0)\"], [0.5, \"rgb(255,255,255)\"], [1.0, \"rgb(0,0,255)\"]], \"locationmode\": \"USA-states\", \"locations\": [\"MO\", \"LA\", \"MD\", \"CA\", \"NJ\", \"TX\", \"MI\", \"KY\", \"IA\", \"FL\", \"MA\", \"PA\", \"VA\", \"AZ\", \"NY\", \"UT\", \"OR\", \"CT\", \"SC\", \"DE\", \"OK\", \"IL\", \"TN\", \"KS\", \"MS\", \"NC\", \"GA\", \"OH\", \"MN\", \"WI\", \"ME\", \"CO\", \"AR\", \"WA\", \"RI\", \"NV\", \"DC\", \"NE\", \"WV\", \"IN\", \"HI\", \"ID\", \"AL\", \"NM\", \"NH\", \"VT\", \"ND\", \"MT\", \"SD\", \"AK\", \"WY\", \"Mo\"], \"marker\": {\"line\": {\"color\": \"rgb(255,255,255)\", \"width\": 2}}, \"text\": \"Result\", \"z\": [785, 548, 1133, 11138, 2934, 3433, 1266, 389, 1509, 5983, 1931, 2104, 2072, 2174, 6761, 372, 1227, 655, 868, 116, 702, 2724, 913, 246, 516, 1616, 1516, 2363, 822, 1020, 201, 1932, 182, 1466, 362, 1353, 633, 272, 36, 780, 226, 118, -285, 305, 414, 24, 69, 78, 15, 242, 44, 1], \"type\": \"choropleth\", \"uid\": \"4936c73a-c7c3-11e8-a195-54271e5d0a77\"}], {\"geo\": {\"lakecolor\": \"rgb(255, 255, 255)\", \"projection\": {\"type\": \"albers usa\"}, \"scope\": \"usa\", \"showlakes\": true}, \"title\": \"Pro Hillary vs Pro Trump\"}, {\"showLink\": true, \"linkText\": \"Export to plot.ly\"})});</script>"
      ]
     },
     "metadata": {},
     "output_type": "display_data"
    }
   ],
   "source": [
    "import plotly.plotly as py\n",
    "from plotly.offline import iplot,init_notebook_mode\n",
    "init_notebook_mode(connected=True)\n",
    "\n",
    "scl = [[0.0, 'rgb(255,0,0)'],[0.5, 'rgb(255,255,255)'],\\\n",
    "            [1.0, 'rgb(0,0,255)']]\n",
    "\n",
    "# df['text'] = df['state'] + '<br>' +\\\n",
    "#     'Beef '+df['beef']+' Dairy '+df['dairy']+'<br>'+\\\n",
    "#     'Fruits '+df['total fruits']+' Veggies ' + df['total veggies']+'<br>'+\\\n",
    "#     'Wheat '+df['wheat']+' Corn '+df['corn']\n",
    "\n",
    "data = [ dict(\n",
    "        type='choropleth',\n",
    "        colorscale = scl,\n",
    "        autocolorscale = False,\n",
    "        locations = list(mapStateToProTrumpProHillary.keys()),\n",
    "        z = list(mapStateToProTrumpProHillary.values()),\n",
    "        locationmode = 'USA-states',\n",
    "        text = 'Result',\n",
    "        marker = dict(\n",
    "            line = dict (\n",
    "                color = 'rgb(255,255,255)',\n",
    "                width = 2\n",
    "            ) ),\n",
    "        colorbar = dict(\n",
    "            title = \"More positive means more prohillary\")\n",
    "        ) ]\n",
    "\n",
    "layout = dict(\n",
    "        title = 'Pro Hillary vs Pro Trump',\n",
    "        geo = dict(\n",
    "            scope='usa',\n",
    "            projection=dict( type='albers usa' ),\n",
    "            showlakes = True,\n",
    "            lakecolor = 'rgb(255, 255, 255)'),\n",
    "             )\n",
    "    \n",
    "fig = dict( data=data, layout=layout )\n",
    "iplot( fig, filename='d3-cloropleth-map' )"
   ]
  },
  {
   "cell_type": "markdown",
   "metadata": {},
   "source": [
    "## Ratio pos/neg Trump vs pos/neg Hillary"
   ]
  },
  {
   "cell_type": "code",
   "execution_count": 267,
   "metadata": {},
   "outputs": [],
   "source": [
    "mapStateToSentimentTrump = {}\n",
    "mapStateToSentimentHillary = {}\n",
    "\n",
    "# si num de tweets de trump o hillary son menors q X en un estat\n",
    "# ignorem aquell estat\n",
    "\n",
    "for tweet in tweets_data:\n",
    "    if tweet['place'] == None:\n",
    "        continue\n",
    "    countryCode = tweet['place']['country_code']\n",
    "    city = tweet['place']['full_name']\n",
    "    if countryCode != 'US' or ',' not in city:\n",
    "        continue\n",
    "    cityAndState = city.split(',')\n",
    "    state = cityAndState[1].strip()\n",
    "    if len(state) != 2: # skip Philadelphia\n",
    "        continue\n",
    "    candidate = tweet['talk']\n",
    "    sentiment = tweet['sentiment']\n",
    "    if candidate != 'trump' and candidate != 'hillary':\n",
    "        continue\n",
    "    if candidate == 'trump' and state not in mapStateToSentimentTrump:\n",
    "        mapStateToSentimentTrump[state] = {'Positive':0, 'Negative':0}\n",
    "    elif candidate == 'hillary' and state not in mapStateToSentimentHillary:\n",
    "        mapStateToSentimentHillary[state] = {'Positive':0, 'Negative':0}\n",
    "\n",
    "    if candidate == 'trump':\n",
    "        mapStateToSentimentTrump[state][sentiment] += 1\n",
    "    elif candidate == 'hillary':\n",
    "        mapStateToSentimentHillary[state][sentiment] += 1\n",
    "\n",
    "mapStateRatio = {}\n",
    "\n",
    "thresholdNotEnoughData = 100\n",
    "for state in mapStateToSentimentTrump.keys():\n",
    "    if state not in mapStateToSentimentHillary:\n",
    "        continue\n",
    "    \n",
    "    sentimentTrump = sum(mapStateToSentimentTrump[state].values())\n",
    "    sentimentHillary = sum(mapStateToSentimentHillary[state].values())\n",
    "    if sentimentTrump <= thresholdNotEnoughData or sentimentHillary <= thresholdNotEnoughData:\n",
    "        continue\n",
    "    \n",
    "    ratioTrump = mapStateToSentimentTrump[state]['Positive']/mapStateToSentimentTrump[state]['Negative']\n",
    "    ratioHillary = mapStateToSentimentHillary[state]['Positive']/mapStateToSentimentHillary[state]['Negative']\n",
    "    \n",
    "    mapStateRatio[state] = 0 if ratioTrump > ratioHillary else 1\n",
    "    #mapStateRatio[state] = ratioTrump - ratioHillary\n"
   ]
  },
  {
   "cell_type": "code",
   "execution_count": 268,
   "metadata": {},
   "outputs": [
    {
     "data": {
      "text/plain": [
       "{'MO': 0,\n",
       " 'LA': 0,\n",
       " 'MD': 1,\n",
       " 'CA': 1,\n",
       " 'NJ': 1,\n",
       " 'MI': 0,\n",
       " 'IA': 0,\n",
       " 'VA': 1,\n",
       " 'AZ': 0,\n",
       " 'NY': 1,\n",
       " 'UT': 1,\n",
       " 'TX': 0,\n",
       " 'SC': 0,\n",
       " 'DE': 1,\n",
       " 'FL': 0,\n",
       " 'MA': 1,\n",
       " 'GA': 0,\n",
       " 'PA': 0,\n",
       " 'OH': 1,\n",
       " 'NC': 1,\n",
       " 'MN': 1,\n",
       " 'WI': 1,\n",
       " 'MS': 1,\n",
       " 'AR': 0,\n",
       " 'CT': 1,\n",
       " 'IL': 1,\n",
       " 'TN': 0,\n",
       " 'DC': 1,\n",
       " 'CO': 1,\n",
       " 'NE': 1,\n",
       " 'OK': 0,\n",
       " 'WV': 0,\n",
       " 'IN': 1,\n",
       " 'KS': 0,\n",
       " 'WA': 0,\n",
       " 'RI': 0,\n",
       " 'ID': 0,\n",
       " 'AL': 0,\n",
       " 'KY': 0,\n",
       " 'NM': 1,\n",
       " 'ME': 0,\n",
       " 'NV': 1,\n",
       " 'NH': 1,\n",
       " 'OR': 1,\n",
       " 'MT': 0,\n",
       " 'AK': 1,\n",
       " 'HI': 0,\n",
       " 'WY': 0}"
      ]
     },
     "execution_count": 268,
     "metadata": {},
     "output_type": "execute_result"
    }
   ],
   "source": [
    "mapStateRatio"
   ]
  },
  {
   "cell_type": "code",
   "execution_count": 270,
   "metadata": {},
   "outputs": [
    {
     "data": {
      "text/html": [
       "<script>requirejs.config({paths: { 'plotly': ['https://cdn.plot.ly/plotly-latest.min']},});if(!window.Plotly) {{require(['plotly'],function(plotly) {window.Plotly=plotly;});}}</script>"
      ],
      "text/vnd.plotly.v1+html": [
       "<script>requirejs.config({paths: { 'plotly': ['https://cdn.plot.ly/plotly-latest.min']},});if(!window.Plotly) {{require(['plotly'],function(plotly) {window.Plotly=plotly;});}}</script>"
      ]
     },
     "metadata": {},
     "output_type": "display_data"
    },
    {
     "data": {
      "application/vnd.plotly.v1+json": {
       "data": [
        {
         "autocolorscale": false,
         "colorbar": {
          "title": "Blue = Hillary"
         },
         "colorscale": [
          [
           0,
           "rgb(255,0,0)"
          ],
          [
           0.5,
           "rgb(255,255,255)"
          ],
          [
           1,
           "rgb(0,0,255)"
          ]
         ],
         "locationmode": "USA-states",
         "locations": [
          "MO",
          "LA",
          "MD",
          "CA",
          "NJ",
          "MI",
          "IA",
          "VA",
          "AZ",
          "NY",
          "UT",
          "TX",
          "SC",
          "DE",
          "FL",
          "MA",
          "GA",
          "PA",
          "OH",
          "NC",
          "MN",
          "WI",
          "MS",
          "AR",
          "CT",
          "IL",
          "TN",
          "DC",
          "CO",
          "NE",
          "OK",
          "WV",
          "IN",
          "KS",
          "WA",
          "RI",
          "ID",
          "AL",
          "KY",
          "NM",
          "ME",
          "NV",
          "NH",
          "OR",
          "MT",
          "AK",
          "HI",
          "WY"
         ],
         "marker": {
          "line": {
           "color": "rgb(255,255,255)",
           "width": 2
          }
         },
         "text": "Result",
         "type": "choropleth",
         "uid": "c431322c-c7d4-11e8-915c-54271e5d0a77",
         "z": [
          0,
          0,
          1,
          1,
          1,
          0,
          0,
          1,
          0,
          1,
          1,
          0,
          0,
          1,
          0,
          1,
          0,
          0,
          1,
          1,
          1,
          1,
          1,
          0,
          1,
          1,
          0,
          1,
          1,
          1,
          0,
          0,
          1,
          0,
          0,
          0,
          0,
          0,
          0,
          1,
          0,
          1,
          1,
          1,
          0,
          1,
          0,
          0
         ]
        }
       ],
       "layout": {
        "geo": {
         "lakecolor": "rgb(255, 255, 255)",
         "projection": {
          "type": "albers usa"
         },
         "scope": "usa",
         "showlakes": true
        },
        "title": "Hillary vs Trump"
       }
      },
      "text/html": [
       "<div id=\"e25d7564-46cc-441d-8dc3-83f283ecda98\" style=\"height: 525px; width: 100%;\" class=\"plotly-graph-div\"></div><script type=\"text/javascript\">require([\"plotly\"], function(Plotly) { window.PLOTLYENV=window.PLOTLYENV || {};window.PLOTLYENV.BASE_URL=\"https://plot.ly\";Plotly.newPlot(\"e25d7564-46cc-441d-8dc3-83f283ecda98\", [{\"autocolorscale\": false, \"colorbar\": {\"title\": \"Blue = Hillary\"}, \"colorscale\": [[0.0, \"rgb(255,0,0)\"], [0.5, \"rgb(255,255,255)\"], [1.0, \"rgb(0,0,255)\"]], \"locationmode\": \"USA-states\", \"locations\": [\"MO\", \"LA\", \"MD\", \"CA\", \"NJ\", \"MI\", \"IA\", \"VA\", \"AZ\", \"NY\", \"UT\", \"TX\", \"SC\", \"DE\", \"FL\", \"MA\", \"GA\", \"PA\", \"OH\", \"NC\", \"MN\", \"WI\", \"MS\", \"AR\", \"CT\", \"IL\", \"TN\", \"DC\", \"CO\", \"NE\", \"OK\", \"WV\", \"IN\", \"KS\", \"WA\", \"RI\", \"ID\", \"AL\", \"KY\", \"NM\", \"ME\", \"NV\", \"NH\", \"OR\", \"MT\", \"AK\", \"HI\", \"WY\"], \"marker\": {\"line\": {\"color\": \"rgb(255,255,255)\", \"width\": 2}}, \"text\": \"Result\", \"z\": [0, 0, 1, 1, 1, 0, 0, 1, 0, 1, 1, 0, 0, 1, 0, 1, 0, 0, 1, 1, 1, 1, 1, 0, 1, 1, 0, 1, 1, 1, 0, 0, 1, 0, 0, 0, 0, 0, 0, 1, 0, 1, 1, 1, 0, 1, 0, 0], \"type\": \"choropleth\", \"uid\": \"c4363c2c-c7d4-11e8-bd30-54271e5d0a77\"}], {\"geo\": {\"lakecolor\": \"rgb(255, 255, 255)\", \"projection\": {\"type\": \"albers usa\"}, \"scope\": \"usa\", \"showlakes\": true}, \"title\": \"Hillary vs Trump\"}, {\"showLink\": true, \"linkText\": \"Export to plot.ly\"})});</script>"
      ],
      "text/vnd.plotly.v1+html": [
       "<div id=\"e25d7564-46cc-441d-8dc3-83f283ecda98\" style=\"height: 525px; width: 100%;\" class=\"plotly-graph-div\"></div><script type=\"text/javascript\">require([\"plotly\"], function(Plotly) { window.PLOTLYENV=window.PLOTLYENV || {};window.PLOTLYENV.BASE_URL=\"https://plot.ly\";Plotly.newPlot(\"e25d7564-46cc-441d-8dc3-83f283ecda98\", [{\"autocolorscale\": false, \"colorbar\": {\"title\": \"Blue = Hillary\"}, \"colorscale\": [[0.0, \"rgb(255,0,0)\"], [0.5, \"rgb(255,255,255)\"], [1.0, \"rgb(0,0,255)\"]], \"locationmode\": \"USA-states\", \"locations\": [\"MO\", \"LA\", \"MD\", \"CA\", \"NJ\", \"MI\", \"IA\", \"VA\", \"AZ\", \"NY\", \"UT\", \"TX\", \"SC\", \"DE\", \"FL\", \"MA\", \"GA\", \"PA\", \"OH\", \"NC\", \"MN\", \"WI\", \"MS\", \"AR\", \"CT\", \"IL\", \"TN\", \"DC\", \"CO\", \"NE\", \"OK\", \"WV\", \"IN\", \"KS\", \"WA\", \"RI\", \"ID\", \"AL\", \"KY\", \"NM\", \"ME\", \"NV\", \"NH\", \"OR\", \"MT\", \"AK\", \"HI\", \"WY\"], \"marker\": {\"line\": {\"color\": \"rgb(255,255,255)\", \"width\": 2}}, \"text\": \"Result\", \"z\": [0, 0, 1, 1, 1, 0, 0, 1, 0, 1, 1, 0, 0, 1, 0, 1, 0, 0, 1, 1, 1, 1, 1, 0, 1, 1, 0, 1, 1, 1, 0, 0, 1, 0, 0, 0, 0, 0, 0, 1, 0, 1, 1, 1, 0, 1, 0, 0], \"type\": \"choropleth\", \"uid\": \"c4363c2c-c7d4-11e8-bd30-54271e5d0a77\"}], {\"geo\": {\"lakecolor\": \"rgb(255, 255, 255)\", \"projection\": {\"type\": \"albers usa\"}, \"scope\": \"usa\", \"showlakes\": true}, \"title\": \"Hillary vs Trump\"}, {\"showLink\": true, \"linkText\": \"Export to plot.ly\"})});</script>"
      ]
     },
     "metadata": {},
     "output_type": "display_data"
    }
   ],
   "source": [
    "import plotly.plotly as py\n",
    "from plotly.offline import iplot,init_notebook_mode\n",
    "init_notebook_mode(connected=True)\n",
    "\n",
    "scl = [[0.0, 'rgb(255,0,0)'],[0.5, 'rgb(255,255,255)'],\\\n",
    "            [1.0, 'rgb(0,0,255)']]\n",
    "\n",
    "# df['text'] = df['state'] + '<br>' +\\\n",
    "#     'Beef '+df['beef']+' Dairy '+df['dairy']+'<br>'+\\\n",
    "#     'Fruits '+df['total fruits']+' Veggies ' + df['total veggies']+'<br>'+\\\n",
    "#     'Wheat '+df['wheat']+' Corn '+df['corn']\n",
    "\n",
    "data = [ dict(\n",
    "        type='choropleth',\n",
    "        colorscale = scl,\n",
    "        autocolorscale = False,\n",
    "        locations = list(mapStateRatio.keys()),\n",
    "        z = list(mapStateRatio.values()),\n",
    "        locationmode = 'USA-states',\n",
    "        text = 'Result',\n",
    "        marker = dict(\n",
    "            line = dict (\n",
    "                color = 'rgb(255,255,255)',\n",
    "                width = 2\n",
    "            ) ),\n",
    "        colorbar = dict(\n",
    "            title = \"Blue = Hillary\")\n",
    "        ) ]\n",
    "\n",
    "layout = dict(\n",
    "        title = 'Hillary vs Trump',\n",
    "        geo = dict(\n",
    "            scope='usa',\n",
    "            projection=dict( type='albers usa' ),\n",
    "            showlakes = True,\n",
    "            lakecolor = 'rgb(255, 255, 255)'),\n",
    "             )\n",
    "    \n",
    "fig = dict( data=data, layout=layout )\n",
    "iplot( fig, filename='d3-cloropleth-map' )"
   ]
  },
  {
   "cell_type": "markdown",
   "metadata": {},
   "source": [
    "## Tests"
   ]
  },
  {
   "cell_type": "code",
   "execution_count": 78,
   "metadata": {},
   "outputs": [
    {
     "data": {
      "text/plain": [
       "3743"
      ]
     },
     "execution_count": 78,
     "metadata": {},
     "output_type": "execute_result"
    }
   ],
   "source": [
    "emptyTweetsAfterBeingCleaned = 0\n",
    "\n",
    "for i, tweet in enumerate(tweets_data):\n",
    "    if tweet['cleaned_text'] == \"\":\n",
    "        emptyTweetsAfterBeingCleaned += 1\n",
    "        \n",
    "emptyTweetsAfterBeingCleaned"
   ]
  },
  {
   "cell_type": "code",
   "execution_count": 13,
   "metadata": {},
   "outputs": [
    {
     "data": {
      "text/plain": [
       "117475"
      ]
     },
     "execution_count": 13,
     "metadata": {},
     "output_type": "execute_result"
    }
   ],
   "source": [
    "s = 0\n",
    "\n",
    "for i, tweet in enumerate(tweets_data):\n",
    "    if tweet['talk'] == \"both\" or tweet['talk'] == \"neither\":\n",
    "        s += 1\n",
    "        \n",
    "s"
   ]
  }
 ],
 "metadata": {
  "kernelspec": {
   "display_name": "Python 3",
   "language": "python",
   "name": "python3"
  },
  "language_info": {
   "codemirror_mode": {
    "name": "ipython",
    "version": 3
   },
   "file_extension": ".py",
   "mimetype": "text/x-python",
   "name": "python",
   "nbconvert_exporter": "python",
   "pygments_lexer": "ipython3",
   "version": "3.6.5"
  }
 },
 "nbformat": 4,
 "nbformat_minor": 2
}
